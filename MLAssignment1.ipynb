{
  "nbformat": 4,
  "nbformat_minor": 0,
  "metadata": {
    "colab": {
      "name": "MLAssignment 1.ipynb",
      "version": "0.3.2",
      "provenance": [],
      "collapsed_sections": [],
      "include_colab_link": true
    },
    "kernelspec": {
      "name": "python3",
      "display_name": "Python 3"
    },
    "accelerator": "GPU"
  },
  "cells": [
    {
      "cell_type": "markdown",
      "metadata": {
        "id": "view-in-github",
        "colab_type": "text"
      },
      "source": [
        "[View in Colaboratory](https://colab.research.google.com/github/targoons/ML/blob/master/Machine_Learning_Assignment_1.ipynb)"
      ]
    },
    {
      "metadata": {
        "id": "abJ8gJu4dE0t",
        "colab_type": "text"
      },
      "cell_type": "markdown",
      "source": [
        "# MsCA 31009 - Machine Learning and Predictive Analytics\n",
        "\n",
        "## Assignment 1 - Regression with Normal Equation\n",
        "\n",
        "**Targoon Siripanichpong**"
      ]
    },
    {
      "metadata": {
        "id": "07AdlzCZvP7-",
        "colab_type": "text"
      },
      "cell_type": "markdown",
      "source": [
        "### Import files and libraries."
      ]
    },
    {
      "metadata": {
        "id": "Y1LX4wIf40NN",
        "colab_type": "code",
        "colab": {}
      },
      "cell_type": "code",
      "source": [
        "import pandas as pd\n",
        "import numpy as np\n",
        "from sklearn.metrics import mean_squared_error\n",
        "from sklearn.linear_model import LinearRegression\n",
        "from sklearn.model_selection import train_test_split\n",
        "import matplotlib.pyplot as plt\n",
        "from mpl_toolkits.mplot3d import Axes3D\n",
        "import math"
      ],
      "execution_count": 0,
      "outputs": []
    },
    {
      "metadata": {
        "id": "81olCOil4fX9",
        "colab_type": "text"
      },
      "cell_type": "markdown",
      "source": [
        "**Mount Google Drive.**"
      ]
    },
    {
      "metadata": {
        "id": "jNxq9EGN1K-x",
        "colab_type": "code",
        "colab": {
          "base_uri": "https://localhost:8080/",
          "height": 124
        },
        "outputId": "d90b2213-4d96-4b18-980e-a8dc6989ecc9"
      },
      "cell_type": "code",
      "source": [
        "from google.colab import drive\n",
        "drive.mount('/content/gdrive')"
      ],
      "execution_count": 3,
      "outputs": [
        {
          "output_type": "stream",
          "text": [
            "Go to this URL in a browser: https://accounts.google.com/o/oauth2/auth?client_id=947318989803-6bn6qk8qdgf4n4g3pfee6491hc0brc4i.apps.googleusercontent.com&redirect_uri=urn%3Aietf%3Awg%3Aoauth%3A2.0%3Aoob&scope=email%20https%3A%2F%2Fwww.googleapis.com%2Fauth%2Fdocs.test%20https%3A%2F%2Fwww.googleapis.com%2Fauth%2Fdrive%20https%3A%2F%2Fwww.googleapis.com%2Fauth%2Fdrive.photos.readonly%20https%3A%2F%2Fwww.googleapis.com%2Fauth%2Fpeopleapi.readonly&response_type=code\n",
            "\n",
            "Enter your authorization code:\n",
            "··········\n",
            "Mounted at /content/gdrive\n"
          ],
          "name": "stdout"
        }
      ]
    },
    {
      "metadata": {
        "id": "q8krOKh04jgz",
        "colab_type": "text"
      },
      "cell_type": "markdown",
      "source": [
        "**Read bottle.csv file.**"
      ]
    },
    {
      "metadata": {
        "id": "8UzvEF_u57wM",
        "colab_type": "code",
        "colab": {
          "base_uri": "https://localhost:8080/",
          "height": 34
        },
        "outputId": "311b0715-0b6c-432d-818e-664d4ff9db04"
      },
      "cell_type": "code",
      "source": [
        "mypath = '/content/gdrive/My Drive/UChicago/Machine Learning/Data/Raw'\n",
        "import os\n",
        "os.listdir(mypath)"
      ],
      "execution_count": 3,
      "outputs": [
        {
          "output_type": "execute_result",
          "data": {
            "text/plain": [
              "['bottle.csv']"
            ]
          },
          "metadata": {
            "tags": []
          },
          "execution_count": 3
        }
      ]
    },
    {
      "metadata": {
        "id": "KxNDXLI32W2D",
        "colab_type": "code",
        "colab": {
          "base_uri": "https://localhost:8080/",
          "height": 52
        },
        "outputId": "80112bca-8573-4f36-f5c7-13c3e3622988"
      },
      "cell_type": "code",
      "source": [
        "bottle_data = pd.read_csv('/content/gdrive/My Drive/UChicago/Machine Learning/Data/Raw/bottle.csv')"
      ],
      "execution_count": 4,
      "outputs": [
        {
          "output_type": "stream",
          "text": [
            "/usr/local/lib/python3.6/dist-packages/IPython/core/interactiveshell.py:2718: DtypeWarning: Columns (47,73) have mixed types. Specify dtype option on import or set low_memory=False.\n",
            "  interactivity=interactivity, compiler=compiler, result=result)\n"
          ],
          "name": "stderr"
        }
      ]
    },
    {
      "metadata": {
        "id": "X01706nU2ZKZ",
        "colab_type": "text"
      },
      "cell_type": "markdown",
      "source": [
        "### Data Exploration, Cleaning, and Preparation"
      ]
    },
    {
      "metadata": {
        "id": "yZP_5Ycu1Wyv",
        "colab_type": "code",
        "colab": {
          "base_uri": "https://localhost:8080/",
          "height": 34
        },
        "outputId": "c2c01baa-09a3-46d2-f54a-8d46d841a045"
      },
      "cell_type": "code",
      "source": [
        "type(bottle_data)"
      ],
      "execution_count": 6,
      "outputs": [
        {
          "output_type": "execute_result",
          "data": {
            "text/plain": [
              "pandas.core.frame.DataFrame"
            ]
          },
          "metadata": {
            "tags": []
          },
          "execution_count": 6
        }
      ]
    },
    {
      "metadata": {
        "id": "FHCz2HKRDjMD",
        "colab_type": "code",
        "colab": {
          "base_uri": "https://localhost:8080/",
          "height": 346
        },
        "outputId": "7012e118-d09e-4db4-975c-51dada8543b5"
      },
      "cell_type": "code",
      "source": [
        "bottle_data.describe()"
      ],
      "execution_count": 7,
      "outputs": [
        {
          "output_type": "execute_result",
          "data": {
            "text/html": [
              "<div>\n",
              "<style scoped>\n",
              "    .dataframe tbody tr th:only-of-type {\n",
              "        vertical-align: middle;\n",
              "    }\n",
              "\n",
              "    .dataframe tbody tr th {\n",
              "        vertical-align: top;\n",
              "    }\n",
              "\n",
              "    .dataframe thead th {\n",
              "        text-align: right;\n",
              "    }\n",
              "</style>\n",
              "<table border=\"1\" class=\"dataframe\">\n",
              "  <thead>\n",
              "    <tr style=\"text-align: right;\">\n",
              "      <th></th>\n",
              "      <th>Cst_Cnt</th>\n",
              "      <th>Btl_Cnt</th>\n",
              "      <th>Depthm</th>\n",
              "      <th>T_degC</th>\n",
              "      <th>Salnty</th>\n",
              "      <th>O2ml_L</th>\n",
              "      <th>STheta</th>\n",
              "      <th>O2Sat</th>\n",
              "      <th>Oxy_µmol/Kg</th>\n",
              "      <th>BtlNum</th>\n",
              "      <th>...</th>\n",
              "      <th>R_CHLA</th>\n",
              "      <th>R_PHAEO</th>\n",
              "      <th>R_PRES</th>\n",
              "      <th>R_SAMP</th>\n",
              "      <th>DIC1</th>\n",
              "      <th>DIC2</th>\n",
              "      <th>TA1</th>\n",
              "      <th>TA2</th>\n",
              "      <th>pH2</th>\n",
              "      <th>pH1</th>\n",
              "    </tr>\n",
              "  </thead>\n",
              "  <tbody>\n",
              "    <tr>\n",
              "      <th>count</th>\n",
              "      <td>864863.000000</td>\n",
              "      <td>864863.000000</td>\n",
              "      <td>864863.000000</td>\n",
              "      <td>853900.000000</td>\n",
              "      <td>817509.000000</td>\n",
              "      <td>696201.000000</td>\n",
              "      <td>812174.000000</td>\n",
              "      <td>661274.000000</td>\n",
              "      <td>661268.000000</td>\n",
              "      <td>118667.000000</td>\n",
              "      <td>...</td>\n",
              "      <td>225276.000000</td>\n",
              "      <td>225275.000000</td>\n",
              "      <td>864863.000000</td>\n",
              "      <td>122006.000000</td>\n",
              "      <td>1999.000000</td>\n",
              "      <td>224.000000</td>\n",
              "      <td>2084.000000</td>\n",
              "      <td>234.000000</td>\n",
              "      <td>10.000000</td>\n",
              "      <td>84.000000</td>\n",
              "    </tr>\n",
              "    <tr>\n",
              "      <th>mean</th>\n",
              "      <td>17138.790958</td>\n",
              "      <td>432432.000000</td>\n",
              "      <td>226.831951</td>\n",
              "      <td>10.799677</td>\n",
              "      <td>33.840350</td>\n",
              "      <td>3.392468</td>\n",
              "      <td>25.819394</td>\n",
              "      <td>57.103779</td>\n",
              "      <td>148.808694</td>\n",
              "      <td>10.497426</td>\n",
              "      <td>...</td>\n",
              "      <td>0.450225</td>\n",
              "      <td>0.198599</td>\n",
              "      <td>228.395694</td>\n",
              "      <td>162.071521</td>\n",
              "      <td>2153.239714</td>\n",
              "      <td>2168.148330</td>\n",
              "      <td>2256.055845</td>\n",
              "      <td>2278.858803</td>\n",
              "      <td>7.948570</td>\n",
              "      <td>7.910983</td>\n",
              "    </tr>\n",
              "    <tr>\n",
              "      <th>std</th>\n",
              "      <td>10240.949817</td>\n",
              "      <td>249664.587269</td>\n",
              "      <td>316.050259</td>\n",
              "      <td>4.243825</td>\n",
              "      <td>0.461843</td>\n",
              "      <td>2.073256</td>\n",
              "      <td>1.167787</td>\n",
              "      <td>37.094137</td>\n",
              "      <td>90.187533</td>\n",
              "      <td>6.189688</td>\n",
              "      <td>...</td>\n",
              "      <td>1.208566</td>\n",
              "      <td>0.376539</td>\n",
              "      <td>319.456731</td>\n",
              "      <td>85.722796</td>\n",
              "      <td>112.995202</td>\n",
              "      <td>154.852332</td>\n",
              "      <td>34.844435</td>\n",
              "      <td>58.496495</td>\n",
              "      <td>0.021216</td>\n",
              "      <td>0.077666</td>\n",
              "    </tr>\n",
              "    <tr>\n",
              "      <th>min</th>\n",
              "      <td>1.000000</td>\n",
              "      <td>1.000000</td>\n",
              "      <td>0.000000</td>\n",
              "      <td>1.440000</td>\n",
              "      <td>28.431000</td>\n",
              "      <td>-0.010000</td>\n",
              "      <td>20.934000</td>\n",
              "      <td>-0.100000</td>\n",
              "      <td>-0.434900</td>\n",
              "      <td>0.000000</td>\n",
              "      <td>...</td>\n",
              "      <td>-0.010000</td>\n",
              "      <td>-3.890000</td>\n",
              "      <td>0.000000</td>\n",
              "      <td>0.000000</td>\n",
              "      <td>1948.850000</td>\n",
              "      <td>1969.440000</td>\n",
              "      <td>2181.570000</td>\n",
              "      <td>2198.150000</td>\n",
              "      <td>7.923100</td>\n",
              "      <td>7.618300</td>\n",
              "    </tr>\n",
              "    <tr>\n",
              "      <th>25%</th>\n",
              "      <td>8269.000000</td>\n",
              "      <td>216216.500000</td>\n",
              "      <td>46.000000</td>\n",
              "      <td>7.680000</td>\n",
              "      <td>33.488000</td>\n",
              "      <td>1.360000</td>\n",
              "      <td>24.965000</td>\n",
              "      <td>21.100000</td>\n",
              "      <td>60.915470</td>\n",
              "      <td>5.000000</td>\n",
              "      <td>...</td>\n",
              "      <td>0.050000</td>\n",
              "      <td>0.050000</td>\n",
              "      <td>46.000000</td>\n",
              "      <td>200.000000</td>\n",
              "      <td>2028.330000</td>\n",
              "      <td>2008.977500</td>\n",
              "      <td>2230.322500</td>\n",
              "      <td>2229.062500</td>\n",
              "      <td>7.931475</td>\n",
              "      <td>7.898675</td>\n",
              "    </tr>\n",
              "    <tr>\n",
              "      <th>50%</th>\n",
              "      <td>16848.000000</td>\n",
              "      <td>432432.000000</td>\n",
              "      <td>125.000000</td>\n",
              "      <td>10.060000</td>\n",
              "      <td>33.863000</td>\n",
              "      <td>3.440000</td>\n",
              "      <td>25.996000</td>\n",
              "      <td>54.400000</td>\n",
              "      <td>151.064150</td>\n",
              "      <td>10.000000</td>\n",
              "      <td>...</td>\n",
              "      <td>0.160000</td>\n",
              "      <td>0.110000</td>\n",
              "      <td>126.000000</td>\n",
              "      <td>206.000000</td>\n",
              "      <td>2170.640000</td>\n",
              "      <td>2265.885000</td>\n",
              "      <td>2244.325000</td>\n",
              "      <td>2247.505000</td>\n",
              "      <td>7.946650</td>\n",
              "      <td>7.928850</td>\n",
              "    </tr>\n",
              "    <tr>\n",
              "      <th>75%</th>\n",
              "      <td>26557.000000</td>\n",
              "      <td>648647.500000</td>\n",
              "      <td>300.000000</td>\n",
              "      <td>13.880000</td>\n",
              "      <td>34.196900</td>\n",
              "      <td>5.500000</td>\n",
              "      <td>26.646000</td>\n",
              "      <td>97.600000</td>\n",
              "      <td>240.379600</td>\n",
              "      <td>16.000000</td>\n",
              "      <td>...</td>\n",
              "      <td>0.390000</td>\n",
              "      <td>0.230000</td>\n",
              "      <td>302.000000</td>\n",
              "      <td>214.000000</td>\n",
              "      <td>2253.810000</td>\n",
              "      <td>2315.525000</td>\n",
              "      <td>2278.505000</td>\n",
              "      <td>2316.452500</td>\n",
              "      <td>7.963300</td>\n",
              "      <td>7.955100</td>\n",
              "    </tr>\n",
              "    <tr>\n",
              "      <th>max</th>\n",
              "      <td>34404.000000</td>\n",
              "      <td>864863.000000</td>\n",
              "      <td>5351.000000</td>\n",
              "      <td>31.140000</td>\n",
              "      <td>37.034000</td>\n",
              "      <td>11.130000</td>\n",
              "      <td>250.784000</td>\n",
              "      <td>214.100000</td>\n",
              "      <td>485.701800</td>\n",
              "      <td>25.000000</td>\n",
              "      <td>...</td>\n",
              "      <td>66.110000</td>\n",
              "      <td>65.300000</td>\n",
              "      <td>5458.000000</td>\n",
              "      <td>424.000000</td>\n",
              "      <td>2367.800000</td>\n",
              "      <td>2364.420000</td>\n",
              "      <td>2434.900000</td>\n",
              "      <td>2437.000000</td>\n",
              "      <td>7.988300</td>\n",
              "      <td>8.047700</td>\n",
              "    </tr>\n",
              "  </tbody>\n",
              "</table>\n",
              "<p>8 rows × 70 columns</p>\n",
              "</div>"
            ],
            "text/plain": [
              "             Cst_Cnt        Btl_Cnt         Depthm         T_degC  \\\n",
              "count  864863.000000  864863.000000  864863.000000  853900.000000   \n",
              "mean    17138.790958  432432.000000     226.831951      10.799677   \n",
              "std     10240.949817  249664.587269     316.050259       4.243825   \n",
              "min         1.000000       1.000000       0.000000       1.440000   \n",
              "25%      8269.000000  216216.500000      46.000000       7.680000   \n",
              "50%     16848.000000  432432.000000     125.000000      10.060000   \n",
              "75%     26557.000000  648647.500000     300.000000      13.880000   \n",
              "max     34404.000000  864863.000000    5351.000000      31.140000   \n",
              "\n",
              "              Salnty         O2ml_L         STheta          O2Sat  \\\n",
              "count  817509.000000  696201.000000  812174.000000  661274.000000   \n",
              "mean       33.840350       3.392468      25.819394      57.103779   \n",
              "std         0.461843       2.073256       1.167787      37.094137   \n",
              "min        28.431000      -0.010000      20.934000      -0.100000   \n",
              "25%        33.488000       1.360000      24.965000      21.100000   \n",
              "50%        33.863000       3.440000      25.996000      54.400000   \n",
              "75%        34.196900       5.500000      26.646000      97.600000   \n",
              "max        37.034000      11.130000     250.784000     214.100000   \n",
              "\n",
              "         Oxy_µmol/Kg         BtlNum    ...             R_CHLA        R_PHAEO  \\\n",
              "count  661268.000000  118667.000000    ...      225276.000000  225275.000000   \n",
              "mean      148.808694      10.497426    ...           0.450225       0.198599   \n",
              "std        90.187533       6.189688    ...           1.208566       0.376539   \n",
              "min        -0.434900       0.000000    ...          -0.010000      -3.890000   \n",
              "25%        60.915470       5.000000    ...           0.050000       0.050000   \n",
              "50%       151.064150      10.000000    ...           0.160000       0.110000   \n",
              "75%       240.379600      16.000000    ...           0.390000       0.230000   \n",
              "max       485.701800      25.000000    ...          66.110000      65.300000   \n",
              "\n",
              "              R_PRES         R_SAMP         DIC1         DIC2          TA1  \\\n",
              "count  864863.000000  122006.000000  1999.000000   224.000000  2084.000000   \n",
              "mean      228.395694     162.071521  2153.239714  2168.148330  2256.055845   \n",
              "std       319.456731      85.722796   112.995202   154.852332    34.844435   \n",
              "min         0.000000       0.000000  1948.850000  1969.440000  2181.570000   \n",
              "25%        46.000000     200.000000  2028.330000  2008.977500  2230.322500   \n",
              "50%       126.000000     206.000000  2170.640000  2265.885000  2244.325000   \n",
              "75%       302.000000     214.000000  2253.810000  2315.525000  2278.505000   \n",
              "max      5458.000000     424.000000  2367.800000  2364.420000  2434.900000   \n",
              "\n",
              "               TA2        pH2        pH1  \n",
              "count   234.000000  10.000000  84.000000  \n",
              "mean   2278.858803   7.948570   7.910983  \n",
              "std      58.496495   0.021216   0.077666  \n",
              "min    2198.150000   7.923100   7.618300  \n",
              "25%    2229.062500   7.931475   7.898675  \n",
              "50%    2247.505000   7.946650   7.928850  \n",
              "75%    2316.452500   7.963300   7.955100  \n",
              "max    2437.000000   7.988300   8.047700  \n",
              "\n",
              "[8 rows x 70 columns]"
            ]
          },
          "metadata": {
            "tags": []
          },
          "execution_count": 7
        }
      ]
    },
    {
      "metadata": {
        "id": "hbl9R6BWD-7R",
        "colab_type": "text"
      },
      "cell_type": "markdown",
      "source": [
        "**Extract only 'T_degC', 'Salnty', and 'STheta' **"
      ]
    },
    {
      "metadata": {
        "id": "OMxWPw8vD82m",
        "colab_type": "code",
        "colab": {
          "base_uri": "https://localhost:8080/",
          "height": 297
        },
        "outputId": "53605175-815a-4a5b-f5e7-9f372d3f2803"
      },
      "cell_type": "code",
      "source": [
        "bottle_data_subset = bottle_data.loc[:,['T_degC','Salnty','STheta']]\n",
        "bottle_data_subset.describe()"
      ],
      "execution_count": 5,
      "outputs": [
        {
          "output_type": "execute_result",
          "data": {
            "text/html": [
              "<div>\n",
              "<style scoped>\n",
              "    .dataframe tbody tr th:only-of-type {\n",
              "        vertical-align: middle;\n",
              "    }\n",
              "\n",
              "    .dataframe tbody tr th {\n",
              "        vertical-align: top;\n",
              "    }\n",
              "\n",
              "    .dataframe thead th {\n",
              "        text-align: right;\n",
              "    }\n",
              "</style>\n",
              "<table border=\"1\" class=\"dataframe\">\n",
              "  <thead>\n",
              "    <tr style=\"text-align: right;\">\n",
              "      <th></th>\n",
              "      <th>T_degC</th>\n",
              "      <th>Salnty</th>\n",
              "      <th>STheta</th>\n",
              "    </tr>\n",
              "  </thead>\n",
              "  <tbody>\n",
              "    <tr>\n",
              "      <th>count</th>\n",
              "      <td>853900.000000</td>\n",
              "      <td>817509.000000</td>\n",
              "      <td>812174.000000</td>\n",
              "    </tr>\n",
              "    <tr>\n",
              "      <th>mean</th>\n",
              "      <td>10.799677</td>\n",
              "      <td>33.840350</td>\n",
              "      <td>25.819394</td>\n",
              "    </tr>\n",
              "    <tr>\n",
              "      <th>std</th>\n",
              "      <td>4.243825</td>\n",
              "      <td>0.461843</td>\n",
              "      <td>1.167787</td>\n",
              "    </tr>\n",
              "    <tr>\n",
              "      <th>min</th>\n",
              "      <td>1.440000</td>\n",
              "      <td>28.431000</td>\n",
              "      <td>20.934000</td>\n",
              "    </tr>\n",
              "    <tr>\n",
              "      <th>25%</th>\n",
              "      <td>7.680000</td>\n",
              "      <td>33.488000</td>\n",
              "      <td>24.965000</td>\n",
              "    </tr>\n",
              "    <tr>\n",
              "      <th>50%</th>\n",
              "      <td>10.060000</td>\n",
              "      <td>33.863000</td>\n",
              "      <td>25.996000</td>\n",
              "    </tr>\n",
              "    <tr>\n",
              "      <th>75%</th>\n",
              "      <td>13.880000</td>\n",
              "      <td>34.196900</td>\n",
              "      <td>26.646000</td>\n",
              "    </tr>\n",
              "    <tr>\n",
              "      <th>max</th>\n",
              "      <td>31.140000</td>\n",
              "      <td>37.034000</td>\n",
              "      <td>250.784000</td>\n",
              "    </tr>\n",
              "  </tbody>\n",
              "</table>\n",
              "</div>"
            ],
            "text/plain": [
              "              T_degC         Salnty         STheta\n",
              "count  853900.000000  817509.000000  812174.000000\n",
              "mean       10.799677      33.840350      25.819394\n",
              "std         4.243825       0.461843       1.167787\n",
              "min         1.440000      28.431000      20.934000\n",
              "25%         7.680000      33.488000      24.965000\n",
              "50%        10.060000      33.863000      25.996000\n",
              "75%        13.880000      34.196900      26.646000\n",
              "max        31.140000      37.034000     250.784000"
            ]
          },
          "metadata": {
            "tags": []
          },
          "execution_count": 5
        }
      ]
    },
    {
      "metadata": {
        "id": "osQ-l7p3Ez6E",
        "colab_type": "code",
        "colab": {
          "base_uri": "https://localhost:8080/",
          "height": 204
        },
        "outputId": "1b49b379-4c40-4dd9-fff3-08438bf23f7c"
      },
      "cell_type": "code",
      "source": [
        "bottle_data_subset.head()"
      ],
      "execution_count": 9,
      "outputs": [
        {
          "output_type": "execute_result",
          "data": {
            "text/html": [
              "<div>\n",
              "<style scoped>\n",
              "    .dataframe tbody tr th:only-of-type {\n",
              "        vertical-align: middle;\n",
              "    }\n",
              "\n",
              "    .dataframe tbody tr th {\n",
              "        vertical-align: top;\n",
              "    }\n",
              "\n",
              "    .dataframe thead th {\n",
              "        text-align: right;\n",
              "    }\n",
              "</style>\n",
              "<table border=\"1\" class=\"dataframe\">\n",
              "  <thead>\n",
              "    <tr style=\"text-align: right;\">\n",
              "      <th></th>\n",
              "      <th>T_degC</th>\n",
              "      <th>Salnty</th>\n",
              "      <th>STheta</th>\n",
              "    </tr>\n",
              "  </thead>\n",
              "  <tbody>\n",
              "    <tr>\n",
              "      <th>0</th>\n",
              "      <td>10.50</td>\n",
              "      <td>33.440</td>\n",
              "      <td>25.649</td>\n",
              "    </tr>\n",
              "    <tr>\n",
              "      <th>1</th>\n",
              "      <td>10.46</td>\n",
              "      <td>33.440</td>\n",
              "      <td>25.656</td>\n",
              "    </tr>\n",
              "    <tr>\n",
              "      <th>2</th>\n",
              "      <td>10.46</td>\n",
              "      <td>33.437</td>\n",
              "      <td>25.654</td>\n",
              "    </tr>\n",
              "    <tr>\n",
              "      <th>3</th>\n",
              "      <td>10.45</td>\n",
              "      <td>33.420</td>\n",
              "      <td>25.643</td>\n",
              "    </tr>\n",
              "    <tr>\n",
              "      <th>4</th>\n",
              "      <td>10.45</td>\n",
              "      <td>33.421</td>\n",
              "      <td>25.643</td>\n",
              "    </tr>\n",
              "  </tbody>\n",
              "</table>\n",
              "</div>"
            ],
            "text/plain": [
              "   T_degC  Salnty  STheta\n",
              "0   10.50  33.440  25.649\n",
              "1   10.46  33.440  25.656\n",
              "2   10.46  33.437  25.654\n",
              "3   10.45  33.420  25.643\n",
              "4   10.45  33.421  25.643"
            ]
          },
          "metadata": {
            "tags": []
          },
          "execution_count": 9
        }
      ]
    },
    {
      "metadata": {
        "id": "eG6Qnn0SE5VG",
        "colab_type": "text"
      },
      "cell_type": "markdown",
      "source": [
        "**Remove NaN.**"
      ]
    },
    {
      "metadata": {
        "id": "dQtJBamCFOKA",
        "colab_type": "code",
        "colab": {
          "base_uri": "https://localhost:8080/",
          "height": 297
        },
        "outputId": "a56c15dc-16b4-4687-935b-d1c676832c2a"
      },
      "cell_type": "code",
      "source": [
        "bottle_data_subset = bottle_data_subset.dropna()\n",
        "bottle_data_subset.describe()"
      ],
      "execution_count": 10,
      "outputs": [
        {
          "output_type": "execute_result",
          "data": {
            "text/html": [
              "<div>\n",
              "<style scoped>\n",
              "    .dataframe tbody tr th:only-of-type {\n",
              "        vertical-align: middle;\n",
              "    }\n",
              "\n",
              "    .dataframe tbody tr th {\n",
              "        vertical-align: top;\n",
              "    }\n",
              "\n",
              "    .dataframe thead th {\n",
              "        text-align: right;\n",
              "    }\n",
              "</style>\n",
              "<table border=\"1\" class=\"dataframe\">\n",
              "  <thead>\n",
              "    <tr style=\"text-align: right;\">\n",
              "      <th></th>\n",
              "      <th>T_degC</th>\n",
              "      <th>Salnty</th>\n",
              "      <th>STheta</th>\n",
              "    </tr>\n",
              "  </thead>\n",
              "  <tbody>\n",
              "    <tr>\n",
              "      <th>count</th>\n",
              "      <td>812174.000000</td>\n",
              "      <td>812174.000000</td>\n",
              "      <td>812174.000000</td>\n",
              "    </tr>\n",
              "    <tr>\n",
              "      <th>mean</th>\n",
              "      <td>10.847904</td>\n",
              "      <td>33.842424</td>\n",
              "      <td>25.819394</td>\n",
              "    </tr>\n",
              "    <tr>\n",
              "      <th>std</th>\n",
              "      <td>4.221005</td>\n",
              "      <td>0.461567</td>\n",
              "      <td>1.167787</td>\n",
              "    </tr>\n",
              "    <tr>\n",
              "      <th>min</th>\n",
              "      <td>1.440000</td>\n",
              "      <td>28.431000</td>\n",
              "      <td>20.934000</td>\n",
              "    </tr>\n",
              "    <tr>\n",
              "      <th>25%</th>\n",
              "      <td>7.750000</td>\n",
              "      <td>33.490000</td>\n",
              "      <td>24.965000</td>\n",
              "    </tr>\n",
              "    <tr>\n",
              "      <th>50%</th>\n",
              "      <td>10.100000</td>\n",
              "      <td>33.869200</td>\n",
              "      <td>25.996000</td>\n",
              "    </tr>\n",
              "    <tr>\n",
              "      <th>75%</th>\n",
              "      <td>13.910000</td>\n",
              "      <td>34.198000</td>\n",
              "      <td>26.646000</td>\n",
              "    </tr>\n",
              "    <tr>\n",
              "      <th>max</th>\n",
              "      <td>31.140000</td>\n",
              "      <td>37.034000</td>\n",
              "      <td>250.784000</td>\n",
              "    </tr>\n",
              "  </tbody>\n",
              "</table>\n",
              "</div>"
            ],
            "text/plain": [
              "              T_degC         Salnty         STheta\n",
              "count  812174.000000  812174.000000  812174.000000\n",
              "mean       10.847904      33.842424      25.819394\n",
              "std         4.221005       0.461567       1.167787\n",
              "min         1.440000      28.431000      20.934000\n",
              "25%         7.750000      33.490000      24.965000\n",
              "50%        10.100000      33.869200      25.996000\n",
              "75%        13.910000      34.198000      26.646000\n",
              "max        31.140000      37.034000     250.784000"
            ]
          },
          "metadata": {
            "tags": []
          },
          "execution_count": 10
        }
      ]
    },
    {
      "metadata": {
        "id": "sLMarBTsJTYL",
        "colab_type": "text"
      },
      "cell_type": "markdown",
      "source": [
        "**Scatter Plots**"
      ]
    },
    {
      "metadata": {
        "id": "HbV-hgDPJTBB",
        "colab_type": "code",
        "colab": {
          "base_uri": "https://localhost:8080/",
          "height": 361
        },
        "outputId": "158de293-d807-4608-c2cb-a4c2154ab5ab"
      },
      "cell_type": "code",
      "source": [
        "plt.subplot(1, 2, 1)\n",
        "plt.scatter(bottle_data_subset['Salnty'], bottle_data_subset['T_degC'])\n",
        "plt.xlabel('Salnty')\n",
        "plt.ylabel('T_degC')\n",
        "plt.subplot(1, 2, 2)\n",
        "plt.scatter(bottle_data_subset['STheta'], bottle_data_subset['T_degC'])\n",
        "plt.xlabel('STheta')\n",
        "plt.ylabel('T_degC')\n",
        "plt.show()"
      ],
      "execution_count": 6,
      "outputs": [
        {
          "output_type": "display_data",
          "data": {
            "image/png": "[encoded data removed]",
            "text/plain": [
              "<matplotlib.figure.Figure at 0x7f61105290b8>"
            ]
          },
          "metadata": {
            "tags": []
          }
        }
      ]
    },
    {
      "metadata": {
        "id": "iA8GK4R7LHx_",
        "colab_type": "code",
        "colab": {
          "base_uri": "https://localhost:8080/",
          "height": 330
        },
        "outputId": "888751a6-b195-4c20-d25a-9a36a72ac69e"
      },
      "cell_type": "code",
      "source": [
        "fig = plt.figure()\n",
        "ax = plt.axes(projection='3d')\n",
        "ax.scatter(bottle_data_subset['Salnty'], bottle_data_subset['STheta'], bottle_data_subset['T_degC'])\n",
        "plt.show()"
      ],
      "execution_count": 7,
      "outputs": [
        {
          "output_type": "display_data",
          "data": {
            "image/png": "[encoded data removed]",
            "text/plain": [
              "<matplotlib.figure.Figure at 0x7f611131aa58>"
            ]
          },
          "metadata": {
            "tags": []
          }
        }
      ]
    },
    {
      "metadata": {
        "id": "1bjPX9FuKIoB",
        "colab_type": "text"
      },
      "cell_type": "markdown",
      "source": [
        "**Split Train and Test data.**"
      ]
    },
    {
      "metadata": {
        "id": "XTWqJfPpK8e8",
        "colab_type": "code",
        "colab": {}
      },
      "cell_type": "code",
      "source": [
        "x_train, x_test, y_train, y_test = train_test_split(bottle_data_subset.iloc[:,1:], bottle_data_subset.iloc[:,0], test_size = .3, random_state = 43)"
      ],
      "execution_count": 0,
      "outputs": []
    },
    {
      "metadata": {
        "id": "TdJzF5AnLKCu",
        "colab_type": "code",
        "colab": {
          "base_uri": "https://localhost:8080/",
          "height": 297
        },
        "outputId": "770e6741-a76e-4437-9a87-746bfb35bcca"
      },
      "cell_type": "code",
      "source": [
        "x_train.describe()"
      ],
      "execution_count": 13,
      "outputs": [
        {
          "output_type": "execute_result",
          "data": {
            "text/html": [
              "<div>\n",
              "<style scoped>\n",
              "    .dataframe tbody tr th:only-of-type {\n",
              "        vertical-align: middle;\n",
              "    }\n",
              "\n",
              "    .dataframe tbody tr th {\n",
              "        vertical-align: top;\n",
              "    }\n",
              "\n",
              "    .dataframe thead th {\n",
              "        text-align: right;\n",
              "    }\n",
              "</style>\n",
              "<table border=\"1\" class=\"dataframe\">\n",
              "  <thead>\n",
              "    <tr style=\"text-align: right;\">\n",
              "      <th></th>\n",
              "      <th>Salnty</th>\n",
              "      <th>STheta</th>\n",
              "    </tr>\n",
              "  </thead>\n",
              "  <tbody>\n",
              "    <tr>\n",
              "      <th>count</th>\n",
              "      <td>568521.000000</td>\n",
              "      <td>568521.000000</td>\n",
              "    </tr>\n",
              "    <tr>\n",
              "      <th>mean</th>\n",
              "      <td>33.842648</td>\n",
              "      <td>25.820253</td>\n",
              "    </tr>\n",
              "    <tr>\n",
              "      <th>std</th>\n",
              "      <td>0.461389</td>\n",
              "      <td>1.230113</td>\n",
              "    </tr>\n",
              "    <tr>\n",
              "      <th>min</th>\n",
              "      <td>28.431000</td>\n",
              "      <td>20.934000</td>\n",
              "    </tr>\n",
              "    <tr>\n",
              "      <th>25%</th>\n",
              "      <td>33.490000</td>\n",
              "      <td>24.966000</td>\n",
              "    </tr>\n",
              "    <tr>\n",
              "      <th>50%</th>\n",
              "      <td>33.870000</td>\n",
              "      <td>25.999000</td>\n",
              "    </tr>\n",
              "    <tr>\n",
              "      <th>75%</th>\n",
              "      <td>34.198000</td>\n",
              "      <td>26.646000</td>\n",
              "    </tr>\n",
              "    <tr>\n",
              "      <th>max</th>\n",
              "      <td>36.658000</td>\n",
              "      <td>250.784000</td>\n",
              "    </tr>\n",
              "  </tbody>\n",
              "</table>\n",
              "</div>"
            ],
            "text/plain": [
              "              Salnty         STheta\n",
              "count  568521.000000  568521.000000\n",
              "mean       33.842648      25.820253\n",
              "std         0.461389       1.230113\n",
              "min        28.431000      20.934000\n",
              "25%        33.490000      24.966000\n",
              "50%        33.870000      25.999000\n",
              "75%        34.198000      26.646000\n",
              "max        36.658000     250.784000"
            ]
          },
          "metadata": {
            "tags": []
          },
          "execution_count": 13
        }
      ]
    },
    {
      "metadata": {
        "id": "v4wbwAgtxPjy",
        "colab_type": "text"
      },
      "cell_type": "markdown",
      "source": [
        "### Model Selection"
      ]
    },
    {
      "metadata": {
        "id": "yYfOCg3KK8Pt",
        "colab_type": "text"
      },
      "cell_type": "markdown",
      "source": [
        "#### OLS Linear Regression"
      ]
    },
    {
      "metadata": {
        "id": "KZWRnzPSxjaU",
        "colab_type": "text"
      },
      "cell_type": "markdown",
      "source": [
        "**Find Theta through Normal equation.**"
      ]
    },
    {
      "metadata": {
        "id": "oV3_6deOMDhF",
        "colab_type": "code",
        "colab": {
          "base_uri": "https://localhost:8080/",
          "height": 157
        },
        "outputId": "c50524a4-fdb6-4331-c84d-385d8cb4ecae"
      },
      "cell_type": "code",
      "source": [
        "X_b_train = np.c_[np.ones((len(x_train), 1)), x_train]\n",
        "X_b_test = np.c_[np.ones((len(x_test), 1)), x_test]\n",
        "theta_best = np.linalg.inv(X_b_train.T.dot(X_b_train)).dot(X_b_train.T).dot(y_train)\n",
        "print(theta_best)\n",
        "X_b_train"
      ],
      "execution_count": 14,
      "outputs": [
        {
          "output_type": "stream",
          "text": [
            "[101.29087277  -0.73351708  -2.54137422]\n"
          ],
          "name": "stdout"
        },
        {
          "output_type": "execute_result",
          "data": {
            "text/plain": [
              "array([[ 1.   , 33.52 , 24.632],\n",
              "       [ 1.   , 33.06 , 24.924],\n",
              "       [ 1.   , 34.077, 26.633],\n",
              "       ...,\n",
              "       [ 1.   , 33.337, 25.465],\n",
              "       [ 1.   , 33.3  , 25.295],\n",
              "       [ 1.   , 34.38 , 24.414]])"
            ]
          },
          "metadata": {
            "tags": []
          },
          "execution_count": 14
        }
      ]
    },
    {
      "metadata": {
        "id": "QWXmRvBo3HlH",
        "colab_type": "code",
        "colab": {}
      },
      "cell_type": "code",
      "source": [
        "y_predict_train = np.dot(X_b_train,theta_best)\n",
        "y_predict_test = np.dot(X_b_test,theta_best)"
      ],
      "execution_count": 0,
      "outputs": []
    },
    {
      "metadata": {
        "id": "klWQk0Lu63eh",
        "colab_type": "code",
        "colab": {
          "base_uri": "https://localhost:8080/",
          "height": 52
        },
        "outputId": "f5aed65c-ba7d-4fc9-e9aa-15ba505a0581"
      },
      "cell_type": "code",
      "source": [
        "rmse_train = math.sqrt(sum((y_predict_train - y_train)**2) / (len(y_predict_train)-1))\n",
        "print(rmse_train)\n",
        "\n",
        "r_sq_train = 1 - sum((y_predict_train - y_train)**2) / sum((y_train - np.mean(y_train))**2)\n",
        "print(r_sq_train)"
      ],
      "execution_count": 16,
      "outputs": [
        {
          "output_type": "stream",
          "text": [
            "2.593596458929135\n",
            "0.6225818622722781\n"
          ],
          "name": "stdout"
        }
      ]
    },
    {
      "metadata": {
        "id": "fiVESglB-HXL",
        "colab_type": "code",
        "colab": {
          "base_uri": "https://localhost:8080/",
          "height": 52
        },
        "outputId": "916503ec-9b3a-4ec4-d706-0f2f2b7684e8"
      },
      "cell_type": "code",
      "source": [
        "rmse_test = math.sqrt(sum((y_predict_test - y_test)**2) / (len(y_predict_test)-1))\n",
        "print(rmse_test)\n",
        "\n",
        "r_sq_test = 1 - sum((y_predict_test - y_test)**2) / sum((y_test - np.mean(y_test))**2)\n",
        "print(r_sq_test)"
      ],
      "execution_count": 17,
      "outputs": [
        {
          "output_type": "stream",
          "text": [
            "1.8514787259590224\n",
            "0.8074450564063682\n"
          ],
          "name": "stdout"
        }
      ]
    },
    {
      "metadata": {
        "id": "UoMXSryExll0",
        "colab_type": "text"
      },
      "cell_type": "markdown",
      "source": [
        "**Use Linear Regression in SKlearn.**"
      ]
    },
    {
      "metadata": {
        "id": "F-d8hOCSNaZx",
        "colab_type": "code",
        "colab": {
          "base_uri": "https://localhost:8080/",
          "height": 34
        },
        "outputId": "22033729-505d-48b9-814f-9bbb14f05324"
      },
      "cell_type": "code",
      "source": [
        "lin_reg = LinearRegression()\n",
        "lin_reg.fit(x_train, y_train)\n",
        "lin_reg.intercept_, lin_reg.coef_"
      ],
      "execution_count": 18,
      "outputs": [
        {
          "output_type": "execute_result",
          "data": {
            "text/plain": [
              "(101.29087276574182, array([-0.73351708, -2.54137422]))"
            ]
          },
          "metadata": {
            "tags": []
          },
          "execution_count": 18
        }
      ]
    },
    {
      "metadata": {
        "id": "8z2l0lMU4SPY",
        "colab_type": "code",
        "colab": {
          "base_uri": "https://localhost:8080/",
          "height": 52
        },
        "outputId": "74bba676-036d-4af2-8bee-73f2ba510aef"
      },
      "cell_type": "code",
      "source": [
        "y_predict_train_skl = lin_reg.predict(x_train)\n",
        "y_predict_test_skl = lin_reg.predict(x_test)\n",
        "\n",
        "r_sq_train_skl = lin_reg.score(x_train, y_train)\n",
        "print(r_sq_train_skl)\n",
        "r_sq_test_skl = lin_reg.score(x_test, y_test)\n",
        "print(r_sq_test_skl)"
      ],
      "execution_count": 19,
      "outputs": [
        {
          "output_type": "stream",
          "text": [
            "0.6225818622722982\n",
            "0.8074450564057368\n"
          ],
          "name": "stdout"
        }
      ]
    }
  ]
}
