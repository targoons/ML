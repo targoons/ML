{
  "nbformat": 4,
  "nbformat_minor": 0,
  "metadata": {
    "colab": {
      "name": "MLAssignment3.ipynb",
      "version": "0.3.2",
      "provenance": [],
      "collapsed_sections": [
        "yYfOCg3KK8Pt"
      ],
      "include_colab_link": true
    },
    "kernelspec": {
      "name": "python3",
      "display_name": "Python 3"
    },
    "accelerator": "GPU"
  },
  "cells": [
    {
      "cell_type": "markdown",
      "metadata": {
        "id": "view-in-github",
        "colab_type": "text"
      },
      "source": [
        "<a href=\"https://colab.research.google.com/github/targoons/ML/blob/master/MLAssignment3.ipynb\" target=\"_parent\"><img src=\"https://colab.research.google.com/assets/colab-badge.svg\" alt=\"Open In Colab\"/></a>"
      ]
    },
    {
      "cell_type": "markdown",
      "metadata": {
        "id": "abJ8gJu4dE0t",
        "colab_type": "text"
      },
      "source": [
        "# MsCA 31009 - Machine Learning and Predictive Analytics\n",
        "\n",
        "## Assignment 3 - PCA & Logistic Regression\n",
        "\n",
        "**Targoon Siripanichpong**"
      ]
    },
    {
      "cell_type": "markdown",
      "metadata": {
        "id": "07AdlzCZvP7-",
        "colab_type": "text"
      },
      "source": [
        "## Import files and libraries."
      ]
    },
    {
      "cell_type": "code",
      "metadata": {
        "id": "Y1LX4wIf40NN",
        "colab_type": "code",
        "colab": {}
      },
      "source": [
        "import pandas as pd\n",
        "import numpy as np\n",
        "\n",
        "from sklearn.metrics import confusion_matrix, accuracy_score\n",
        "from sklearn.preprocessing import StandardScaler, scale\n",
        "from sklearn.model_selection import train_test_split\n",
        "from sklearn.decomposition import PCA\n",
        "from sklearn.linear_model import LogisticRegression\n",
        "\n",
        "from scipy import stats\n",
        "import math\n",
        "import tensorflow as tf"
      ],
      "execution_count": 0,
      "outputs": []
    },
    {
      "cell_type": "markdown",
      "metadata": {
        "id": "81olCOil4fX9",
        "colab_type": "text"
      },
      "source": [
        "**Mount Google Drive.**"
      ]
    },
    {
      "cell_type": "code",
      "metadata": {
        "id": "jNxq9EGN1K-x",
        "colab_type": "code",
        "outputId": "276b1369-ef6d-4c1a-d94d-d842a77481f4",
        "colab": {
          "base_uri": "https://localhost:8080/",
          "height": 124
        }
      },
      "source": [
        "from google.colab import drive\n",
        "drive.mount('/content/gdrive')"
      ],
      "execution_count": 0,
      "outputs": [
        {
          "output_type": "stream",
          "text": [
            "Go to this URL in a browser: https://accounts.google.com/o/oauth2/auth?client_id=947318989803-6bn6qk8qdgf4n4g3pfee6491hc0brc4i.apps.googleusercontent.com&redirect_uri=urn%3Aietf%3Awg%3Aoauth%3A2.0%3Aoob&scope=email%20https%3A%2F%2Fwww.googleapis.com%2Fauth%2Fdocs.test%20https%3A%2F%2Fwww.googleapis.com%2Fauth%2Fdrive%20https%3A%2F%2Fwww.googleapis.com%2Fauth%2Fdrive.photos.readonly%20https%3A%2F%2Fwww.googleapis.com%2Fauth%2Fpeopleapi.readonly&response_type=code\n",
            "\n",
            "Enter your authorization code:\n",
            "··········\n",
            "Mounted at /content/gdrive\n"
          ],
          "name": "stdout"
        }
      ]
    },
    {
      "cell_type": "markdown",
      "metadata": {
        "id": "q8krOKh04jgz",
        "colab_type": "text"
      },
      "source": [
        "**Read bottle.csv file.**"
      ]
    },
    {
      "cell_type": "code",
      "metadata": {
        "id": "8UzvEF_u57wM",
        "colab_type": "code",
        "outputId": "98a6ef21-9754-4eea-a44a-beafac9d02bf",
        "colab": {
          "base_uri": "https://localhost:8080/",
          "height": 34
        }
      },
      "source": [
        "mypath = '/content/gdrive/My Drive/UChicago/Machine Learning/Data/Raw'\n",
        "import os\n",
        "os.listdir(mypath)"
      ],
      "execution_count": 0,
      "outputs": [
        {
          "output_type": "execute_result",
          "data": {
            "text/plain": [
              "['ProviderInfo.csv', 'bottle.csv']"
            ]
          },
          "metadata": {
            "tags": []
          },
          "execution_count": 3
        }
      ]
    },
    {
      "cell_type": "code",
      "metadata": {
        "id": "KxNDXLI32W2D",
        "colab_type": "code",
        "colab": {}
      },
      "source": [
        "Provider_Info = pd.read_csv('/content/gdrive/My Drive/UChicago/Machine Learning/Data/Raw/ProviderInfo.csv')"
      ],
      "execution_count": 0,
      "outputs": []
    },
    {
      "cell_type": "markdown",
      "metadata": {
        "id": "X01706nU2ZKZ",
        "colab_type": "text"
      },
      "source": [
        "## Data Exploration and Pre-Processing"
      ]
    },
    {
      "cell_type": "code",
      "metadata": {
        "id": "EEr-AesYK9Cc",
        "colab_type": "code",
        "outputId": "929d2087-afd4-4510-d65d-42138485ebcf",
        "colab": {
          "base_uri": "https://localhost:8080/",
          "height": 440
        }
      },
      "source": [
        "Provider_Info.head()"
      ],
      "execution_count": 0,
      "outputs": [
        {
          "output_type": "execute_result",
          "data": {
            "text/html": [
              "<div>\n",
              "<style scoped>\n",
              "    .dataframe tbody tr th:only-of-type {\n",
              "        vertical-align: middle;\n",
              "    }\n",
              "\n",
              "    .dataframe tbody tr th {\n",
              "        vertical-align: top;\n",
              "    }\n",
              "\n",
              "    .dataframe thead th {\n",
              "        text-align: right;\n",
              "    }\n",
              "</style>\n",
              "<table border=\"1\" class=\"dataframe\">\n",
              "  <thead>\n",
              "    <tr style=\"text-align: right;\">\n",
              "      <th></th>\n",
              "      <th>PROVNUM</th>\n",
              "      <th>PROVNAME</th>\n",
              "      <th>ADDRESS</th>\n",
              "      <th>CITY</th>\n",
              "      <th>STATE</th>\n",
              "      <th>ZIP</th>\n",
              "      <th>PHONE</th>\n",
              "      <th>COUNTY_SSA</th>\n",
              "      <th>COUNTY_NAME</th>\n",
              "      <th>OWNERSHIP</th>\n",
              "      <th>...</th>\n",
              "      <th>CYCLE_2_REVISIT_SCORE</th>\n",
              "      <th>CYCLE_2_TOTAL_SCORE</th>\n",
              "      <th>WEIGHTED_ALL_CYCLES_SCORE</th>\n",
              "      <th>INCIDENT_CNT</th>\n",
              "      <th>CMPLNT_CNT</th>\n",
              "      <th>FINE_CNT</th>\n",
              "      <th>FINE_TOT</th>\n",
              "      <th>PAYDEN_CNT</th>\n",
              "      <th>TOT_PENLTY_CNT</th>\n",
              "      <th>FILEDATE</th>\n",
              "    </tr>\n",
              "  </thead>\n",
              "  <tbody>\n",
              "    <tr>\n",
              "      <th>0</th>\n",
              "      <td>15009</td>\n",
              "      <td>BURNS NURSING HOME, INC.</td>\n",
              "      <td>701 MONROE STREET NW</td>\n",
              "      <td>RUSSELLVILLE</td>\n",
              "      <td>AL</td>\n",
              "      <td>35653.0</td>\n",
              "      <td>2.563324e+09</td>\n",
              "      <td>290.0</td>\n",
              "      <td>Franklin</td>\n",
              "      <td>For profit - Individual</td>\n",
              "      <td>...</td>\n",
              "      <td>0</td>\n",
              "      <td>8</td>\n",
              "      <td>3.2</td>\n",
              "      <td>0.0</td>\n",
              "      <td>0.0</td>\n",
              "      <td>0.0</td>\n",
              "      <td>0.0</td>\n",
              "      <td>0.0</td>\n",
              "      <td>0.0</td>\n",
              "      <td>2018-07-01</td>\n",
              "    </tr>\n",
              "    <tr>\n",
              "      <th>1</th>\n",
              "      <td>15010</td>\n",
              "      <td>COOSA VALLEY NURSING FACILITY</td>\n",
              "      <td>315 WEST HICKORY STREET</td>\n",
              "      <td>SYLACAUGA</td>\n",
              "      <td>AL</td>\n",
              "      <td>35150.0</td>\n",
              "      <td>2.562496e+09</td>\n",
              "      <td>600.0</td>\n",
              "      <td>Talladega</td>\n",
              "      <td>For profit - Corporation</td>\n",
              "      <td>...</td>\n",
              "      <td>0</td>\n",
              "      <td>16</td>\n",
              "      <td>28</td>\n",
              "      <td>0.0</td>\n",
              "      <td>0.0</td>\n",
              "      <td>1.0</td>\n",
              "      <td>15259.0</td>\n",
              "      <td>1.0</td>\n",
              "      <td>2.0</td>\n",
              "      <td>2018-07-01</td>\n",
              "    </tr>\n",
              "    <tr>\n",
              "      <th>2</th>\n",
              "      <td>15012</td>\n",
              "      <td>HIGHLANDS HEALTH AND REHAB</td>\n",
              "      <td>380 WOODS COVE ROAD</td>\n",
              "      <td>SCOTTSBORO</td>\n",
              "      <td>AL</td>\n",
              "      <td>35768.0</td>\n",
              "      <td>2.562184e+09</td>\n",
              "      <td>350.0</td>\n",
              "      <td>Jackson</td>\n",
              "      <td>Government - County</td>\n",
              "      <td>...</td>\n",
              "      <td>0</td>\n",
              "      <td>12</td>\n",
              "      <td>31.2</td>\n",
              "      <td>0.0</td>\n",
              "      <td>0.0</td>\n",
              "      <td>0.0</td>\n",
              "      <td>0.0</td>\n",
              "      <td>0.0</td>\n",
              "      <td>0.0</td>\n",
              "      <td>2018-07-01</td>\n",
              "    </tr>\n",
              "    <tr>\n",
              "      <th>3</th>\n",
              "      <td>15014</td>\n",
              "      <td>EASTVIEW REHABILITATION &amp; HEALTHCARE CENTER</td>\n",
              "      <td>7755 FOURTH AVENUE SOUTH</td>\n",
              "      <td>BIRMINGHAM</td>\n",
              "      <td>AL</td>\n",
              "      <td>35206.0</td>\n",
              "      <td>2.058330e+09</td>\n",
              "      <td>360.0</td>\n",
              "      <td>Jefferson</td>\n",
              "      <td>For profit - Corporation</td>\n",
              "      <td>...</td>\n",
              "      <td>0</td>\n",
              "      <td>24</td>\n",
              "      <td>33.6</td>\n",
              "      <td>0.0</td>\n",
              "      <td>1.0</td>\n",
              "      <td>0.0</td>\n",
              "      <td>0.0</td>\n",
              "      <td>0.0</td>\n",
              "      <td>0.0</td>\n",
              "      <td>2018-07-01</td>\n",
              "    </tr>\n",
              "    <tr>\n",
              "      <th>4</th>\n",
              "      <td>15015</td>\n",
              "      <td>PLANTATION MANOR NURSING HOME</td>\n",
              "      <td>6450 OLD TUSCALOOSA HIGHWAY   P O BOX 97</td>\n",
              "      <td>MC CALLA</td>\n",
              "      <td>AL</td>\n",
              "      <td>35111.0</td>\n",
              "      <td>2.054776e+09</td>\n",
              "      <td>360.0</td>\n",
              "      <td>Jefferson</td>\n",
              "      <td>For profit - Corporation</td>\n",
              "      <td>...</td>\n",
              "      <td>0</td>\n",
              "      <td>24</td>\n",
              "      <td>19.2</td>\n",
              "      <td>0.0</td>\n",
              "      <td>0.0</td>\n",
              "      <td>0.0</td>\n",
              "      <td>0.0</td>\n",
              "      <td>0.0</td>\n",
              "      <td>0.0</td>\n",
              "      <td>2018-07-01</td>\n",
              "    </tr>\n",
              "  </tbody>\n",
              "</table>\n",
              "<p>5 rows × 78 columns</p>\n",
              "</div>"
            ],
            "text/plain": [
              "  PROVNUM                                     PROVNAME  \\\n",
              "0   15009                     BURNS NURSING HOME, INC.   \n",
              "1   15010                COOSA VALLEY NURSING FACILITY   \n",
              "2   15012                   HIGHLANDS HEALTH AND REHAB   \n",
              "3   15014  EASTVIEW REHABILITATION & HEALTHCARE CENTER   \n",
              "4   15015                PLANTATION MANOR NURSING HOME   \n",
              "\n",
              "                                    ADDRESS          CITY STATE      ZIP  \\\n",
              "0                      701 MONROE STREET NW  RUSSELLVILLE    AL  35653.0   \n",
              "1                   315 WEST HICKORY STREET     SYLACAUGA    AL  35150.0   \n",
              "2                       380 WOODS COVE ROAD    SCOTTSBORO    AL  35768.0   \n",
              "3                  7755 FOURTH AVENUE SOUTH    BIRMINGHAM    AL  35206.0   \n",
              "4  6450 OLD TUSCALOOSA HIGHWAY   P O BOX 97      MC CALLA    AL  35111.0   \n",
              "\n",
              "          PHONE  COUNTY_SSA COUNTY_NAME                 OWNERSHIP     ...      \\\n",
              "0  2.563324e+09       290.0    Franklin   For profit - Individual     ...       \n",
              "1  2.562496e+09       600.0   Talladega  For profit - Corporation     ...       \n",
              "2  2.562184e+09       350.0     Jackson       Government - County     ...       \n",
              "3  2.058330e+09       360.0   Jefferson  For profit - Corporation     ...       \n",
              "4  2.054776e+09       360.0   Jefferson  For profit - Corporation     ...       \n",
              "\n",
              "   CYCLE_2_REVISIT_SCORE  CYCLE_2_TOTAL_SCORE WEIGHTED_ALL_CYCLES_SCORE  \\\n",
              "0                      0                    8                       3.2   \n",
              "1                      0                   16                        28   \n",
              "2                      0                   12                      31.2   \n",
              "3                      0                   24                      33.6   \n",
              "4                      0                   24                      19.2   \n",
              "\n",
              "  INCIDENT_CNT CMPLNT_CNT FINE_CNT FINE_TOT PAYDEN_CNT TOT_PENLTY_CNT  \\\n",
              "0          0.0        0.0      0.0      0.0        0.0            0.0   \n",
              "1          0.0        0.0      1.0  15259.0        1.0            2.0   \n",
              "2          0.0        0.0      0.0      0.0        0.0            0.0   \n",
              "3          0.0        1.0      0.0      0.0        0.0            0.0   \n",
              "4          0.0        0.0      0.0      0.0        0.0            0.0   \n",
              "\n",
              "     FILEDATE  \n",
              "0  2018-07-01  \n",
              "1  2018-07-01  \n",
              "2  2018-07-01  \n",
              "3  2018-07-01  \n",
              "4  2018-07-01  \n",
              "\n",
              "[5 rows x 78 columns]"
            ]
          },
          "metadata": {
            "tags": []
          },
          "execution_count": 7
        }
      ]
    },
    {
      "cell_type": "code",
      "metadata": {
        "id": "IcqLgO_ELDQH",
        "colab_type": "code",
        "outputId": "341fac8f-5773-4eb2-ab74-b386bd4bb085",
        "colab": {
          "base_uri": "https://localhost:8080/",
          "height": 34
        }
      },
      "source": [
        "Provider_Info.shape"
      ],
      "execution_count": 0,
      "outputs": [
        {
          "output_type": "execute_result",
          "data": {
            "text/plain": [
              "(15617, 78)"
            ]
          },
          "metadata": {
            "tags": []
          },
          "execution_count": 9
        }
      ]
    },
    {
      "cell_type": "code",
      "metadata": {
        "id": "FHCz2HKRDjMD",
        "colab_type": "code",
        "outputId": "b14e0382-3bf6-47f7-b45d-8cac36a92216",
        "colab": {
          "base_uri": "https://localhost:8080/",
          "height": 346
        }
      },
      "source": [
        "Provider_Info.describe()"
      ],
      "execution_count": 0,
      "outputs": [
        {
          "output_type": "execute_result",
          "data": {
            "text/html": [
              "<div>\n",
              "<style scoped>\n",
              "    .dataframe tbody tr th:only-of-type {\n",
              "        vertical-align: middle;\n",
              "    }\n",
              "\n",
              "    .dataframe tbody tr th {\n",
              "        vertical-align: top;\n",
              "    }\n",
              "\n",
              "    .dataframe thead th {\n",
              "        text-align: right;\n",
              "    }\n",
              "</style>\n",
              "<table border=\"1\" class=\"dataframe\">\n",
              "  <thead>\n",
              "    <tr style=\"text-align: right;\">\n",
              "      <th></th>\n",
              "      <th>ZIP</th>\n",
              "      <th>PHONE</th>\n",
              "      <th>COUNTY_SSA</th>\n",
              "      <th>BEDCERT</th>\n",
              "      <th>RESTOT</th>\n",
              "      <th>OVERALL_RATING</th>\n",
              "      <th>SURVEY_RATING</th>\n",
              "      <th>QUALITY_RATING</th>\n",
              "      <th>STAFFING_RATING</th>\n",
              "      <th>RN_STAFFING_RATING</th>\n",
              "      <th>...</th>\n",
              "      <th>ADJ_AIDE</th>\n",
              "      <th>ADJ_LPN</th>\n",
              "      <th>ADJ_RN</th>\n",
              "      <th>ADJ_TOTAL</th>\n",
              "      <th>INCIDENT_CNT</th>\n",
              "      <th>CMPLNT_CNT</th>\n",
              "      <th>FINE_CNT</th>\n",
              "      <th>FINE_TOT</th>\n",
              "      <th>PAYDEN_CNT</th>\n",
              "      <th>TOT_PENLTY_CNT</th>\n",
              "    </tr>\n",
              "  </thead>\n",
              "  <tbody>\n",
              "    <tr>\n",
              "      <th>count</th>\n",
              "      <td>15616.000000</td>\n",
              "      <td>1.561600e+04</td>\n",
              "      <td>15616.000000</td>\n",
              "      <td>15616.000000</td>\n",
              "      <td>15105.000000</td>\n",
              "      <td>15436.000000</td>\n",
              "      <td>15436.000000</td>\n",
              "      <td>15403.000000</td>\n",
              "      <td>15268.000000</td>\n",
              "      <td>15268.000000</td>\n",
              "      <td>...</td>\n",
              "      <td>14560.000000</td>\n",
              "      <td>14560.000000</td>\n",
              "      <td>14560.000000</td>\n",
              "      <td>14560.000000</td>\n",
              "      <td>15616.000000</td>\n",
              "      <td>15616.000000</td>\n",
              "      <td>15616.000000</td>\n",
              "      <td>1.561600e+04</td>\n",
              "      <td>15616.000000</td>\n",
              "      <td>15616.000000</td>\n",
              "    </tr>\n",
              "    <tr>\n",
              "      <th>mean</th>\n",
              "      <td>50352.172323</td>\n",
              "      <td>5.864225e+09</td>\n",
              "      <td>389.542328</td>\n",
              "      <td>106.119813</td>\n",
              "      <td>86.558782</td>\n",
              "      <td>3.332923</td>\n",
              "      <td>2.818412</td>\n",
              "      <td>3.981952</td>\n",
              "      <td>3.065431</td>\n",
              "      <td>3.264344</td>\n",
              "      <td>...</td>\n",
              "      <td>2.303975</td>\n",
              "      <td>0.880558</td>\n",
              "      <td>0.679904</td>\n",
              "      <td>3.855575</td>\n",
              "      <td>1.194032</td>\n",
              "      <td>4.198258</td>\n",
              "      <td>0.430712</td>\n",
              "      <td>1.458445e+04</td>\n",
              "      <td>0.098105</td>\n",
              "      <td>0.528817</td>\n",
              "    </tr>\n",
              "    <tr>\n",
              "      <th>std</th>\n",
              "      <td>26906.692569</td>\n",
              "      <td>2.330217e+09</td>\n",
              "      <td>273.754237</td>\n",
              "      <td>60.789892</td>\n",
              "      <td>52.999889</td>\n",
              "      <td>1.395167</td>\n",
              "      <td>1.289865</td>\n",
              "      <td>1.228714</td>\n",
              "      <td>1.261812</td>\n",
              "      <td>1.337252</td>\n",
              "      <td>...</td>\n",
              "      <td>0.559962</td>\n",
              "      <td>0.341518</td>\n",
              "      <td>0.441747</td>\n",
              "      <td>0.858477</td>\n",
              "      <td>3.093278</td>\n",
              "      <td>7.384479</td>\n",
              "      <td>0.773936</td>\n",
              "      <td>5.500255e+04</td>\n",
              "      <td>0.355164</td>\n",
              "      <td>0.966987</td>\n",
              "    </tr>\n",
              "    <tr>\n",
              "      <th>min</th>\n",
              "      <td>660.000000</td>\n",
              "      <td>2.012270e+09</td>\n",
              "      <td>0.000000</td>\n",
              "      <td>2.000000</td>\n",
              "      <td>1.000000</td>\n",
              "      <td>1.000000</td>\n",
              "      <td>1.000000</td>\n",
              "      <td>1.000000</td>\n",
              "      <td>1.000000</td>\n",
              "      <td>1.000000</td>\n",
              "      <td>...</td>\n",
              "      <td>0.000000</td>\n",
              "      <td>0.000000</td>\n",
              "      <td>0.000000</td>\n",
              "      <td>1.230690</td>\n",
              "      <td>0.000000</td>\n",
              "      <td>0.000000</td>\n",
              "      <td>0.000000</td>\n",
              "      <td>0.000000e+00</td>\n",
              "      <td>0.000000</td>\n",
              "      <td>0.000000</td>\n",
              "    </tr>\n",
              "    <tr>\n",
              "      <th>25%</th>\n",
              "      <td>29801.750000</td>\n",
              "      <td>3.866777e+09</td>\n",
              "      <td>150.000000</td>\n",
              "      <td>64.000000</td>\n",
              "      <td>51.700000</td>\n",
              "      <td>2.000000</td>\n",
              "      <td>2.000000</td>\n",
              "      <td>3.000000</td>\n",
              "      <td>2.000000</td>\n",
              "      <td>2.000000</td>\n",
              "      <td>...</td>\n",
              "      <td>1.931877</td>\n",
              "      <td>0.672057</td>\n",
              "      <td>0.398147</td>\n",
              "      <td>3.312228</td>\n",
              "      <td>0.000000</td>\n",
              "      <td>0.000000</td>\n",
              "      <td>0.000000</td>\n",
              "      <td>0.000000e+00</td>\n",
              "      <td>0.000000</td>\n",
              "      <td>0.000000</td>\n",
              "    </tr>\n",
              "    <tr>\n",
              "      <th>50%</th>\n",
              "      <td>49008.000000</td>\n",
              "      <td>6.056590e+09</td>\n",
              "      <td>360.000000</td>\n",
              "      <td>99.000000</td>\n",
              "      <td>78.700000</td>\n",
              "      <td>4.000000</td>\n",
              "      <td>3.000000</td>\n",
              "      <td>4.000000</td>\n",
              "      <td>3.000000</td>\n",
              "      <td>3.000000</td>\n",
              "      <td>...</td>\n",
              "      <td>2.214275</td>\n",
              "      <td>0.875080</td>\n",
              "      <td>0.587110</td>\n",
              "      <td>3.726035</td>\n",
              "      <td>0.000000</td>\n",
              "      <td>1.000000</td>\n",
              "      <td>0.000000</td>\n",
              "      <td>0.000000e+00</td>\n",
              "      <td>0.000000</td>\n",
              "      <td>0.000000</td>\n",
              "    </tr>\n",
              "    <tr>\n",
              "      <th>75%</th>\n",
              "      <td>72833.250000</td>\n",
              "      <td>8.014871e+09</td>\n",
              "      <td>590.000000</td>\n",
              "      <td>127.000000</td>\n",
              "      <td>108.700000</td>\n",
              "      <td>5.000000</td>\n",
              "      <td>4.000000</td>\n",
              "      <td>5.000000</td>\n",
              "      <td>4.000000</td>\n",
              "      <td>4.000000</td>\n",
              "      <td>...</td>\n",
              "      <td>2.582335</td>\n",
              "      <td>1.074725</td>\n",
              "      <td>0.854212</td>\n",
              "      <td>4.229495</td>\n",
              "      <td>1.000000</td>\n",
              "      <td>5.000000</td>\n",
              "      <td>1.000000</td>\n",
              "      <td>5.336250e+03</td>\n",
              "      <td>0.000000</td>\n",
              "      <td>1.000000</td>\n",
              "    </tr>\n",
              "    <tr>\n",
              "      <th>max</th>\n",
              "      <td>99929.000000</td>\n",
              "      <td>1.000000e+10</td>\n",
              "      <td>996.000000</td>\n",
              "      <td>1389.000000</td>\n",
              "      <td>754.900000</td>\n",
              "      <td>5.000000</td>\n",
              "      <td>5.000000</td>\n",
              "      <td>5.000000</td>\n",
              "      <td>5.000000</td>\n",
              "      <td>5.000000</td>\n",
              "      <td>...</td>\n",
              "      <td>6.593350</td>\n",
              "      <td>5.560940</td>\n",
              "      <td>7.775820</td>\n",
              "      <td>11.726110</td>\n",
              "      <td>126.000000</td>\n",
              "      <td>135.000000</td>\n",
              "      <td>6.000000</td>\n",
              "      <td>1.508727e+06</td>\n",
              "      <td>4.000000</td>\n",
              "      <td>9.000000</td>\n",
              "    </tr>\n",
              "  </tbody>\n",
              "</table>\n",
              "<p>8 rows × 30 columns</p>\n",
              "</div>"
            ],
            "text/plain": [
              "                ZIP         PHONE    COUNTY_SSA       BEDCERT        RESTOT  \\\n",
              "count  15616.000000  1.561600e+04  15616.000000  15616.000000  15105.000000   \n",
              "mean   50352.172323  5.864225e+09    389.542328    106.119813     86.558782   \n",
              "std    26906.692569  2.330217e+09    273.754237     60.789892     52.999889   \n",
              "min      660.000000  2.012270e+09      0.000000      2.000000      1.000000   \n",
              "25%    29801.750000  3.866777e+09    150.000000     64.000000     51.700000   \n",
              "50%    49008.000000  6.056590e+09    360.000000     99.000000     78.700000   \n",
              "75%    72833.250000  8.014871e+09    590.000000    127.000000    108.700000   \n",
              "max    99929.000000  1.000000e+10    996.000000   1389.000000    754.900000   \n",
              "\n",
              "       OVERALL_RATING  SURVEY_RATING  QUALITY_RATING  STAFFING_RATING  \\\n",
              "count    15436.000000   15436.000000    15403.000000     15268.000000   \n",
              "mean         3.332923       2.818412        3.981952         3.065431   \n",
              "std          1.395167       1.289865        1.228714         1.261812   \n",
              "min          1.000000       1.000000        1.000000         1.000000   \n",
              "25%          2.000000       2.000000        3.000000         2.000000   \n",
              "50%          4.000000       3.000000        4.000000         3.000000   \n",
              "75%          5.000000       4.000000        5.000000         4.000000   \n",
              "max          5.000000       5.000000        5.000000         5.000000   \n",
              "\n",
              "       RN_STAFFING_RATING       ...            ADJ_AIDE       ADJ_LPN  \\\n",
              "count        15268.000000       ...        14560.000000  14560.000000   \n",
              "mean             3.264344       ...            2.303975      0.880558   \n",
              "std              1.337252       ...            0.559962      0.341518   \n",
              "min              1.000000       ...            0.000000      0.000000   \n",
              "25%              2.000000       ...            1.931877      0.672057   \n",
              "50%              3.000000       ...            2.214275      0.875080   \n",
              "75%              4.000000       ...            2.582335      1.074725   \n",
              "max              5.000000       ...            6.593350      5.560940   \n",
              "\n",
              "             ADJ_RN     ADJ_TOTAL  INCIDENT_CNT    CMPLNT_CNT      FINE_CNT  \\\n",
              "count  14560.000000  14560.000000  15616.000000  15616.000000  15616.000000   \n",
              "mean       0.679904      3.855575      1.194032      4.198258      0.430712   \n",
              "std        0.441747      0.858477      3.093278      7.384479      0.773936   \n",
              "min        0.000000      1.230690      0.000000      0.000000      0.000000   \n",
              "25%        0.398147      3.312228      0.000000      0.000000      0.000000   \n",
              "50%        0.587110      3.726035      0.000000      1.000000      0.000000   \n",
              "75%        0.854212      4.229495      1.000000      5.000000      1.000000   \n",
              "max        7.775820     11.726110    126.000000    135.000000      6.000000   \n",
              "\n",
              "           FINE_TOT    PAYDEN_CNT  TOT_PENLTY_CNT  \n",
              "count  1.561600e+04  15616.000000    15616.000000  \n",
              "mean   1.458445e+04      0.098105        0.528817  \n",
              "std    5.500255e+04      0.355164        0.966987  \n",
              "min    0.000000e+00      0.000000        0.000000  \n",
              "25%    0.000000e+00      0.000000        0.000000  \n",
              "50%    0.000000e+00      0.000000        0.000000  \n",
              "75%    5.336250e+03      0.000000        1.000000  \n",
              "max    1.508727e+06      4.000000        9.000000  \n",
              "\n",
              "[8 rows x 30 columns]"
            ]
          },
          "metadata": {
            "tags": []
          },
          "execution_count": 6
        }
      ]
    },
    {
      "cell_type": "markdown",
      "metadata": {
        "id": "hbl9R6BWD-7R",
        "colab_type": "text"
      },
      "source": [
        "**Extract only numeric data **"
      ]
    },
    {
      "cell_type": "code",
      "metadata": {
        "id": "OMxWPw8vD82m",
        "colab_type": "code",
        "outputId": "fa1c9efa-b71a-4c8a-e68a-f30b91a26a34",
        "colab": {
          "base_uri": "https://localhost:8080/",
          "height": 253
        }
      },
      "source": [
        "numerics = ['int16', 'int32', 'int64', 'float16', 'float32', 'float64']\n",
        "Provider_Info_numeric = Provider_Info.select_dtypes(include=numerics)\n",
        "Provider_Info_numeric = Provider_Info_numeric.drop(columns=['ZIP', 'PHONE', 'COUNTY_SSA'])\n",
        "Provider_Info_numeric.head()"
      ],
      "execution_count": 0,
      "outputs": [
        {
          "output_type": "execute_result",
          "data": {
            "text/html": [
              "<div>\n",
              "<style scoped>\n",
              "    .dataframe tbody tr th:only-of-type {\n",
              "        vertical-align: middle;\n",
              "    }\n",
              "\n",
              "    .dataframe tbody tr th {\n",
              "        vertical-align: top;\n",
              "    }\n",
              "\n",
              "    .dataframe thead th {\n",
              "        text-align: right;\n",
              "    }\n",
              "</style>\n",
              "<table border=\"1\" class=\"dataframe\">\n",
              "  <thead>\n",
              "    <tr style=\"text-align: right;\">\n",
              "      <th></th>\n",
              "      <th>BEDCERT</th>\n",
              "      <th>RESTOT</th>\n",
              "      <th>OVERALL_RATING</th>\n",
              "      <th>SURVEY_RATING</th>\n",
              "      <th>QUALITY_RATING</th>\n",
              "      <th>STAFFING_RATING</th>\n",
              "      <th>RN_STAFFING_RATING</th>\n",
              "      <th>AIDHRD</th>\n",
              "      <th>VOCHRD</th>\n",
              "      <th>RNHRD</th>\n",
              "      <th>...</th>\n",
              "      <th>ADJ_AIDE</th>\n",
              "      <th>ADJ_LPN</th>\n",
              "      <th>ADJ_RN</th>\n",
              "      <th>ADJ_TOTAL</th>\n",
              "      <th>INCIDENT_CNT</th>\n",
              "      <th>CMPLNT_CNT</th>\n",
              "      <th>FINE_CNT</th>\n",
              "      <th>FINE_TOT</th>\n",
              "      <th>PAYDEN_CNT</th>\n",
              "      <th>TOT_PENLTY_CNT</th>\n",
              "    </tr>\n",
              "  </thead>\n",
              "  <tbody>\n",
              "    <tr>\n",
              "      <th>0</th>\n",
              "      <td>57.0</td>\n",
              "      <td>51.5</td>\n",
              "      <td>5.0</td>\n",
              "      <td>5.0</td>\n",
              "      <td>5.0</td>\n",
              "      <td>4.0</td>\n",
              "      <td>4.0</td>\n",
              "      <td>3.43572</td>\n",
              "      <td>1.16495</td>\n",
              "      <td>0.66830</td>\n",
              "      <td>...</td>\n",
              "      <td>3.11741</td>\n",
              "      <td>1.24750</td>\n",
              "      <td>0.83853</td>\n",
              "      <td>5.13047</td>\n",
              "      <td>0.0</td>\n",
              "      <td>0.0</td>\n",
              "      <td>0.0</td>\n",
              "      <td>0.0</td>\n",
              "      <td>0.0</td>\n",
              "      <td>0.0</td>\n",
              "    </tr>\n",
              "    <tr>\n",
              "      <th>1</th>\n",
              "      <td>85.0</td>\n",
              "      <td>74.2</td>\n",
              "      <td>3.0</td>\n",
              "      <td>3.0</td>\n",
              "      <td>5.0</td>\n",
              "      <td>1.0</td>\n",
              "      <td>1.0</td>\n",
              "      <td>NaN</td>\n",
              "      <td>NaN</td>\n",
              "      <td>NaN</td>\n",
              "      <td>...</td>\n",
              "      <td>NaN</td>\n",
              "      <td>NaN</td>\n",
              "      <td>NaN</td>\n",
              "      <td>NaN</td>\n",
              "      <td>0.0</td>\n",
              "      <td>0.0</td>\n",
              "      <td>1.0</td>\n",
              "      <td>15259.0</td>\n",
              "      <td>1.0</td>\n",
              "      <td>2.0</td>\n",
              "    </tr>\n",
              "    <tr>\n",
              "      <th>2</th>\n",
              "      <td>50.0</td>\n",
              "      <td>NaN</td>\n",
              "      <td>1.0</td>\n",
              "      <td>2.0</td>\n",
              "      <td>2.0</td>\n",
              "      <td>1.0</td>\n",
              "      <td>1.0</td>\n",
              "      <td>NaN</td>\n",
              "      <td>NaN</td>\n",
              "      <td>NaN</td>\n",
              "      <td>...</td>\n",
              "      <td>NaN</td>\n",
              "      <td>NaN</td>\n",
              "      <td>NaN</td>\n",
              "      <td>NaN</td>\n",
              "      <td>0.0</td>\n",
              "      <td>0.0</td>\n",
              "      <td>0.0</td>\n",
              "      <td>0.0</td>\n",
              "      <td>0.0</td>\n",
              "      <td>0.0</td>\n",
              "    </tr>\n",
              "    <tr>\n",
              "      <th>3</th>\n",
              "      <td>92.0</td>\n",
              "      <td>79.8</td>\n",
              "      <td>2.0</td>\n",
              "      <td>2.0</td>\n",
              "      <td>4.0</td>\n",
              "      <td>3.0</td>\n",
              "      <td>3.0</td>\n",
              "      <td>2.32722</td>\n",
              "      <td>0.82104</td>\n",
              "      <td>0.52177</td>\n",
              "      <td>...</td>\n",
              "      <td>2.40074</td>\n",
              "      <td>0.86962</td>\n",
              "      <td>0.56463</td>\n",
              "      <td>3.83026</td>\n",
              "      <td>0.0</td>\n",
              "      <td>1.0</td>\n",
              "      <td>0.0</td>\n",
              "      <td>0.0</td>\n",
              "      <td>0.0</td>\n",
              "      <td>0.0</td>\n",
              "    </tr>\n",
              "    <tr>\n",
              "      <th>4</th>\n",
              "      <td>103.0</td>\n",
              "      <td>98.1</td>\n",
              "      <td>3.0</td>\n",
              "      <td>3.0</td>\n",
              "      <td>4.0</td>\n",
              "      <td>3.0</td>\n",
              "      <td>2.0</td>\n",
              "      <td>2.33617</td>\n",
              "      <td>0.92407</td>\n",
              "      <td>0.23493</td>\n",
              "      <td>...</td>\n",
              "      <td>2.55126</td>\n",
              "      <td>1.08955</td>\n",
              "      <td>0.30360</td>\n",
              "      <td>3.95709</td>\n",
              "      <td>0.0</td>\n",
              "      <td>0.0</td>\n",
              "      <td>0.0</td>\n",
              "      <td>0.0</td>\n",
              "      <td>0.0</td>\n",
              "      <td>0.0</td>\n",
              "    </tr>\n",
              "  </tbody>\n",
              "</table>\n",
              "<p>5 rows × 27 columns</p>\n",
              "</div>"
            ],
            "text/plain": [
              "   BEDCERT  RESTOT  OVERALL_RATING  SURVEY_RATING  QUALITY_RATING  \\\n",
              "0     57.0    51.5             5.0            5.0             5.0   \n",
              "1     85.0    74.2             3.0            3.0             5.0   \n",
              "2     50.0     NaN             1.0            2.0             2.0   \n",
              "3     92.0    79.8             2.0            2.0             4.0   \n",
              "4    103.0    98.1             3.0            3.0             4.0   \n",
              "\n",
              "   STAFFING_RATING  RN_STAFFING_RATING   AIDHRD   VOCHRD    RNHRD  \\\n",
              "0              4.0                 4.0  3.43572  1.16495  0.66830   \n",
              "1              1.0                 1.0      NaN      NaN      NaN   \n",
              "2              1.0                 1.0      NaN      NaN      NaN   \n",
              "3              3.0                 3.0  2.32722  0.82104  0.52177   \n",
              "4              3.0                 2.0  2.33617  0.92407  0.23493   \n",
              "\n",
              "        ...        ADJ_AIDE  ADJ_LPN   ADJ_RN  ADJ_TOTAL  INCIDENT_CNT  \\\n",
              "0       ...         3.11741  1.24750  0.83853    5.13047           0.0   \n",
              "1       ...             NaN      NaN      NaN        NaN           0.0   \n",
              "2       ...             NaN      NaN      NaN        NaN           0.0   \n",
              "3       ...         2.40074  0.86962  0.56463    3.83026           0.0   \n",
              "4       ...         2.55126  1.08955  0.30360    3.95709           0.0   \n",
              "\n",
              "   CMPLNT_CNT  FINE_CNT  FINE_TOT  PAYDEN_CNT  TOT_PENLTY_CNT  \n",
              "0         0.0       0.0       0.0         0.0             0.0  \n",
              "1         0.0       1.0   15259.0         1.0             2.0  \n",
              "2         0.0       0.0       0.0         0.0             0.0  \n",
              "3         1.0       0.0       0.0         0.0             0.0  \n",
              "4         0.0       0.0       0.0         0.0             0.0  \n",
              "\n",
              "[5 rows x 27 columns]"
            ]
          },
          "metadata": {
            "tags": []
          },
          "execution_count": 16
        }
      ]
    },
    {
      "cell_type": "code",
      "metadata": {
        "id": "lFeim-WrMQPC",
        "colab_type": "code",
        "outputId": "2b938b62-bb34-4c36-b76a-0b5c2b3407d6",
        "colab": {
          "base_uri": "https://localhost:8080/",
          "height": 346
        }
      },
      "source": [
        "Provider_Info_numeric.describe()"
      ],
      "execution_count": 0,
      "outputs": [
        {
          "output_type": "execute_result",
          "data": {
            "text/html": [
              "<div>\n",
              "<style scoped>\n",
              "    .dataframe tbody tr th:only-of-type {\n",
              "        vertical-align: middle;\n",
              "    }\n",
              "\n",
              "    .dataframe tbody tr th {\n",
              "        vertical-align: top;\n",
              "    }\n",
              "\n",
              "    .dataframe thead th {\n",
              "        text-align: right;\n",
              "    }\n",
              "</style>\n",
              "<table border=\"1\" class=\"dataframe\">\n",
              "  <thead>\n",
              "    <tr style=\"text-align: right;\">\n",
              "      <th></th>\n",
              "      <th>BEDCERT</th>\n",
              "      <th>RESTOT</th>\n",
              "      <th>OVERALL_RATING</th>\n",
              "      <th>SURVEY_RATING</th>\n",
              "      <th>QUALITY_RATING</th>\n",
              "      <th>STAFFING_RATING</th>\n",
              "      <th>RN_STAFFING_RATING</th>\n",
              "      <th>AIDHRD</th>\n",
              "      <th>VOCHRD</th>\n",
              "      <th>RNHRD</th>\n",
              "      <th>...</th>\n",
              "      <th>ADJ_AIDE</th>\n",
              "      <th>ADJ_LPN</th>\n",
              "      <th>ADJ_RN</th>\n",
              "      <th>ADJ_TOTAL</th>\n",
              "      <th>INCIDENT_CNT</th>\n",
              "      <th>CMPLNT_CNT</th>\n",
              "      <th>FINE_CNT</th>\n",
              "      <th>FINE_TOT</th>\n",
              "      <th>PAYDEN_CNT</th>\n",
              "      <th>TOT_PENLTY_CNT</th>\n",
              "    </tr>\n",
              "  </thead>\n",
              "  <tbody>\n",
              "    <tr>\n",
              "      <th>count</th>\n",
              "      <td>15616.000000</td>\n",
              "      <td>15105.000000</td>\n",
              "      <td>15436.000000</td>\n",
              "      <td>15436.000000</td>\n",
              "      <td>15403.000000</td>\n",
              "      <td>15268.000000</td>\n",
              "      <td>15268.000000</td>\n",
              "      <td>14670.000000</td>\n",
              "      <td>14670.000000</td>\n",
              "      <td>14670.000000</td>\n",
              "      <td>...</td>\n",
              "      <td>14560.000000</td>\n",
              "      <td>14560.000000</td>\n",
              "      <td>14560.000000</td>\n",
              "      <td>14560.000000</td>\n",
              "      <td>15616.000000</td>\n",
              "      <td>15616.000000</td>\n",
              "      <td>15616.000000</td>\n",
              "      <td>1.561600e+04</td>\n",
              "      <td>15616.000000</td>\n",
              "      <td>15616.000000</td>\n",
              "    </tr>\n",
              "    <tr>\n",
              "      <th>mean</th>\n",
              "      <td>106.119813</td>\n",
              "      <td>86.558782</td>\n",
              "      <td>3.332923</td>\n",
              "      <td>2.818412</td>\n",
              "      <td>3.981952</td>\n",
              "      <td>3.065431</td>\n",
              "      <td>3.264344</td>\n",
              "      <td>2.296539</td>\n",
              "      <td>0.880983</td>\n",
              "      <td>0.672257</td>\n",
              "      <td>...</td>\n",
              "      <td>2.303975</td>\n",
              "      <td>0.880558</td>\n",
              "      <td>0.679904</td>\n",
              "      <td>3.855575</td>\n",
              "      <td>1.194032</td>\n",
              "      <td>4.198258</td>\n",
              "      <td>0.430712</td>\n",
              "      <td>1.458445e+04</td>\n",
              "      <td>0.098105</td>\n",
              "      <td>0.528817</td>\n",
              "    </tr>\n",
              "    <tr>\n",
              "      <th>std</th>\n",
              "      <td>60.789892</td>\n",
              "      <td>52.999889</td>\n",
              "      <td>1.395167</td>\n",
              "      <td>1.289865</td>\n",
              "      <td>1.228714</td>\n",
              "      <td>1.261812</td>\n",
              "      <td>1.337252</td>\n",
              "      <td>0.546855</td>\n",
              "      <td>0.369252</td>\n",
              "      <td>0.517324</td>\n",
              "      <td>...</td>\n",
              "      <td>0.559962</td>\n",
              "      <td>0.341518</td>\n",
              "      <td>0.441747</td>\n",
              "      <td>0.858477</td>\n",
              "      <td>3.093278</td>\n",
              "      <td>7.384479</td>\n",
              "      <td>0.773936</td>\n",
              "      <td>5.500255e+04</td>\n",
              "      <td>0.355164</td>\n",
              "      <td>0.966987</td>\n",
              "    </tr>\n",
              "    <tr>\n",
              "      <th>min</th>\n",
              "      <td>2.000000</td>\n",
              "      <td>1.000000</td>\n",
              "      <td>1.000000</td>\n",
              "      <td>1.000000</td>\n",
              "      <td>1.000000</td>\n",
              "      <td>1.000000</td>\n",
              "      <td>1.000000</td>\n",
              "      <td>0.000000</td>\n",
              "      <td>0.000000</td>\n",
              "      <td>0.000000</td>\n",
              "      <td>...</td>\n",
              "      <td>0.000000</td>\n",
              "      <td>0.000000</td>\n",
              "      <td>0.000000</td>\n",
              "      <td>1.230690</td>\n",
              "      <td>0.000000</td>\n",
              "      <td>0.000000</td>\n",
              "      <td>0.000000</td>\n",
              "      <td>0.000000e+00</td>\n",
              "      <td>0.000000</td>\n",
              "      <td>0.000000</td>\n",
              "    </tr>\n",
              "    <tr>\n",
              "      <th>25%</th>\n",
              "      <td>64.000000</td>\n",
              "      <td>51.700000</td>\n",
              "      <td>2.000000</td>\n",
              "      <td>2.000000</td>\n",
              "      <td>3.000000</td>\n",
              "      <td>2.000000</td>\n",
              "      <td>2.000000</td>\n",
              "      <td>1.939590</td>\n",
              "      <td>0.663755</td>\n",
              "      <td>0.388143</td>\n",
              "      <td>...</td>\n",
              "      <td>1.931877</td>\n",
              "      <td>0.672057</td>\n",
              "      <td>0.398147</td>\n",
              "      <td>3.312228</td>\n",
              "      <td>0.000000</td>\n",
              "      <td>0.000000</td>\n",
              "      <td>0.000000</td>\n",
              "      <td>0.000000e+00</td>\n",
              "      <td>0.000000</td>\n",
              "      <td>0.000000</td>\n",
              "    </tr>\n",
              "    <tr>\n",
              "      <th>50%</th>\n",
              "      <td>99.000000</td>\n",
              "      <td>78.700000</td>\n",
              "      <td>4.000000</td>\n",
              "      <td>3.000000</td>\n",
              "      <td>4.000000</td>\n",
              "      <td>3.000000</td>\n",
              "      <td>3.000000</td>\n",
              "      <td>2.214220</td>\n",
              "      <td>0.872270</td>\n",
              "      <td>0.569555</td>\n",
              "      <td>...</td>\n",
              "      <td>2.214275</td>\n",
              "      <td>0.875080</td>\n",
              "      <td>0.587110</td>\n",
              "      <td>3.726035</td>\n",
              "      <td>0.000000</td>\n",
              "      <td>1.000000</td>\n",
              "      <td>0.000000</td>\n",
              "      <td>0.000000e+00</td>\n",
              "      <td>0.000000</td>\n",
              "      <td>0.000000</td>\n",
              "    </tr>\n",
              "    <tr>\n",
              "      <th>75%</th>\n",
              "      <td>127.000000</td>\n",
              "      <td>108.700000</td>\n",
              "      <td>5.000000</td>\n",
              "      <td>4.000000</td>\n",
              "      <td>5.000000</td>\n",
              "      <td>4.000000</td>\n",
              "      <td>4.000000</td>\n",
              "      <td>2.571783</td>\n",
              "      <td>1.069448</td>\n",
              "      <td>0.808613</td>\n",
              "      <td>...</td>\n",
              "      <td>2.582335</td>\n",
              "      <td>1.074725</td>\n",
              "      <td>0.854212</td>\n",
              "      <td>4.229495</td>\n",
              "      <td>1.000000</td>\n",
              "      <td>5.000000</td>\n",
              "      <td>1.000000</td>\n",
              "      <td>5.336250e+03</td>\n",
              "      <td>0.000000</td>\n",
              "      <td>1.000000</td>\n",
              "    </tr>\n",
              "    <tr>\n",
              "      <th>max</th>\n",
              "      <td>1389.000000</td>\n",
              "      <td>754.900000</td>\n",
              "      <td>5.000000</td>\n",
              "      <td>5.000000</td>\n",
              "      <td>5.000000</td>\n",
              "      <td>5.000000</td>\n",
              "      <td>5.000000</td>\n",
              "      <td>6.512810</td>\n",
              "      <td>5.053530</td>\n",
              "      <td>8.492540</td>\n",
              "      <td>...</td>\n",
              "      <td>6.593350</td>\n",
              "      <td>5.560940</td>\n",
              "      <td>7.775820</td>\n",
              "      <td>11.726110</td>\n",
              "      <td>126.000000</td>\n",
              "      <td>135.000000</td>\n",
              "      <td>6.000000</td>\n",
              "      <td>1.508727e+06</td>\n",
              "      <td>4.000000</td>\n",
              "      <td>9.000000</td>\n",
              "    </tr>\n",
              "  </tbody>\n",
              "</table>\n",
              "<p>8 rows × 27 columns</p>\n",
              "</div>"
            ],
            "text/plain": [
              "            BEDCERT        RESTOT  OVERALL_RATING  SURVEY_RATING  \\\n",
              "count  15616.000000  15105.000000    15436.000000   15436.000000   \n",
              "mean     106.119813     86.558782        3.332923       2.818412   \n",
              "std       60.789892     52.999889        1.395167       1.289865   \n",
              "min        2.000000      1.000000        1.000000       1.000000   \n",
              "25%       64.000000     51.700000        2.000000       2.000000   \n",
              "50%       99.000000     78.700000        4.000000       3.000000   \n",
              "75%      127.000000    108.700000        5.000000       4.000000   \n",
              "max     1389.000000    754.900000        5.000000       5.000000   \n",
              "\n",
              "       QUALITY_RATING  STAFFING_RATING  RN_STAFFING_RATING        AIDHRD  \\\n",
              "count    15403.000000     15268.000000        15268.000000  14670.000000   \n",
              "mean         3.981952         3.065431            3.264344      2.296539   \n",
              "std          1.228714         1.261812            1.337252      0.546855   \n",
              "min          1.000000         1.000000            1.000000      0.000000   \n",
              "25%          3.000000         2.000000            2.000000      1.939590   \n",
              "50%          4.000000         3.000000            3.000000      2.214220   \n",
              "75%          5.000000         4.000000            4.000000      2.571783   \n",
              "max          5.000000         5.000000            5.000000      6.512810   \n",
              "\n",
              "             VOCHRD         RNHRD       ...            ADJ_AIDE       ADJ_LPN  \\\n",
              "count  14670.000000  14670.000000       ...        14560.000000  14560.000000   \n",
              "mean       0.880983      0.672257       ...            2.303975      0.880558   \n",
              "std        0.369252      0.517324       ...            0.559962      0.341518   \n",
              "min        0.000000      0.000000       ...            0.000000      0.000000   \n",
              "25%        0.663755      0.388143       ...            1.931877      0.672057   \n",
              "50%        0.872270      0.569555       ...            2.214275      0.875080   \n",
              "75%        1.069448      0.808613       ...            2.582335      1.074725   \n",
              "max        5.053530      8.492540       ...            6.593350      5.560940   \n",
              "\n",
              "             ADJ_RN     ADJ_TOTAL  INCIDENT_CNT    CMPLNT_CNT      FINE_CNT  \\\n",
              "count  14560.000000  14560.000000  15616.000000  15616.000000  15616.000000   \n",
              "mean       0.679904      3.855575      1.194032      4.198258      0.430712   \n",
              "std        0.441747      0.858477      3.093278      7.384479      0.773936   \n",
              "min        0.000000      1.230690      0.000000      0.000000      0.000000   \n",
              "25%        0.398147      3.312228      0.000000      0.000000      0.000000   \n",
              "50%        0.587110      3.726035      0.000000      1.000000      0.000000   \n",
              "75%        0.854212      4.229495      1.000000      5.000000      1.000000   \n",
              "max        7.775820     11.726110    126.000000    135.000000      6.000000   \n",
              "\n",
              "           FINE_TOT    PAYDEN_CNT  TOT_PENLTY_CNT  \n",
              "count  1.561600e+04  15616.000000    15616.000000  \n",
              "mean   1.458445e+04      0.098105        0.528817  \n",
              "std    5.500255e+04      0.355164        0.966987  \n",
              "min    0.000000e+00      0.000000        0.000000  \n",
              "25%    0.000000e+00      0.000000        0.000000  \n",
              "50%    0.000000e+00      0.000000        0.000000  \n",
              "75%    5.336250e+03      0.000000        1.000000  \n",
              "max    1.508727e+06      4.000000        9.000000  \n",
              "\n",
              "[8 rows x 27 columns]"
            ]
          },
          "metadata": {
            "tags": []
          },
          "execution_count": 19
        }
      ]
    },
    {
      "cell_type": "markdown",
      "metadata": {
        "id": "eG6Qnn0SE5VG",
        "colab_type": "text"
      },
      "source": [
        "**Remove NaN.**"
      ]
    },
    {
      "cell_type": "code",
      "metadata": {
        "id": "lRu0ecfNMIOw",
        "colab_type": "code",
        "outputId": "e7a4867d-9e51-4f42-da3c-03928b06d7eb",
        "colab": {
          "base_uri": "https://localhost:8080/",
          "height": 346
        }
      },
      "source": [
        "Provider_Info_numeric.replace(['NaN', 'NaT'], np.nan, inplace = True)\n",
        "Provider_Info_numeric_cleaned = Provider_Info_numeric.dropna(how='any', axis = 0)\n",
        "Provider_Info_numeric_cleaned.describe()"
      ],
      "execution_count": 0,
      "outputs": [
        {
          "output_type": "execute_result",
          "data": {
            "text/html": [
              "<div>\n",
              "<style scoped>\n",
              "    .dataframe tbody tr th:only-of-type {\n",
              "        vertical-align: middle;\n",
              "    }\n",
              "\n",
              "    .dataframe tbody tr th {\n",
              "        vertical-align: top;\n",
              "    }\n",
              "\n",
              "    .dataframe thead th {\n",
              "        text-align: right;\n",
              "    }\n",
              "</style>\n",
              "<table border=\"1\" class=\"dataframe\">\n",
              "  <thead>\n",
              "    <tr style=\"text-align: right;\">\n",
              "      <th></th>\n",
              "      <th>BEDCERT</th>\n",
              "      <th>RESTOT</th>\n",
              "      <th>OVERALL_RATING</th>\n",
              "      <th>SURVEY_RATING</th>\n",
              "      <th>QUALITY_RATING</th>\n",
              "      <th>STAFFING_RATING</th>\n",
              "      <th>RN_STAFFING_RATING</th>\n",
              "      <th>AIDHRD</th>\n",
              "      <th>VOCHRD</th>\n",
              "      <th>RNHRD</th>\n",
              "      <th>...</th>\n",
              "      <th>ADJ_AIDE</th>\n",
              "      <th>ADJ_LPN</th>\n",
              "      <th>ADJ_RN</th>\n",
              "      <th>ADJ_TOTAL</th>\n",
              "      <th>INCIDENT_CNT</th>\n",
              "      <th>CMPLNT_CNT</th>\n",
              "      <th>FINE_CNT</th>\n",
              "      <th>FINE_TOT</th>\n",
              "      <th>PAYDEN_CNT</th>\n",
              "      <th>TOT_PENLTY_CNT</th>\n",
              "    </tr>\n",
              "  </thead>\n",
              "  <tbody>\n",
              "    <tr>\n",
              "      <th>count</th>\n",
              "      <td>14557.000000</td>\n",
              "      <td>14557.000000</td>\n",
              "      <td>14557.000000</td>\n",
              "      <td>14557.000000</td>\n",
              "      <td>14557.000000</td>\n",
              "      <td>14557.000000</td>\n",
              "      <td>14557.000000</td>\n",
              "      <td>14557.000000</td>\n",
              "      <td>14557.000000</td>\n",
              "      <td>14557.000000</td>\n",
              "      <td>...</td>\n",
              "      <td>14557.000000</td>\n",
              "      <td>14557.000000</td>\n",
              "      <td>14557.000000</td>\n",
              "      <td>14557.000000</td>\n",
              "      <td>14557.000000</td>\n",
              "      <td>14557.000000</td>\n",
              "      <td>14557.000000</td>\n",
              "      <td>1.455700e+04</td>\n",
              "      <td>14557.000000</td>\n",
              "      <td>14557.000000</td>\n",
              "    </tr>\n",
              "    <tr>\n",
              "      <th>mean</th>\n",
              "      <td>107.454214</td>\n",
              "      <td>87.349440</td>\n",
              "      <td>3.379199</td>\n",
              "      <td>2.818369</td>\n",
              "      <td>3.999107</td>\n",
              "      <td>3.165487</td>\n",
              "      <td>3.374116</td>\n",
              "      <td>2.294152</td>\n",
              "      <td>0.878230</td>\n",
              "      <td>0.668123</td>\n",
              "      <td>...</td>\n",
              "      <td>2.303709</td>\n",
              "      <td>0.880563</td>\n",
              "      <td>0.679592</td>\n",
              "      <td>3.854849</td>\n",
              "      <td>1.192279</td>\n",
              "      <td>4.272240</td>\n",
              "      <td>0.436835</td>\n",
              "      <td>1.481532e+04</td>\n",
              "      <td>0.095075</td>\n",
              "      <td>0.531909</td>\n",
              "    </tr>\n",
              "    <tr>\n",
              "      <th>std</th>\n",
              "      <td>60.527961</td>\n",
              "      <td>52.785727</td>\n",
              "      <td>1.384830</td>\n",
              "      <td>1.285816</td>\n",
              "      <td>1.215313</td>\n",
              "      <td>1.204848</td>\n",
              "      <td>1.270249</td>\n",
              "      <td>0.544454</td>\n",
              "      <td>0.364889</td>\n",
              "      <td>0.511148</td>\n",
              "      <td>...</td>\n",
              "      <td>0.559683</td>\n",
              "      <td>0.341374</td>\n",
              "      <td>0.441242</td>\n",
              "      <td>0.856764</td>\n",
              "      <td>3.088384</td>\n",
              "      <td>7.449123</td>\n",
              "      <td>0.778117</td>\n",
              "      <td>5.581743e+04</td>\n",
              "      <td>0.347173</td>\n",
              "      <td>0.964413</td>\n",
              "    </tr>\n",
              "    <tr>\n",
              "      <th>min</th>\n",
              "      <td>6.000000</td>\n",
              "      <td>2.400000</td>\n",
              "      <td>1.000000</td>\n",
              "      <td>1.000000</td>\n",
              "      <td>1.000000</td>\n",
              "      <td>1.000000</td>\n",
              "      <td>1.000000</td>\n",
              "      <td>0.000000</td>\n",
              "      <td>0.000000</td>\n",
              "      <td>0.000000</td>\n",
              "      <td>...</td>\n",
              "      <td>0.000000</td>\n",
              "      <td>0.000000</td>\n",
              "      <td>0.000000</td>\n",
              "      <td>1.230690</td>\n",
              "      <td>0.000000</td>\n",
              "      <td>0.000000</td>\n",
              "      <td>0.000000</td>\n",
              "      <td>0.000000e+00</td>\n",
              "      <td>0.000000</td>\n",
              "      <td>0.000000</td>\n",
              "    </tr>\n",
              "    <tr>\n",
              "      <th>25%</th>\n",
              "      <td>66.000000</td>\n",
              "      <td>52.500000</td>\n",
              "      <td>2.000000</td>\n",
              "      <td>2.000000</td>\n",
              "      <td>3.000000</td>\n",
              "      <td>2.000000</td>\n",
              "      <td>3.000000</td>\n",
              "      <td>1.938830</td>\n",
              "      <td>0.663340</td>\n",
              "      <td>0.387520</td>\n",
              "      <td>...</td>\n",
              "      <td>1.931870</td>\n",
              "      <td>0.672070</td>\n",
              "      <td>0.398140</td>\n",
              "      <td>3.312220</td>\n",
              "      <td>0.000000</td>\n",
              "      <td>0.000000</td>\n",
              "      <td>0.000000</td>\n",
              "      <td>0.000000e+00</td>\n",
              "      <td>0.000000</td>\n",
              "      <td>0.000000</td>\n",
              "    </tr>\n",
              "    <tr>\n",
              "      <th>50%</th>\n",
              "      <td>100.000000</td>\n",
              "      <td>79.500000</td>\n",
              "      <td>4.000000</td>\n",
              "      <td>3.000000</td>\n",
              "      <td>4.000000</td>\n",
              "      <td>3.000000</td>\n",
              "      <td>3.000000</td>\n",
              "      <td>2.212750</td>\n",
              "      <td>0.870550</td>\n",
              "      <td>0.567820</td>\n",
              "      <td>...</td>\n",
              "      <td>2.214240</td>\n",
              "      <td>0.875090</td>\n",
              "      <td>0.587010</td>\n",
              "      <td>3.725320</td>\n",
              "      <td>0.000000</td>\n",
              "      <td>2.000000</td>\n",
              "      <td>0.000000</td>\n",
              "      <td>0.000000e+00</td>\n",
              "      <td>0.000000</td>\n",
              "      <td>0.000000</td>\n",
              "    </tr>\n",
              "    <tr>\n",
              "      <th>75%</th>\n",
              "      <td>128.000000</td>\n",
              "      <td>109.100000</td>\n",
              "      <td>5.000000</td>\n",
              "      <td>4.000000</td>\n",
              "      <td>5.000000</td>\n",
              "      <td>4.000000</td>\n",
              "      <td>4.000000</td>\n",
              "      <td>2.570280</td>\n",
              "      <td>1.066380</td>\n",
              "      <td>0.805670</td>\n",
              "      <td>...</td>\n",
              "      <td>2.582100</td>\n",
              "      <td>1.074720</td>\n",
              "      <td>0.854140</td>\n",
              "      <td>4.229300</td>\n",
              "      <td>1.000000</td>\n",
              "      <td>5.000000</td>\n",
              "      <td>1.000000</td>\n",
              "      <td>5.866000e+03</td>\n",
              "      <td>0.000000</td>\n",
              "      <td>1.000000</td>\n",
              "    </tr>\n",
              "    <tr>\n",
              "      <th>max</th>\n",
              "      <td>1389.000000</td>\n",
              "      <td>754.900000</td>\n",
              "      <td>5.000000</td>\n",
              "      <td>5.000000</td>\n",
              "      <td>5.000000</td>\n",
              "      <td>5.000000</td>\n",
              "      <td>5.000000</td>\n",
              "      <td>6.512810</td>\n",
              "      <td>5.053530</td>\n",
              "      <td>8.492540</td>\n",
              "      <td>...</td>\n",
              "      <td>6.593350</td>\n",
              "      <td>5.560940</td>\n",
              "      <td>7.775820</td>\n",
              "      <td>11.726110</td>\n",
              "      <td>126.000000</td>\n",
              "      <td>135.000000</td>\n",
              "      <td>6.000000</td>\n",
              "      <td>1.508727e+06</td>\n",
              "      <td>4.000000</td>\n",
              "      <td>9.000000</td>\n",
              "    </tr>\n",
              "  </tbody>\n",
              "</table>\n",
              "<p>8 rows × 27 columns</p>\n",
              "</div>"
            ],
            "text/plain": [
              "            BEDCERT        RESTOT  OVERALL_RATING  SURVEY_RATING  \\\n",
              "count  14557.000000  14557.000000    14557.000000   14557.000000   \n",
              "mean     107.454214     87.349440        3.379199       2.818369   \n",
              "std       60.527961     52.785727        1.384830       1.285816   \n",
              "min        6.000000      2.400000        1.000000       1.000000   \n",
              "25%       66.000000     52.500000        2.000000       2.000000   \n",
              "50%      100.000000     79.500000        4.000000       3.000000   \n",
              "75%      128.000000    109.100000        5.000000       4.000000   \n",
              "max     1389.000000    754.900000        5.000000       5.000000   \n",
              "\n",
              "       QUALITY_RATING  STAFFING_RATING  RN_STAFFING_RATING        AIDHRD  \\\n",
              "count    14557.000000     14557.000000        14557.000000  14557.000000   \n",
              "mean         3.999107         3.165487            3.374116      2.294152   \n",
              "std          1.215313         1.204848            1.270249      0.544454   \n",
              "min          1.000000         1.000000            1.000000      0.000000   \n",
              "25%          3.000000         2.000000            3.000000      1.938830   \n",
              "50%          4.000000         3.000000            3.000000      2.212750   \n",
              "75%          5.000000         4.000000            4.000000      2.570280   \n",
              "max          5.000000         5.000000            5.000000      6.512810   \n",
              "\n",
              "             VOCHRD         RNHRD       ...            ADJ_AIDE       ADJ_LPN  \\\n",
              "count  14557.000000  14557.000000       ...        14557.000000  14557.000000   \n",
              "mean       0.878230      0.668123       ...            2.303709      0.880563   \n",
              "std        0.364889      0.511148       ...            0.559683      0.341374   \n",
              "min        0.000000      0.000000       ...            0.000000      0.000000   \n",
              "25%        0.663340      0.387520       ...            1.931870      0.672070   \n",
              "50%        0.870550      0.567820       ...            2.214240      0.875090   \n",
              "75%        1.066380      0.805670       ...            2.582100      1.074720   \n",
              "max        5.053530      8.492540       ...            6.593350      5.560940   \n",
              "\n",
              "             ADJ_RN     ADJ_TOTAL  INCIDENT_CNT    CMPLNT_CNT      FINE_CNT  \\\n",
              "count  14557.000000  14557.000000  14557.000000  14557.000000  14557.000000   \n",
              "mean       0.679592      3.854849      1.192279      4.272240      0.436835   \n",
              "std        0.441242      0.856764      3.088384      7.449123      0.778117   \n",
              "min        0.000000      1.230690      0.000000      0.000000      0.000000   \n",
              "25%        0.398140      3.312220      0.000000      0.000000      0.000000   \n",
              "50%        0.587010      3.725320      0.000000      2.000000      0.000000   \n",
              "75%        0.854140      4.229300      1.000000      5.000000      1.000000   \n",
              "max        7.775820     11.726110    126.000000    135.000000      6.000000   \n",
              "\n",
              "           FINE_TOT    PAYDEN_CNT  TOT_PENLTY_CNT  \n",
              "count  1.455700e+04  14557.000000    14557.000000  \n",
              "mean   1.481532e+04      0.095075        0.531909  \n",
              "std    5.581743e+04      0.347173        0.964413  \n",
              "min    0.000000e+00      0.000000        0.000000  \n",
              "25%    0.000000e+00      0.000000        0.000000  \n",
              "50%    0.000000e+00      0.000000        0.000000  \n",
              "75%    5.866000e+03      0.000000        1.000000  \n",
              "max    1.508727e+06      4.000000        9.000000  \n",
              "\n",
              "[8 rows x 27 columns]"
            ]
          },
          "metadata": {
            "tags": []
          },
          "execution_count": 23
        }
      ]
    },
    {
      "cell_type": "markdown",
      "metadata": {
        "id": "EzgBS26bM-1S",
        "colab_type": "text"
      },
      "source": [
        "**Move OVERALL_RATING to the first position.**"
      ]
    },
    {
      "cell_type": "code",
      "metadata": {
        "id": "3NcJfhsnNEFJ",
        "colab_type": "code",
        "outputId": "eb5f2367-60a0-4641-fba7-f9847d157f88",
        "colab": {
          "base_uri": "https://localhost:8080/",
          "height": 253
        }
      },
      "source": [
        "cols = Provider_Info_numeric_cleaned.columns.tolist()\n",
        "cols = [cols[3]] + cols[:3] + cols[4:]\n",
        "Provider_Info_numeric_cleaned = Provider_Info_numeric_cleaned[cols]\n",
        "Provider_Info_numeric_cleaned.head()"
      ],
      "execution_count": 0,
      "outputs": [
        {
          "output_type": "execute_result",
          "data": {
            "text/html": [
              "<div>\n",
              "<style scoped>\n",
              "    .dataframe tbody tr th:only-of-type {\n",
              "        vertical-align: middle;\n",
              "    }\n",
              "\n",
              "    .dataframe tbody tr th {\n",
              "        vertical-align: top;\n",
              "    }\n",
              "\n",
              "    .dataframe thead th {\n",
              "        text-align: right;\n",
              "    }\n",
              "</style>\n",
              "<table border=\"1\" class=\"dataframe\">\n",
              "  <thead>\n",
              "    <tr style=\"text-align: right;\">\n",
              "      <th></th>\n",
              "      <th>OVERALL_RATING</th>\n",
              "      <th>BEDCERT</th>\n",
              "      <th>SURVEY_RATING</th>\n",
              "      <th>RESTOT</th>\n",
              "      <th>QUALITY_RATING</th>\n",
              "      <th>STAFFING_RATING</th>\n",
              "      <th>RN_STAFFING_RATING</th>\n",
              "      <th>AIDHRD</th>\n",
              "      <th>VOCHRD</th>\n",
              "      <th>RNHRD</th>\n",
              "      <th>...</th>\n",
              "      <th>ADJ_AIDE</th>\n",
              "      <th>ADJ_LPN</th>\n",
              "      <th>ADJ_RN</th>\n",
              "      <th>ADJ_TOTAL</th>\n",
              "      <th>INCIDENT_CNT</th>\n",
              "      <th>CMPLNT_CNT</th>\n",
              "      <th>FINE_CNT</th>\n",
              "      <th>FINE_TOT</th>\n",
              "      <th>PAYDEN_CNT</th>\n",
              "      <th>TOT_PENLTY_CNT</th>\n",
              "    </tr>\n",
              "  </thead>\n",
              "  <tbody>\n",
              "    <tr>\n",
              "      <th>0</th>\n",
              "      <td>5.0</td>\n",
              "      <td>57.0</td>\n",
              "      <td>5.0</td>\n",
              "      <td>51.5</td>\n",
              "      <td>5.0</td>\n",
              "      <td>4.0</td>\n",
              "      <td>4.0</td>\n",
              "      <td>3.43572</td>\n",
              "      <td>1.16495</td>\n",
              "      <td>0.66830</td>\n",
              "      <td>...</td>\n",
              "      <td>3.11741</td>\n",
              "      <td>1.24750</td>\n",
              "      <td>0.83853</td>\n",
              "      <td>5.13047</td>\n",
              "      <td>0.0</td>\n",
              "      <td>0.0</td>\n",
              "      <td>0.0</td>\n",
              "      <td>0.0</td>\n",
              "      <td>0.0</td>\n",
              "      <td>0.0</td>\n",
              "    </tr>\n",
              "    <tr>\n",
              "      <th>3</th>\n",
              "      <td>2.0</td>\n",
              "      <td>92.0</td>\n",
              "      <td>2.0</td>\n",
              "      <td>79.8</td>\n",
              "      <td>4.0</td>\n",
              "      <td>3.0</td>\n",
              "      <td>3.0</td>\n",
              "      <td>2.32722</td>\n",
              "      <td>0.82104</td>\n",
              "      <td>0.52177</td>\n",
              "      <td>...</td>\n",
              "      <td>2.40074</td>\n",
              "      <td>0.86962</td>\n",
              "      <td>0.56463</td>\n",
              "      <td>3.83026</td>\n",
              "      <td>0.0</td>\n",
              "      <td>1.0</td>\n",
              "      <td>0.0</td>\n",
              "      <td>0.0</td>\n",
              "      <td>0.0</td>\n",
              "      <td>0.0</td>\n",
              "    </tr>\n",
              "    <tr>\n",
              "      <th>4</th>\n",
              "      <td>3.0</td>\n",
              "      <td>103.0</td>\n",
              "      <td>3.0</td>\n",
              "      <td>98.1</td>\n",
              "      <td>4.0</td>\n",
              "      <td>3.0</td>\n",
              "      <td>2.0</td>\n",
              "      <td>2.33617</td>\n",
              "      <td>0.92407</td>\n",
              "      <td>0.23493</td>\n",
              "      <td>...</td>\n",
              "      <td>2.55126</td>\n",
              "      <td>1.08955</td>\n",
              "      <td>0.30360</td>\n",
              "      <td>3.95709</td>\n",
              "      <td>0.0</td>\n",
              "      <td>0.0</td>\n",
              "      <td>0.0</td>\n",
              "      <td>0.0</td>\n",
              "      <td>0.0</td>\n",
              "      <td>0.0</td>\n",
              "    </tr>\n",
              "    <tr>\n",
              "      <th>5</th>\n",
              "      <td>5.0</td>\n",
              "      <td>149.0</td>\n",
              "      <td>3.0</td>\n",
              "      <td>119.7</td>\n",
              "      <td>5.0</td>\n",
              "      <td>4.0</td>\n",
              "      <td>3.0</td>\n",
              "      <td>2.57869</td>\n",
              "      <td>1.01443</td>\n",
              "      <td>0.41055</td>\n",
              "      <td>...</td>\n",
              "      <td>2.56783</td>\n",
              "      <td>1.04823</td>\n",
              "      <td>0.46444</td>\n",
              "      <td>4.07866</td>\n",
              "      <td>0.0</td>\n",
              "      <td>1.0</td>\n",
              "      <td>0.0</td>\n",
              "      <td>0.0</td>\n",
              "      <td>0.0</td>\n",
              "      <td>0.0</td>\n",
              "    </tr>\n",
              "    <tr>\n",
              "      <th>6</th>\n",
              "      <td>5.0</td>\n",
              "      <td>124.0</td>\n",
              "      <td>4.0</td>\n",
              "      <td>96.0</td>\n",
              "      <td>5.0</td>\n",
              "      <td>3.0</td>\n",
              "      <td>4.0</td>\n",
              "      <td>1.99985</td>\n",
              "      <td>0.62768</td>\n",
              "      <td>0.59598</td>\n",
              "      <td>...</td>\n",
              "      <td>2.12102</td>\n",
              "      <td>0.70311</td>\n",
              "      <td>0.75448</td>\n",
              "      <td>3.52979</td>\n",
              "      <td>1.0</td>\n",
              "      <td>1.0</td>\n",
              "      <td>0.0</td>\n",
              "      <td>0.0</td>\n",
              "      <td>0.0</td>\n",
              "      <td>0.0</td>\n",
              "    </tr>\n",
              "  </tbody>\n",
              "</table>\n",
              "<p>5 rows × 27 columns</p>\n",
              "</div>"
            ],
            "text/plain": [
              "   OVERALL_RATING  BEDCERT  SURVEY_RATING  RESTOT  QUALITY_RATING  \\\n",
              "0             5.0     57.0            5.0    51.5             5.0   \n",
              "3             2.0     92.0            2.0    79.8             4.0   \n",
              "4             3.0    103.0            3.0    98.1             4.0   \n",
              "5             5.0    149.0            3.0   119.7             5.0   \n",
              "6             5.0    124.0            4.0    96.0             5.0   \n",
              "\n",
              "   STAFFING_RATING  RN_STAFFING_RATING   AIDHRD   VOCHRD    RNHRD  \\\n",
              "0              4.0                 4.0  3.43572  1.16495  0.66830   \n",
              "3              3.0                 3.0  2.32722  0.82104  0.52177   \n",
              "4              3.0                 2.0  2.33617  0.92407  0.23493   \n",
              "5              4.0                 3.0  2.57869  1.01443  0.41055   \n",
              "6              3.0                 4.0  1.99985  0.62768  0.59598   \n",
              "\n",
              "        ...        ADJ_AIDE  ADJ_LPN   ADJ_RN  ADJ_TOTAL  INCIDENT_CNT  \\\n",
              "0       ...         3.11741  1.24750  0.83853    5.13047           0.0   \n",
              "3       ...         2.40074  0.86962  0.56463    3.83026           0.0   \n",
              "4       ...         2.55126  1.08955  0.30360    3.95709           0.0   \n",
              "5       ...         2.56783  1.04823  0.46444    4.07866           0.0   \n",
              "6       ...         2.12102  0.70311  0.75448    3.52979           1.0   \n",
              "\n",
              "   CMPLNT_CNT  FINE_CNT  FINE_TOT  PAYDEN_CNT  TOT_PENLTY_CNT  \n",
              "0         0.0       0.0       0.0         0.0             0.0  \n",
              "3         1.0       0.0       0.0         0.0             0.0  \n",
              "4         0.0       0.0       0.0         0.0             0.0  \n",
              "5         1.0       0.0       0.0         0.0             0.0  \n",
              "6         1.0       0.0       0.0         0.0             0.0  \n",
              "\n",
              "[5 rows x 27 columns]"
            ]
          },
          "metadata": {
            "tags": []
          },
          "execution_count": 38
        }
      ]
    },
    {
      "cell_type": "markdown",
      "metadata": {
        "id": "1bjPX9FuKIoB",
        "colab_type": "text"
      },
      "source": [
        "**Split Train and Test data.**"
      ]
    },
    {
      "cell_type": "code",
      "metadata": {
        "id": "XTWqJfPpK8e8",
        "colab_type": "code",
        "colab": {}
      },
      "source": [
        "x_train, x_test, y_train, y_test = train_test_split(Provider_Info_numeric_cleaned.iloc[:,1:], Provider_Info_numeric_cleaned.iloc[:,0], test_size = .2, random_state = 43)"
      ],
      "execution_count": 0,
      "outputs": []
    },
    {
      "cell_type": "code",
      "metadata": {
        "id": "qcDRB84RIDYR",
        "colab_type": "code",
        "outputId": "22c24670-f451-417d-adb9-b1dc96766370",
        "colab": {
          "base_uri": "https://localhost:8080/",
          "height": 253
        }
      },
      "source": [
        "x_train.head()"
      ],
      "execution_count": 0,
      "outputs": [
        {
          "output_type": "execute_result",
          "data": {
            "text/html": [
              "<div>\n",
              "<style scoped>\n",
              "    .dataframe tbody tr th:only-of-type {\n",
              "        vertical-align: middle;\n",
              "    }\n",
              "\n",
              "    .dataframe tbody tr th {\n",
              "        vertical-align: top;\n",
              "    }\n",
              "\n",
              "    .dataframe thead th {\n",
              "        text-align: right;\n",
              "    }\n",
              "</style>\n",
              "<table border=\"1\" class=\"dataframe\">\n",
              "  <thead>\n",
              "    <tr style=\"text-align: right;\">\n",
              "      <th></th>\n",
              "      <th>BEDCERT</th>\n",
              "      <th>SURVEY_RATING</th>\n",
              "      <th>RESTOT</th>\n",
              "      <th>QUALITY_RATING</th>\n",
              "      <th>STAFFING_RATING</th>\n",
              "      <th>RN_STAFFING_RATING</th>\n",
              "      <th>AIDHRD</th>\n",
              "      <th>VOCHRD</th>\n",
              "      <th>RNHRD</th>\n",
              "      <th>TOTLICHRD</th>\n",
              "      <th>...</th>\n",
              "      <th>ADJ_AIDE</th>\n",
              "      <th>ADJ_LPN</th>\n",
              "      <th>ADJ_RN</th>\n",
              "      <th>ADJ_TOTAL</th>\n",
              "      <th>INCIDENT_CNT</th>\n",
              "      <th>CMPLNT_CNT</th>\n",
              "      <th>FINE_CNT</th>\n",
              "      <th>FINE_TOT</th>\n",
              "      <th>PAYDEN_CNT</th>\n",
              "      <th>TOT_PENLTY_CNT</th>\n",
              "    </tr>\n",
              "  </thead>\n",
              "  <tbody>\n",
              "    <tr>\n",
              "      <th>13487</th>\n",
              "      <td>54.0</td>\n",
              "      <td>2.0</td>\n",
              "      <td>31.2</td>\n",
              "      <td>4.0</td>\n",
              "      <td>5.0</td>\n",
              "      <td>5.0</td>\n",
              "      <td>2.95350</td>\n",
              "      <td>1.45921</td>\n",
              "      <td>1.59812</td>\n",
              "      <td>3.05733</td>\n",
              "      <td>...</td>\n",
              "      <td>2.67316</td>\n",
              "      <td>1.23426</td>\n",
              "      <td>1.25358</td>\n",
              "      <td>5.25936</td>\n",
              "      <td>10.0</td>\n",
              "      <td>9.0</td>\n",
              "      <td>2.0</td>\n",
              "      <td>120369.0</td>\n",
              "      <td>1.0</td>\n",
              "      <td>3.0</td>\n",
              "    </tr>\n",
              "    <tr>\n",
              "      <th>7149</th>\n",
              "      <td>40.0</td>\n",
              "      <td>3.0</td>\n",
              "      <td>38.4</td>\n",
              "      <td>5.0</td>\n",
              "      <td>1.0</td>\n",
              "      <td>2.0</td>\n",
              "      <td>1.00483</td>\n",
              "      <td>0.57287</td>\n",
              "      <td>0.23909</td>\n",
              "      <td>0.81196</td>\n",
              "      <td>...</td>\n",
              "      <td>1.50190</td>\n",
              "      <td>0.79959</td>\n",
              "      <td>0.37556</td>\n",
              "      <td>2.68619</td>\n",
              "      <td>0.0</td>\n",
              "      <td>0.0</td>\n",
              "      <td>0.0</td>\n",
              "      <td>0.0</td>\n",
              "      <td>0.0</td>\n",
              "      <td>0.0</td>\n",
              "    </tr>\n",
              "    <tr>\n",
              "      <th>1015</th>\n",
              "      <td>121.0</td>\n",
              "      <td>2.0</td>\n",
              "      <td>118.2</td>\n",
              "      <td>5.0</td>\n",
              "      <td>2.0</td>\n",
              "      <td>2.0</td>\n",
              "      <td>2.07439</td>\n",
              "      <td>0.79683</td>\n",
              "      <td>0.32475</td>\n",
              "      <td>1.12159</td>\n",
              "      <td>...</td>\n",
              "      <td>2.03111</td>\n",
              "      <td>0.84839</td>\n",
              "      <td>0.38146</td>\n",
              "      <td>3.25391</td>\n",
              "      <td>15.0</td>\n",
              "      <td>15.0</td>\n",
              "      <td>0.0</td>\n",
              "      <td>0.0</td>\n",
              "      <td>0.0</td>\n",
              "      <td>0.0</td>\n",
              "    </tr>\n",
              "    <tr>\n",
              "      <th>2585</th>\n",
              "      <td>50.0</td>\n",
              "      <td>4.0</td>\n",
              "      <td>46.8</td>\n",
              "      <td>3.0</td>\n",
              "      <td>2.0</td>\n",
              "      <td>2.0</td>\n",
              "      <td>1.73202</td>\n",
              "      <td>1.23724</td>\n",
              "      <td>0.31842</td>\n",
              "      <td>1.55566</td>\n",
              "      <td>...</td>\n",
              "      <td>1.77061</td>\n",
              "      <td>1.31478</td>\n",
              "      <td>0.35352</td>\n",
              "      <td>3.42313</td>\n",
              "      <td>0.0</td>\n",
              "      <td>0.0</td>\n",
              "      <td>1.0</td>\n",
              "      <td>15265.0</td>\n",
              "      <td>0.0</td>\n",
              "      <td>1.0</td>\n",
              "    </tr>\n",
              "    <tr>\n",
              "      <th>2051</th>\n",
              "      <td>120.0</td>\n",
              "      <td>3.0</td>\n",
              "      <td>114.0</td>\n",
              "      <td>5.0</td>\n",
              "      <td>4.0</td>\n",
              "      <td>4.0</td>\n",
              "      <td>2.56633</td>\n",
              "      <td>0.97588</td>\n",
              "      <td>0.57167</td>\n",
              "      <td>1.54755</td>\n",
              "      <td>...</td>\n",
              "      <td>2.32180</td>\n",
              "      <td>0.97664</td>\n",
              "      <td>0.60328</td>\n",
              "      <td>3.87363</td>\n",
              "      <td>0.0</td>\n",
              "      <td>0.0</td>\n",
              "      <td>0.0</td>\n",
              "      <td>0.0</td>\n",
              "      <td>0.0</td>\n",
              "      <td>0.0</td>\n",
              "    </tr>\n",
              "  </tbody>\n",
              "</table>\n",
              "<p>5 rows × 26 columns</p>\n",
              "</div>"
            ],
            "text/plain": [
              "       BEDCERT  SURVEY_RATING  RESTOT  QUALITY_RATING  STAFFING_RATING  \\\n",
              "13487     54.0            2.0    31.2             4.0              5.0   \n",
              "7149      40.0            3.0    38.4             5.0              1.0   \n",
              "1015     121.0            2.0   118.2             5.0              2.0   \n",
              "2585      50.0            4.0    46.8             3.0              2.0   \n",
              "2051     120.0            3.0   114.0             5.0              4.0   \n",
              "\n",
              "       RN_STAFFING_RATING   AIDHRD   VOCHRD    RNHRD  TOTLICHRD  \\\n",
              "13487                 5.0  2.95350  1.45921  1.59812    3.05733   \n",
              "7149                  2.0  1.00483  0.57287  0.23909    0.81196   \n",
              "1015                  2.0  2.07439  0.79683  0.32475    1.12159   \n",
              "2585                  2.0  1.73202  1.23724  0.31842    1.55566   \n",
              "2051                  4.0  2.56633  0.97588  0.57167    1.54755   \n",
              "\n",
              "            ...        ADJ_AIDE  ADJ_LPN   ADJ_RN  ADJ_TOTAL  INCIDENT_CNT  \\\n",
              "13487       ...         2.67316  1.23426  1.25358    5.25936          10.0   \n",
              "7149        ...         1.50190  0.79959  0.37556    2.68619           0.0   \n",
              "1015        ...         2.03111  0.84839  0.38146    3.25391          15.0   \n",
              "2585        ...         1.77061  1.31478  0.35352    3.42313           0.0   \n",
              "2051        ...         2.32180  0.97664  0.60328    3.87363           0.0   \n",
              "\n",
              "       CMPLNT_CNT  FINE_CNT  FINE_TOT  PAYDEN_CNT  TOT_PENLTY_CNT  \n",
              "13487         9.0       2.0  120369.0         1.0             3.0  \n",
              "7149          0.0       0.0       0.0         0.0             0.0  \n",
              "1015         15.0       0.0       0.0         0.0             0.0  \n",
              "2585          0.0       1.0   15265.0         0.0             1.0  \n",
              "2051          0.0       0.0       0.0         0.0             0.0  \n",
              "\n",
              "[5 rows x 26 columns]"
            ]
          },
          "metadata": {
            "tags": []
          },
          "execution_count": 86
        }
      ]
    },
    {
      "cell_type": "code",
      "metadata": {
        "id": "TdJzF5AnLKCu",
        "colab_type": "code",
        "outputId": "4ecd2eb0-fc40-4b55-af8f-3bbf1f0858a4",
        "colab": {
          "base_uri": "https://localhost:8080/",
          "height": 346
        }
      },
      "source": [
        "x_train.describe()"
      ],
      "execution_count": 0,
      "outputs": [
        {
          "output_type": "execute_result",
          "data": {
            "text/html": [
              "<div>\n",
              "<style scoped>\n",
              "    .dataframe tbody tr th:only-of-type {\n",
              "        vertical-align: middle;\n",
              "    }\n",
              "\n",
              "    .dataframe tbody tr th {\n",
              "        vertical-align: top;\n",
              "    }\n",
              "\n",
              "    .dataframe thead th {\n",
              "        text-align: right;\n",
              "    }\n",
              "</style>\n",
              "<table border=\"1\" class=\"dataframe\">\n",
              "  <thead>\n",
              "    <tr style=\"text-align: right;\">\n",
              "      <th></th>\n",
              "      <th>BEDCERT</th>\n",
              "      <th>SURVEY_RATING</th>\n",
              "      <th>RESTOT</th>\n",
              "      <th>QUALITY_RATING</th>\n",
              "      <th>STAFFING_RATING</th>\n",
              "      <th>RN_STAFFING_RATING</th>\n",
              "      <th>AIDHRD</th>\n",
              "      <th>VOCHRD</th>\n",
              "      <th>RNHRD</th>\n",
              "      <th>TOTLICHRD</th>\n",
              "      <th>...</th>\n",
              "      <th>ADJ_AIDE</th>\n",
              "      <th>ADJ_LPN</th>\n",
              "      <th>ADJ_RN</th>\n",
              "      <th>ADJ_TOTAL</th>\n",
              "      <th>INCIDENT_CNT</th>\n",
              "      <th>CMPLNT_CNT</th>\n",
              "      <th>FINE_CNT</th>\n",
              "      <th>FINE_TOT</th>\n",
              "      <th>PAYDEN_CNT</th>\n",
              "      <th>TOT_PENLTY_CNT</th>\n",
              "    </tr>\n",
              "  </thead>\n",
              "  <tbody>\n",
              "    <tr>\n",
              "      <th>count</th>\n",
              "      <td>11645.000000</td>\n",
              "      <td>11645.000000</td>\n",
              "      <td>11645.000000</td>\n",
              "      <td>11645.000000</td>\n",
              "      <td>11645.000000</td>\n",
              "      <td>11645.000000</td>\n",
              "      <td>11645.000000</td>\n",
              "      <td>11645.000000</td>\n",
              "      <td>11645.000000</td>\n",
              "      <td>11645.000000</td>\n",
              "      <td>...</td>\n",
              "      <td>11645.000000</td>\n",
              "      <td>11645.000000</td>\n",
              "      <td>11645.000000</td>\n",
              "      <td>11645.000000</td>\n",
              "      <td>11645.000000</td>\n",
              "      <td>11645.000000</td>\n",
              "      <td>11645.000000</td>\n",
              "      <td>1.164500e+04</td>\n",
              "      <td>11645.000000</td>\n",
              "      <td>11645.000000</td>\n",
              "    </tr>\n",
              "    <tr>\n",
              "      <th>mean</th>\n",
              "      <td>107.416917</td>\n",
              "      <td>2.826106</td>\n",
              "      <td>87.375380</td>\n",
              "      <td>4.003950</td>\n",
              "      <td>3.169257</td>\n",
              "      <td>3.379648</td>\n",
              "      <td>2.293850</td>\n",
              "      <td>0.875126</td>\n",
              "      <td>0.666240</td>\n",
              "      <td>1.541366</td>\n",
              "      <td>...</td>\n",
              "      <td>2.303370</td>\n",
              "      <td>0.877879</td>\n",
              "      <td>0.678369</td>\n",
              "      <td>3.850014</td>\n",
              "      <td>1.205754</td>\n",
              "      <td>4.271275</td>\n",
              "      <td>0.435380</td>\n",
              "      <td>1.482966e+04</td>\n",
              "      <td>0.093860</td>\n",
              "      <td>0.529240</td>\n",
              "    </tr>\n",
              "    <tr>\n",
              "      <th>std</th>\n",
              "      <td>59.947987</td>\n",
              "      <td>1.286469</td>\n",
              "      <td>51.915365</td>\n",
              "      <td>1.210775</td>\n",
              "      <td>1.197565</td>\n",
              "      <td>1.264578</td>\n",
              "      <td>0.544839</td>\n",
              "      <td>0.364225</td>\n",
              "      <td>0.500204</td>\n",
              "      <td>0.566864</td>\n",
              "      <td>...</td>\n",
              "      <td>0.560402</td>\n",
              "      <td>0.341884</td>\n",
              "      <td>0.432729</td>\n",
              "      <td>0.852740</td>\n",
              "      <td>2.970700</td>\n",
              "      <td>7.497108</td>\n",
              "      <td>0.779582</td>\n",
              "      <td>5.720135e+04</td>\n",
              "      <td>0.344811</td>\n",
              "      <td>0.965094</td>\n",
              "    </tr>\n",
              "    <tr>\n",
              "      <th>min</th>\n",
              "      <td>6.000000</td>\n",
              "      <td>1.000000</td>\n",
              "      <td>2.400000</td>\n",
              "      <td>1.000000</td>\n",
              "      <td>1.000000</td>\n",
              "      <td>1.000000</td>\n",
              "      <td>0.000000</td>\n",
              "      <td>0.000000</td>\n",
              "      <td>0.000000</td>\n",
              "      <td>0.085770</td>\n",
              "      <td>...</td>\n",
              "      <td>0.000000</td>\n",
              "      <td>0.000000</td>\n",
              "      <td>0.000000</td>\n",
              "      <td>1.448440</td>\n",
              "      <td>0.000000</td>\n",
              "      <td>0.000000</td>\n",
              "      <td>0.000000</td>\n",
              "      <td>0.000000e+00</td>\n",
              "      <td>0.000000</td>\n",
              "      <td>0.000000</td>\n",
              "    </tr>\n",
              "    <tr>\n",
              "      <th>25%</th>\n",
              "      <td>66.000000</td>\n",
              "      <td>2.000000</td>\n",
              "      <td>52.400000</td>\n",
              "      <td>3.000000</td>\n",
              "      <td>2.000000</td>\n",
              "      <td>3.000000</td>\n",
              "      <td>1.939090</td>\n",
              "      <td>0.660640</td>\n",
              "      <td>0.388700</td>\n",
              "      <td>1.258320</td>\n",
              "      <td>...</td>\n",
              "      <td>1.931870</td>\n",
              "      <td>0.669700</td>\n",
              "      <td>0.399570</td>\n",
              "      <td>3.314370</td>\n",
              "      <td>0.000000</td>\n",
              "      <td>0.000000</td>\n",
              "      <td>0.000000</td>\n",
              "      <td>0.000000e+00</td>\n",
              "      <td>0.000000</td>\n",
              "      <td>0.000000</td>\n",
              "    </tr>\n",
              "    <tr>\n",
              "      <th>50%</th>\n",
              "      <td>100.000000</td>\n",
              "      <td>3.000000</td>\n",
              "      <td>79.500000</td>\n",
              "      <td>4.000000</td>\n",
              "      <td>3.000000</td>\n",
              "      <td>3.000000</td>\n",
              "      <td>2.213000</td>\n",
              "      <td>0.867720</td>\n",
              "      <td>0.566920</td>\n",
              "      <td>1.445610</td>\n",
              "      <td>...</td>\n",
              "      <td>2.214790</td>\n",
              "      <td>0.872790</td>\n",
              "      <td>0.586160</td>\n",
              "      <td>3.723900</td>\n",
              "      <td>0.000000</td>\n",
              "      <td>2.000000</td>\n",
              "      <td>0.000000</td>\n",
              "      <td>0.000000e+00</td>\n",
              "      <td>0.000000</td>\n",
              "      <td>0.000000</td>\n",
              "    </tr>\n",
              "    <tr>\n",
              "      <th>75%</th>\n",
              "      <td>128.000000</td>\n",
              "      <td>4.000000</td>\n",
              "      <td>109.300000</td>\n",
              "      <td>5.000000</td>\n",
              "      <td>4.000000</td>\n",
              "      <td>4.000000</td>\n",
              "      <td>2.568490</td>\n",
              "      <td>1.063180</td>\n",
              "      <td>0.805010</td>\n",
              "      <td>1.681870</td>\n",
              "      <td>...</td>\n",
              "      <td>2.579010</td>\n",
              "      <td>1.072220</td>\n",
              "      <td>0.855520</td>\n",
              "      <td>4.222850</td>\n",
              "      <td>1.000000</td>\n",
              "      <td>5.000000</td>\n",
              "      <td>1.000000</td>\n",
              "      <td>5.807000e+03</td>\n",
              "      <td>0.000000</td>\n",
              "      <td>1.000000</td>\n",
              "    </tr>\n",
              "    <tr>\n",
              "      <th>max</th>\n",
              "      <td>1389.000000</td>\n",
              "      <td>5.000000</td>\n",
              "      <td>754.900000</td>\n",
              "      <td>5.000000</td>\n",
              "      <td>5.000000</td>\n",
              "      <td>5.000000</td>\n",
              "      <td>6.512810</td>\n",
              "      <td>5.053530</td>\n",
              "      <td>8.492540</td>\n",
              "      <td>8.492540</td>\n",
              "      <td>...</td>\n",
              "      <td>6.593350</td>\n",
              "      <td>5.560940</td>\n",
              "      <td>7.775820</td>\n",
              "      <td>11.726110</td>\n",
              "      <td>72.000000</td>\n",
              "      <td>135.000000</td>\n",
              "      <td>6.000000</td>\n",
              "      <td>1.508727e+06</td>\n",
              "      <td>4.000000</td>\n",
              "      <td>9.000000</td>\n",
              "    </tr>\n",
              "  </tbody>\n",
              "</table>\n",
              "<p>8 rows × 26 columns</p>\n",
              "</div>"
            ],
            "text/plain": [
              "            BEDCERT  SURVEY_RATING        RESTOT  QUALITY_RATING  \\\n",
              "count  11645.000000   11645.000000  11645.000000    11645.000000   \n",
              "mean     107.416917       2.826106     87.375380        4.003950   \n",
              "std       59.947987       1.286469     51.915365        1.210775   \n",
              "min        6.000000       1.000000      2.400000        1.000000   \n",
              "25%       66.000000       2.000000     52.400000        3.000000   \n",
              "50%      100.000000       3.000000     79.500000        4.000000   \n",
              "75%      128.000000       4.000000    109.300000        5.000000   \n",
              "max     1389.000000       5.000000    754.900000        5.000000   \n",
              "\n",
              "       STAFFING_RATING  RN_STAFFING_RATING        AIDHRD        VOCHRD  \\\n",
              "count     11645.000000        11645.000000  11645.000000  11645.000000   \n",
              "mean          3.169257            3.379648      2.293850      0.875126   \n",
              "std           1.197565            1.264578      0.544839      0.364225   \n",
              "min           1.000000            1.000000      0.000000      0.000000   \n",
              "25%           2.000000            3.000000      1.939090      0.660640   \n",
              "50%           3.000000            3.000000      2.213000      0.867720   \n",
              "75%           4.000000            4.000000      2.568490      1.063180   \n",
              "max           5.000000            5.000000      6.512810      5.053530   \n",
              "\n",
              "              RNHRD     TOTLICHRD       ...            ADJ_AIDE       ADJ_LPN  \\\n",
              "count  11645.000000  11645.000000       ...        11645.000000  11645.000000   \n",
              "mean       0.666240      1.541366       ...            2.303370      0.877879   \n",
              "std        0.500204      0.566864       ...            0.560402      0.341884   \n",
              "min        0.000000      0.085770       ...            0.000000      0.000000   \n",
              "25%        0.388700      1.258320       ...            1.931870      0.669700   \n",
              "50%        0.566920      1.445610       ...            2.214790      0.872790   \n",
              "75%        0.805010      1.681870       ...            2.579010      1.072220   \n",
              "max        8.492540      8.492540       ...            6.593350      5.560940   \n",
              "\n",
              "             ADJ_RN     ADJ_TOTAL  INCIDENT_CNT    CMPLNT_CNT      FINE_CNT  \\\n",
              "count  11645.000000  11645.000000  11645.000000  11645.000000  11645.000000   \n",
              "mean       0.678369      3.850014      1.205754      4.271275      0.435380   \n",
              "std        0.432729      0.852740      2.970700      7.497108      0.779582   \n",
              "min        0.000000      1.448440      0.000000      0.000000      0.000000   \n",
              "25%        0.399570      3.314370      0.000000      0.000000      0.000000   \n",
              "50%        0.586160      3.723900      0.000000      2.000000      0.000000   \n",
              "75%        0.855520      4.222850      1.000000      5.000000      1.000000   \n",
              "max        7.775820     11.726110     72.000000    135.000000      6.000000   \n",
              "\n",
              "           FINE_TOT    PAYDEN_CNT  TOT_PENLTY_CNT  \n",
              "count  1.164500e+04  11645.000000    11645.000000  \n",
              "mean   1.482966e+04      0.093860        0.529240  \n",
              "std    5.720135e+04      0.344811        0.965094  \n",
              "min    0.000000e+00      0.000000        0.000000  \n",
              "25%    0.000000e+00      0.000000        0.000000  \n",
              "50%    0.000000e+00      0.000000        0.000000  \n",
              "75%    5.807000e+03      0.000000        1.000000  \n",
              "max    1.508727e+06      4.000000        9.000000  \n",
              "\n",
              "[8 rows x 26 columns]"
            ]
          },
          "metadata": {
            "tags": []
          },
          "execution_count": 87
        }
      ]
    },
    {
      "cell_type": "code",
      "metadata": {
        "id": "TJGcP2hMOfTb",
        "colab_type": "code",
        "outputId": "56bfbb7e-6c64-47c4-db42-7d769e4a6a98",
        "colab": {
          "base_uri": "https://localhost:8080/",
          "height": 174
        }
      },
      "source": [
        "y_train.describe()"
      ],
      "execution_count": 0,
      "outputs": [
        {
          "output_type": "execute_result",
          "data": {
            "text/plain": [
              "count    11645.000000\n",
              "mean         3.388665\n",
              "std          1.382489\n",
              "min          1.000000\n",
              "25%          2.000000\n",
              "50%          4.000000\n",
              "75%          5.000000\n",
              "max          5.000000\n",
              "Name: OVERALL_RATING, dtype: float64"
            ]
          },
          "metadata": {
            "tags": []
          },
          "execution_count": 88
        }
      ]
    },
    {
      "cell_type": "markdown",
      "metadata": {
        "id": "Ly-McpFyOmXj",
        "colab_type": "text"
      },
      "source": [
        "**Scale Data.**"
      ]
    },
    {
      "cell_type": "code",
      "metadata": {
        "id": "eWJBr5ezOzPD",
        "colab_type": "code",
        "colab": {}
      },
      "source": [
        "scaler_x = StandardScaler()\n",
        "scaler_x.fit(x_train)\n",
        "x_train_scaled = scaler_x.transform(x_train)\n",
        "x_test_scaled = scaler_x.transform(x_test)"
      ],
      "execution_count": 0,
      "outputs": []
    },
    {
      "cell_type": "code",
      "metadata": {
        "id": "E7d6rDNzPAku",
        "colab_type": "code",
        "outputId": "5088b15a-3be4-4919-f7bd-629fc9475a9b",
        "colab": {
          "base_uri": "https://localhost:8080/",
          "height": 244
        }
      },
      "source": [
        "x_train_scaled.view()"
      ],
      "execution_count": 0,
      "outputs": [
        {
          "output_type": "execute_result",
          "data": {
            "text/plain": [
              "array([[-0.89109265, -0.64217698, -1.08210338, ...,  1.84512921,\n",
              "         2.6280433 ,  2.56023391],\n",
              "       [-1.12463846,  0.13517759, -0.94341016, ..., -0.2592648 ,\n",
              "        -0.27221866, -0.54840545],\n",
              "       [ 0.22659086, -0.64217698,  0.59377303, ..., -0.2592648 ,\n",
              "        -0.27221866, -0.54840545],\n",
              "       ...,\n",
              "       [-0.29054629,  0.13517759, -0.10547196, ..., -0.17265473,\n",
              "        -0.27221866,  0.48780767],\n",
              "       [ 0.20990902,  0.91253215, -0.2711333 , ..., -0.2592648 ,\n",
              "        -0.27221866, -0.54840545],\n",
              "       [ 0.1264998 , -1.41953155, -0.48109943, ..., -0.2592648 ,\n",
              "         2.6280433 ,  0.48780767]])"
            ]
          },
          "metadata": {
            "tags": []
          },
          "execution_count": 52
        }
      ]
    },
    {
      "cell_type": "markdown",
      "metadata": {
        "id": "qIJyHmN4Q_kO",
        "colab_type": "text"
      },
      "source": [
        "## Dimension Reduction with PCA"
      ]
    },
    {
      "cell_type": "code",
      "metadata": {
        "id": "FnZpYYH6RHMK",
        "colab_type": "code",
        "colab": {}
      },
      "source": [
        "pca_two = PCA(n_components=2)\n",
        "x_train_pca_two = pca_two.fit_transform(x_train_scaled)\n",
        "x_test_pca_two = pca_two.transform(x_test_scaled)\n",
        "\n",
        "pca_sixteen = PCA(n_components=16)\n",
        "x_train_pca_sixteen = pca_sixteen.fit_transform(x_train_scaled)\n",
        "x_test_pca_sixteen = pca_sixteen.transform(x_test_scaled)"
      ],
      "execution_count": 0,
      "outputs": []
    },
    {
      "cell_type": "code",
      "metadata": {
        "id": "UCriPvt2S7uT",
        "colab_type": "code",
        "outputId": "f845e945-fa1c-46a4-ea01-fcaed3097d4e",
        "colab": {
          "base_uri": "https://localhost:8080/",
          "height": 139
        }
      },
      "source": [
        "x_test_pca_two"
      ],
      "execution_count": 0,
      "outputs": [
        {
          "output_type": "execute_result",
          "data": {
            "text/plain": [
              "array([[ 3.912674  ,  2.01051568],\n",
              "       [-1.77958784, -1.41805599],\n",
              "       [-2.30399105,  0.37615466],\n",
              "       ...,\n",
              "       [ 0.30505432, -0.73647251],\n",
              "       [-2.40307564, -2.47563107],\n",
              "       [-0.32391314,  0.10533594]])"
            ]
          },
          "metadata": {
            "tags": []
          },
          "execution_count": 60
        }
      ]
    },
    {
      "cell_type": "markdown",
      "metadata": {
        "id": "v4wbwAgtxPjy",
        "colab_type": "text"
      },
      "source": [
        "## Model Generation"
      ]
    },
    {
      "cell_type": "markdown",
      "metadata": {
        "id": "yYfOCg3KK8Pt",
        "colab_type": "text"
      },
      "source": [
        "### Model #1 Logistic Regression with original data\n"
      ]
    },
    {
      "cell_type": "code",
      "metadata": {
        "id": "oV3_6deOMDhF",
        "colab_type": "code",
        "outputId": "d0ab39ab-9894-4a87-cf5f-d8421fa437cf",
        "colab": {
          "base_uri": "https://localhost:8080/",
          "height": 87
        }
      },
      "source": [
        "log_reg1 = LogisticRegression(solver='lbfgs', multi_class='multinomial')\n",
        "log_reg1.fit(x_train_scaled, y_train)"
      ],
      "execution_count": 0,
      "outputs": [
        {
          "output_type": "execute_result",
          "data": {
            "text/plain": [
              "LogisticRegression(C=1.0, class_weight=None, dual=False, fit_intercept=True,\n",
              "          intercept_scaling=1, max_iter=100, multi_class='multinomial',\n",
              "          n_jobs=1, penalty='l2', random_state=None, solver='lbfgs',\n",
              "          tol=0.0001, verbose=0, warm_start=False)"
            ]
          },
          "metadata": {
            "tags": []
          },
          "execution_count": 98
        }
      ]
    },
    {
      "cell_type": "markdown",
      "metadata": {
        "id": "WVZiOfkIO3AR",
        "colab_type": "text"
      },
      "source": [
        "**Calculate predicted output.**"
      ]
    },
    {
      "cell_type": "code",
      "metadata": {
        "id": "QWXmRvBo3HlH",
        "colab_type": "code",
        "colab": {}
      },
      "source": [
        "y_predict_train_1 = log_reg1.predict(x_train_scaled)\n",
        "y_predict_test_1 = log_reg1.predict(x_test_scaled)"
      ],
      "execution_count": 0,
      "outputs": []
    },
    {
      "cell_type": "markdown",
      "metadata": {
        "id": "KKJ2rRJWUlc5",
        "colab_type": "text"
      },
      "source": [
        "**Mean Accuracy Score**"
      ]
    },
    {
      "cell_type": "code",
      "metadata": {
        "id": "_UEb_BKuTlMF",
        "colab_type": "code",
        "outputId": "655cc0a2-e807-44f8-d775-1a7e53c912e1",
        "colab": {
          "base_uri": "https://localhost:8080/",
          "height": 52
        }
      },
      "source": [
        "print(log_reg1.score(x_train_scaled, y_train))\n",
        "print(log_reg1.score(x_test_scaled, y_test))"
      ],
      "execution_count": 0,
      "outputs": [
        {
          "output_type": "stream",
          "text": [
            "0.8535852297123229\n",
            "0.8475274725274725\n"
          ],
          "name": "stdout"
        }
      ]
    },
    {
      "cell_type": "markdown",
      "metadata": {
        "id": "aJbK6EKXUivx",
        "colab_type": "text"
      },
      "source": [
        "**Confusion Matrix**"
      ]
    },
    {
      "cell_type": "code",
      "metadata": {
        "id": "AsXMB7eHUhZr",
        "colab_type": "code",
        "outputId": "c27c2317-c9ed-4353-c2c8-d84396899ba9",
        "colab": {
          "base_uri": "https://localhost:8080/",
          "height": 104
        }
      },
      "source": [
        "confusion_matrix(y_train, y_predict_train_1)"
      ],
      "execution_count": 0,
      "outputs": [
        {
          "output_type": "execute_result",
          "data": {
            "text/plain": [
              "array([[1048,  290,    0,    0,    0],\n",
              "       [ 235, 1795,  283,    0,    0],\n",
              "       [   0,  263, 1366,  267,    0],\n",
              "       [   0,    0,   90, 2407,  184],\n",
              "       [   0,    0,    0,   93, 3324]])"
            ]
          },
          "metadata": {
            "tags": []
          },
          "execution_count": 102
        }
      ]
    },
    {
      "cell_type": "code",
      "metadata": {
        "id": "gPsTExSGaP8M",
        "colab_type": "code",
        "outputId": "b677b9d0-35ce-4926-dfe4-2215dfcc9922",
        "colab": {
          "base_uri": "https://localhost:8080/",
          "height": 104
        }
      },
      "source": [
        "confusion_matrix(y_test, y_predict_test_1)"
      ],
      "execution_count": 0,
      "outputs": [
        {
          "output_type": "execute_result",
          "data": {
            "text/plain": [
              "array([[286,  75,   0,   0,   0],\n",
              "       [ 72, 453,  60,   0,   0],\n",
              "       [  0,  66, 356,  75,   0],\n",
              "       [  0,   0,  27, 571,  39],\n",
              "       [  0,   0,   0,  30, 802]])"
            ]
          },
          "metadata": {
            "tags": []
          },
          "execution_count": 104
        }
      ]
    },
    {
      "cell_type": "markdown",
      "metadata": {
        "id": "bH2pOF5VZ8xJ",
        "colab_type": "text"
      },
      "source": [
        "### Model #2 Logistic Regression with PCA (n=2)"
      ]
    },
    {
      "cell_type": "code",
      "metadata": {
        "id": "2xKcFO97aDUI",
        "colab_type": "code",
        "outputId": "53a1f429-98c7-45be-c04e-2c1a29b0ad6a",
        "colab": {
          "base_uri": "https://localhost:8080/",
          "height": 87
        }
      },
      "source": [
        "log_reg2 = LogisticRegression(solver='lbfgs', multi_class='multinomial')\n",
        "log_reg2.fit(x_train_pca_two, y_train)"
      ],
      "execution_count": 0,
      "outputs": [
        {
          "output_type": "execute_result",
          "data": {
            "text/plain": [
              "LogisticRegression(C=1.0, class_weight=None, dual=False, fit_intercept=True,\n",
              "          intercept_scaling=1, max_iter=100, multi_class='multinomial',\n",
              "          n_jobs=1, penalty='l2', random_state=None, solver='lbfgs',\n",
              "          tol=0.0001, verbose=0, warm_start=False)"
            ]
          },
          "metadata": {
            "tags": []
          },
          "execution_count": 106
        }
      ]
    },
    {
      "cell_type": "markdown",
      "metadata": {
        "id": "QBXl6dTBaCQM",
        "colab_type": "text"
      },
      "source": [
        "**Calculate predicted output**"
      ]
    },
    {
      "cell_type": "code",
      "metadata": {
        "id": "cpk8Z2I9acHN",
        "colab_type": "code",
        "colab": {}
      },
      "source": [
        "y_predict_train_2 = log_reg2.predict(x_train_pca_two)\n",
        "y_predict_test_2 = log_reg2.predict(x_test_pca_two)"
      ],
      "execution_count": 0,
      "outputs": []
    },
    {
      "cell_type": "markdown",
      "metadata": {
        "id": "gcOxrBYqa0U-",
        "colab_type": "text"
      },
      "source": [
        "**Mean Accuracy Score**"
      ]
    },
    {
      "cell_type": "code",
      "metadata": {
        "id": "jFRYWMHzag0H",
        "colab_type": "code",
        "outputId": "52743944-c689-4e58-e980-13dcafc1a6b6",
        "colab": {
          "base_uri": "https://localhost:8080/",
          "height": 52
        }
      },
      "source": [
        "print(log_reg2.score(x_train_pca_two, y_train))\n",
        "print(log_reg2.score(x_test_pca_two, y_test))"
      ],
      "execution_count": 0,
      "outputs": [
        {
          "output_type": "stream",
          "text": [
            "0.38608844997853153\n",
            "0.38461538461538464\n"
          ],
          "name": "stdout"
        }
      ]
    },
    {
      "cell_type": "markdown",
      "metadata": {
        "id": "O_9qVOnsa6Lb",
        "colab_type": "text"
      },
      "source": [
        "**Confusion Matrix**"
      ]
    },
    {
      "cell_type": "code",
      "metadata": {
        "id": "cRy6-hNCa8K7",
        "colab_type": "code",
        "outputId": "3fdaf5e9-3e90-4b1a-8103-54b5226c55a2",
        "colab": {
          "base_uri": "https://localhost:8080/",
          "height": 104
        }
      },
      "source": [
        "confusion_matrix(y_train, y_predict_train_2)"
      ],
      "execution_count": 0,
      "outputs": [
        {
          "output_type": "execute_result",
          "data": {
            "text/plain": [
              "array([[140, 179,   0,  20,  22],\n",
              "       [111, 255,   0,  53, 166],\n",
              "       [ 41, 224,   0,  53, 179],\n",
              "       [ 22, 128,   0,  82, 405],\n",
              "       [ 12, 121,   0,  56, 643]])"
            ]
          },
          "metadata": {
            "tags": []
          },
          "execution_count": 112
        }
      ]
    },
    {
      "cell_type": "code",
      "metadata": {
        "id": "LwTsVgURbHpH",
        "colab_type": "code",
        "outputId": "2807dc1c-08b7-4ec8-c9dc-37fb594f800c",
        "colab": {
          "base_uri": "https://localhost:8080/",
          "height": 104
        }
      },
      "source": [
        "confusion_matrix(y_test, y_predict_test_2)"
      ],
      "execution_count": 0,
      "outputs": [
        {
          "output_type": "execute_result",
          "data": {
            "text/plain": [
              "array([[140, 179,   0,  20,  22],\n",
              "       [111, 255,   0,  53, 166],\n",
              "       [ 41, 224,   0,  53, 179],\n",
              "       [ 22, 128,   0,  82, 405],\n",
              "       [ 12, 121,   0,  56, 643]])"
            ]
          },
          "metadata": {
            "tags": []
          },
          "execution_count": 113
        }
      ]
    },
    {
      "cell_type": "markdown",
      "metadata": {
        "id": "CdyZNWTubmLl",
        "colab_type": "text"
      },
      "source": [
        "### Model #3 Logistic Regression with PCA (n=16)"
      ]
    },
    {
      "cell_type": "code",
      "metadata": {
        "id": "biYJvY6Sbtgj",
        "colab_type": "code",
        "colab": {}
      },
      "source": [
        "log_reg3 = LogisticRegression(solver='lbfgs', multi_class='multinomial')\n",
        "log_reg3.fit(x_train_pca_sixteen, y_train)"
      ],
      "execution_count": 0,
      "outputs": []
    },
    {
      "cell_type": "markdown",
      "metadata": {
        "colab_type": "text",
        "id": "sXxxR7fgdjVs"
      },
      "source": [
        "**Calculate predicted output**"
      ]
    },
    {
      "cell_type": "code",
      "metadata": {
        "id": "DQw2x5nwbwQx",
        "colab_type": "code",
        "colab": {}
      },
      "source": [
        "y_predict_train_3 = log_reg3.predict(x_train_pca_sixteen)\n",
        "y_predict_test_3 = log_reg3.predict(x_test_pca_sixteen)"
      ],
      "execution_count": 0,
      "outputs": []
    },
    {
      "cell_type": "markdown",
      "metadata": {
        "id": "AnJaHUgwdmIo",
        "colab_type": "text"
      },
      "source": [
        "**Mean Accuracy Score**"
      ]
    },
    {
      "cell_type": "code",
      "metadata": {
        "id": "JzgOVaOfcIXr",
        "colab_type": "code",
        "outputId": "8a2fa339-b2b9-40ac-a29e-ce940c6ac784",
        "colab": {
          "base_uri": "https://localhost:8080/",
          "height": 52
        }
      },
      "source": [
        "print(log_reg3.score(x_train_pca_sixteen, y_train))\n",
        "print(log_reg3.score(x_test_pca_sixteen, y_test))"
      ],
      "execution_count": 0,
      "outputs": [
        {
          "output_type": "stream",
          "text": [
            "0.8437097466723916\n",
            "0.8379120879120879\n"
          ],
          "name": "stdout"
        }
      ]
    },
    {
      "cell_type": "markdown",
      "metadata": {
        "id": "l3HKUOxvdocu",
        "colab_type": "text"
      },
      "source": [
        "**Confusion Matrix**"
      ]
    },
    {
      "cell_type": "code",
      "metadata": {
        "id": "IIER7BA3cPGL",
        "colab_type": "code",
        "outputId": "4e149b3a-b433-499a-c063-c9bf5553e7ab",
        "colab": {
          "base_uri": "https://localhost:8080/",
          "height": 104
        }
      },
      "source": [
        "confusion_matrix(y_train, y_predict_train_3)"
      ],
      "execution_count": 0,
      "outputs": [
        {
          "output_type": "execute_result",
          "data": {
            "text/plain": [
              "array([[1040,  298,    0,    0,    0],\n",
              "       [ 240, 1807,  266,    0,    0],\n",
              "       [   0,  235, 1410,  251,    0],\n",
              "       [   0,    1,  128, 2331,  221],\n",
              "       [   0,    0,    0,  180, 3237]])"
            ]
          },
          "metadata": {
            "tags": []
          },
          "execution_count": 118
        }
      ]
    },
    {
      "cell_type": "code",
      "metadata": {
        "id": "ERsY94necPmp",
        "colab_type": "code",
        "outputId": "c08bfe7a-c0cd-4226-b479-5049a16e0f21",
        "colab": {
          "base_uri": "https://localhost:8080/",
          "height": 104
        }
      },
      "source": [
        "confusion_matrix(y_test, y_predict_test_3)"
      ],
      "execution_count": 0,
      "outputs": [
        {
          "output_type": "execute_result",
          "data": {
            "text/plain": [
              "array([[283,  78,   0,   0,   0],\n",
              "       [ 73, 458,  54,   0,   0],\n",
              "       [  0,  60, 364,  73,   0],\n",
              "       [  0,   1,  36, 555,  45],\n",
              "       [  0,   0,   0,  52, 780]])"
            ]
          },
          "metadata": {
            "tags": []
          },
          "execution_count": 119
        }
      ]
    },
    {
      "cell_type": "markdown",
      "metadata": {
        "id": "wyEHfqN0c2kl",
        "colab_type": "text"
      },
      "source": [
        "### Model Comparison"
      ]
    },
    {
      "cell_type": "markdown",
      "metadata": {
        "id": "pZiDTxPMc5Cj",
        "colab_type": "text"
      },
      "source": [
        "In the first model, which is a full model with 26 features, the accuracy score comes out to be approximately 0.85 for both train and test data. \n",
        "\n",
        "The second model uses only two principal components from PCA, and the accuracy score is much worse (0.38). This is expected as the number of features are reduced considerably compared to the full model. \n",
        "\n",
        "In the third model, however, it can be observed that the accuracy score is comparable to the full model (0.84) even though the number of features are still much less than that of the full model (n=16 vs n=26). This demonstrates that the 16 principal components used in the third model is able to explain most of the original 26 features.\n"
      ]
    },
    {
      "cell_type": "code",
      "metadata": {
        "id": "Iu3UAFmFNE72",
        "colab_type": "code",
        "outputId": "05b42cd0-6360-45fc-fb5e-b8d1118aad84",
        "colab": {
          "base_uri": "https://localhost:8080/",
          "height": 52
        }
      },
      "source": [
        "!jupyter nbconvert --to html '/content/gdrive/My Drive/Colab Notebooks/MLAssignment3.ipynb'"
      ],
      "execution_count": 0,
      "outputs": [
        {
          "output_type": "stream",
          "text": [
            "[NbConvertApp] Converting notebook /content/gdrive/My Drive/Colab Notebooks/MLAssignment3.ipynb to html\n",
            "[NbConvertApp] Writing 351799 bytes to /content/gdrive/My Drive/Colab Notebooks/MLAssignment3.html\n"
          ],
          "name": "stdout"
        }
      ]
    }
  ]
}