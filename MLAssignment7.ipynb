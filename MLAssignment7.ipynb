{
  "nbformat": 4,
  "nbformat_minor": 0,
  "metadata": {
    "colab": {
      "name": "MLAssignment7.ipynb",
      "version": "0.3.2",
      "provenance": [],
      "collapsed_sections": [],
      "include_colab_link": true
    },
    "kernelspec": {
      "name": "python3",
      "display_name": "Python 3"
    },
    "accelerator": "GPU"
  },
  "cells": [
    {
      "cell_type": "markdown",
      "metadata": {
        "id": "view-in-github",
        "colab_type": "text"
      },
      "source": [
        "<a href=\"https://colab.research.google.com/github/targoons/ML/blob/master/MLAssignment7.ipynb\" target=\"_parent\"><img src=\"https://colab.research.google.com/assets/colab-badge.svg\" alt=\"Open In Colab\"/></a>"
      ]
    },
    {
      "cell_type": "markdown",
      "metadata": {
        "id": "klxj89jnQI-n",
        "colab_type": "text"
      },
      "source": [
        "# MsCA 31009 - Machine Learning and Predictive Analytics\n",
        "\n",
        "## Assignment 7 - RNN\n",
        "\n",
        "**Targoon Siripanichpong**"
      ]
    },
    {
      "cell_type": "code",
      "metadata": {
        "id": "Y1LX4wIf40NN",
        "colab_type": "code",
        "colab": {}
      },
      "source": [
        "import sys\n",
        "import os\n",
        "import json\n",
        "import pandas as pd\n",
        "import numpy as np\n",
        "import optparse\n",
        "\n",
        "\n",
        "from sklearn.model_selection import train_test_split\n",
        "from keras.callbacks import TensorBoard\n",
        "from keras.models import Sequential, load_model\n",
        "from keras.layers import LSTM, Dense, Dropout\n",
        "from keras.layers.embeddings import Embedding\n",
        "from keras.preprocessing import sequence\n",
        "from keras.preprocessing.text import Tokenizer\n",
        "from collections import OrderedDict"
      ],
      "execution_count": 0,
      "outputs": []
    },
    {
      "cell_type": "code",
      "metadata": {
        "id": "_Y75UMSaaXKG",
        "colab_type": "code",
        "outputId": "2aa51e2b-3937-4dd7-9745-ea72a554c35a",
        "colab": {
          "base_uri": "https://localhost:8080/",
          "height": 393
        }
      },
      "source": [
        "# memory footprint support libraries/code\n",
        "!ln -sf /opt/bin/nvidia-smi /usr/bin/nvidia-smi\n",
        "!pip install gputil\n",
        "!pip install psutil\n",
        "!pip install humanize\n",
        "import psutil\n",
        "import humanize\n",
        "import os\n",
        "import GPUtil as GPU\n",
        "GPUs = GPU.getGPUs()\n",
        "# XXX: only one GPU on Colab and isn’t guaranteed\n",
        "gpu = GPUs[0]\n",
        "def printm():\n",
        " process = psutil.Process(os.getpid())\n",
        " print(\"Gen RAM Free: \" + humanize.naturalsize( psutil.virtual_memory().available ), \" | Proc size: \" + humanize.naturalsize( process.memory_info().rss))\n",
        " print(\"GPU RAM Free: {0:.0f}MB | Used: {1:.0f}MB | Util {2:3.0f}% | Total {3:.0f}MB\".format(gpu.memoryFree, gpu.memoryUsed, gpu.memoryUtil*100, gpu.memoryTotal))\n",
        "printm()"
      ],
      "execution_count": 0,
      "outputs": [
        {
          "output_type": "stream",
          "text": [
            "Collecting gputil\n",
            "  Downloading https://files.pythonhosted.org/packages/45/99/837428d26b47ebd6b66d6e1b180e98ec4a557767a93a81a02ea9d6242611/GPUtil-1.3.0.tar.gz\n",
            "Requirement already satisfied: numpy in /usr/local/lib/python3.6/dist-packages (from gputil) (1.14.6)\n",
            "Building wheels for collected packages: gputil\n",
            "  Running setup.py bdist_wheel for gputil ... \u001b[?25l-\b \bdone\n",
            "\u001b[?25h  Stored in directory: /root/.cache/pip/wheels/17/0f/04/b79c006972335e35472c0b835ed52bfc0815258d409f560108\n",
            "Successfully built gputil\n",
            "Installing collected packages: gputil\n",
            "Successfully installed gputil-1.3.0\n",
            "Requirement already satisfied: psutil in /usr/local/lib/python3.6/dist-packages (5.4.8)\n",
            "Collecting humanize\n",
            "  Downloading https://files.pythonhosted.org/packages/8c/e0/e512e4ac6d091fc990bbe13f9e0378f34cf6eecd1c6c268c9e598dcf5bb9/humanize-0.5.1.tar.gz\n",
            "Building wheels for collected packages: humanize\n",
            "  Running setup.py bdist_wheel for humanize ... \u001b[?25l-\b \bdone\n",
            "\u001b[?25h  Stored in directory: /root/.cache/pip/wheels/69/86/6c/f8b8593bc273ec4b0c653d3827f7482bb2001a2781a73b7f44\n",
            "Successfully built humanize\n",
            "Installing collected packages: humanize\n",
            "Successfully installed humanize-0.5.1\n",
            "Gen RAM Free: 12.2 GB  | Proc size: 1.2 GB\n",
            "GPU RAM Free: 10275MB | Used: 1166MB | Util  10% | Total 11441MB\n"
          ],
          "name": "stdout"
        }
      ]
    },
    {
      "cell_type": "markdown",
      "metadata": {
        "id": "81olCOil4fX9",
        "colab_type": "text"
      },
      "source": [
        "**Mount Google Drive.**"
      ]
    },
    {
      "cell_type": "code",
      "metadata": {
        "id": "jNxq9EGN1K-x",
        "colab_type": "code",
        "outputId": "04f08aec-87a4-4769-81c9-e05f1f727a77",
        "colab": {
          "base_uri": "https://localhost:8080/",
          "height": 126
        }
      },
      "source": [
        "from google.colab import drive\n",
        "drive.mount('/content/gdrive')"
      ],
      "execution_count": 0,
      "outputs": [
        {
          "output_type": "stream",
          "text": [
            "Go to this URL in a browser: https://accounts.google.com/o/oauth2/auth?client_id=947318989803-6bn6qk8qdgf4n4g3pfee6491hc0brc4i.apps.googleusercontent.com&redirect_uri=urn%3Aietf%3Awg%3Aoauth%3A2.0%3Aoob&scope=email%20https%3A%2F%2Fwww.googleapis.com%2Fauth%2Fdocs.test%20https%3A%2F%2Fwww.googleapis.com%2Fauth%2Fdrive%20https%3A%2F%2Fwww.googleapis.com%2Fauth%2Fdrive.photos.readonly%20https%3A%2F%2Fwww.googleapis.com%2Fauth%2Fpeopleapi.readonly&response_type=code\n",
            "\n",
            "Enter your authorization code:\n",
            "··········\n",
            "Mounted at /content/gdrive\n"
          ],
          "name": "stdout"
        }
      ]
    },
    {
      "cell_type": "markdown",
      "metadata": {
        "id": "q8krOKh04jgz",
        "colab_type": "text"
      },
      "source": [
        "**Read data.**"
      ]
    },
    {
      "cell_type": "code",
      "metadata": {
        "id": "8UzvEF_u57wM",
        "colab_type": "code",
        "outputId": "6fc07a39-8253-46aa-980b-3fa6c7ce7aa6",
        "colab": {
          "base_uri": "https://localhost:8080/",
          "height": 124
        }
      },
      "source": [
        "mypath = '/content/gdrive/My Drive/UChicago/Machine Learning/Data/Raw'\n",
        "import os\n",
        "os.listdir(mypath)"
      ],
      "execution_count": 0,
      "outputs": [
        {
          "output_type": "execute_result",
          "data": {
            "text/plain": [
              "['bottle.csv',\n",
              " 'ProviderInfo.csv',\n",
              " 'toxic_train.csv',\n",
              " 'train.csv.zip',\n",
              " 'default of credit card clients.xls',\n",
              " 'dev-access.csv']"
            ]
          },
          "metadata": {
            "tags": []
          },
          "execution_count": 3
        }
      ]
    },
    {
      "cell_type": "code",
      "metadata": {
        "id": "KxNDXLI32W2D",
        "colab_type": "code",
        "colab": {}
      },
      "source": [
        "dev_access = pd.read_csv('/content/gdrive/My Drive/UChicago/Machine Learning/Data/Raw/dev-access.csv', engine='python', quotechar='|', header=None)"
      ],
      "execution_count": 0,
      "outputs": []
    },
    {
      "cell_type": "code",
      "metadata": {
        "id": "09jYcaipTO3D",
        "colab_type": "code",
        "outputId": "08d9e270-ce30-46d2-f8ed-588479cc3f12",
        "colab": {
          "base_uri": "https://localhost:8080/",
          "height": 201
        }
      },
      "source": [
        "dev_access.head()"
      ],
      "execution_count": 0,
      "outputs": [
        {
          "output_type": "execute_result",
          "data": {
            "text/html": [
              "<div>\n",
              "<style scoped>\n",
              "    .dataframe tbody tr th:only-of-type {\n",
              "        vertical-align: middle;\n",
              "    }\n",
              "\n",
              "    .dataframe tbody tr th {\n",
              "        vertical-align: top;\n",
              "    }\n",
              "\n",
              "    .dataframe thead th {\n",
              "        text-align: right;\n",
              "    }\n",
              "</style>\n",
              "<table border=\"1\" class=\"dataframe\">\n",
              "  <thead>\n",
              "    <tr style=\"text-align: right;\">\n",
              "      <th></th>\n",
              "      <th>0</th>\n",
              "      <th>1</th>\n",
              "    </tr>\n",
              "  </thead>\n",
              "  <tbody>\n",
              "    <tr>\n",
              "      <th>0</th>\n",
              "      <td>{\"timestamp\":1502738402847,\"method\":\"post\",\"qu...</td>\n",
              "      <td>0</td>\n",
              "    </tr>\n",
              "    <tr>\n",
              "      <th>1</th>\n",
              "      <td>{\"timestamp\":1502738402849,\"method\":\"post\",\"qu...</td>\n",
              "      <td>0</td>\n",
              "    </tr>\n",
              "    <tr>\n",
              "      <th>2</th>\n",
              "      <td>{\"timestamp\":1502738402852,\"method\":\"post\",\"qu...</td>\n",
              "      <td>0</td>\n",
              "    </tr>\n",
              "    <tr>\n",
              "      <th>3</th>\n",
              "      <td>{\"timestamp\":1502738402852,\"method\":\"post\",\"qu...</td>\n",
              "      <td>0</td>\n",
              "    </tr>\n",
              "    <tr>\n",
              "      <th>4</th>\n",
              "      <td>{\"timestamp\":1502738402853,\"method\":\"post\",\"qu...</td>\n",
              "      <td>0</td>\n",
              "    </tr>\n",
              "  </tbody>\n",
              "</table>\n",
              "</div>"
            ],
            "text/plain": [
              "                                                   0  1\n",
              "0  {\"timestamp\":1502738402847,\"method\":\"post\",\"qu...  0\n",
              "1  {\"timestamp\":1502738402849,\"method\":\"post\",\"qu...  0\n",
              "2  {\"timestamp\":1502738402852,\"method\":\"post\",\"qu...  0\n",
              "3  {\"timestamp\":1502738402852,\"method\":\"post\",\"qu...  0\n",
              "4  {\"timestamp\":1502738402853,\"method\":\"post\",\"qu...  0"
            ]
          },
          "metadata": {
            "tags": []
          },
          "execution_count": 8
        }
      ]
    },
    {
      "cell_type": "code",
      "metadata": {
        "id": "qFr8qY3mTVSs",
        "colab_type": "code",
        "colab": {}
      },
      "source": [
        "dataset = dev_access.values"
      ],
      "execution_count": 0,
      "outputs": []
    },
    {
      "cell_type": "code",
      "metadata": {
        "id": "J3uQICoETX5y",
        "colab_type": "code",
        "outputId": "5a7be24b-ee12-4f68-84b6-dac0d26f4491",
        "colab": {
          "base_uri": "https://localhost:8080/",
          "height": 35
        }
      },
      "source": [
        "dataset.shape"
      ],
      "execution_count": 0,
      "outputs": [
        {
          "output_type": "execute_result",
          "data": {
            "text/plain": [
              "(26773, 2)"
            ]
          },
          "metadata": {
            "tags": []
          },
          "execution_count": 12
        }
      ]
    },
    {
      "cell_type": "code",
      "metadata": {
        "id": "IN71ewWATqao",
        "colab_type": "code",
        "colab": {}
      },
      "source": [
        "X = dataset[:,0]\n",
        "Y = dataset[:,1]"
      ],
      "execution_count": 0,
      "outputs": []
    },
    {
      "cell_type": "code",
      "metadata": {
        "id": "xJntl6IETyq3",
        "colab_type": "code",
        "colab": {}
      },
      "source": [
        "for index, item in enumerate(X):\n",
        "  # Quick hack to space out json elements\n",
        "  reqJson = json.loads(item, object_pairs_hook=OrderedDict)\n",
        "  del reqJson['timestamp']\n",
        "  del reqJson['headers']\n",
        "  del reqJson['source']\n",
        "  del reqJson['route']\n",
        "  del reqJson['responsePayload']\n",
        "  X[index] = json.dumps(reqJson, separators=(',', ':'))"
      ],
      "execution_count": 0,
      "outputs": []
    },
    {
      "cell_type": "code",
      "metadata": {
        "id": "S_QuU8R5TzUz",
        "colab_type": "code",
        "colab": {}
      },
      "source": [
        "tokenizer = Tokenizer(filters='\\t\\n', char_level=True)\n",
        "tokenizer.fit_on_texts(X)\n",
        "\n",
        "# we will need this later\n",
        "num_words = len(tokenizer.word_index)+1\n",
        "X = tokenizer.texts_to_sequences(X)"
      ],
      "execution_count": 0,
      "outputs": []
    },
    {
      "cell_type": "code",
      "metadata": {
        "id": "2xsfRAqvT-2o",
        "colab_type": "code",
        "colab": {}
      },
      "source": [
        "max_log_length = 1024\n",
        "X_processed = sequence.pad_sequences(X, maxlen=max_log_length)"
      ],
      "execution_count": 0,
      "outputs": []
    },
    {
      "cell_type": "code",
      "metadata": {
        "id": "VxWYm3ovUCqn",
        "colab_type": "code",
        "outputId": "0283c503-96d1-479d-fb85-3a89f711c46c",
        "colab": {
          "base_uri": "https://localhost:8080/",
          "height": 141
        }
      },
      "source": [
        "X_processed"
      ],
      "execution_count": 0,
      "outputs": [
        {
          "output_type": "execute_result",
          "data": {
            "text/plain": [
              "array([[ 0,  0,  0, ...,  1, 19, 19],\n",
              "       [ 0,  0,  0, ...,  1, 19, 19],\n",
              "       [ 0,  0,  0, ...,  1, 19, 19],\n",
              "       ...,\n",
              "       [ 0,  0,  0, ...,  1, 19, 19],\n",
              "       [ 0,  0,  0, ...,  1, 19, 19],\n",
              "       [ 0,  0,  0, ...,  1, 19, 19]], dtype=int32)"
            ]
          },
          "metadata": {
            "tags": []
          },
          "execution_count": 18
        }
      ]
    },
    {
      "cell_type": "code",
      "metadata": {
        "id": "nNgAO4yzVCry",
        "colab_type": "code",
        "colab": {}
      },
      "source": [
        "X_train, X_test, Y_train, Y_test = train_test_split(X_processed, Y, test_size=0.25, random_state=43)"
      ],
      "execution_count": 0,
      "outputs": []
    },
    {
      "cell_type": "code",
      "metadata": {
        "id": "DEWvqA9uVSqU",
        "colab_type": "code",
        "outputId": "89311def-44ff-4672-c42e-05eef2d37c2d",
        "colab": {
          "base_uri": "https://localhost:8080/",
          "height": 35
        }
      },
      "source": [
        "X_train.shape, Y_train.shape, X_test.shape, Y_test.shape"
      ],
      "execution_count": 0,
      "outputs": [
        {
          "output_type": "execute_result",
          "data": {
            "text/plain": [
              "((20079, 1024), (20079,), (6694, 1024), (6694,))"
            ]
          },
          "metadata": {
            "tags": []
          },
          "execution_count": 24
        }
      ]
    },
    {
      "cell_type": "code",
      "metadata": {
        "id": "u692UAYzWr-j",
        "colab_type": "code",
        "outputId": "8b7b68e9-08e0-49b2-af51-e644d8d519dc",
        "colab": {
          "base_uri": "https://localhost:8080/",
          "height": 35
        }
      },
      "source": [
        "num_words"
      ],
      "execution_count": 0,
      "outputs": [
        {
          "output_type": "execute_result",
          "data": {
            "text/plain": [
              "63"
            ]
          },
          "metadata": {
            "tags": []
          },
          "execution_count": 25
        }
      ]
    },
    {
      "cell_type": "code",
      "metadata": {
        "id": "E5bY8DTpWeRO",
        "colab_type": "code",
        "outputId": "afd459a1-c350-46f7-d802-7d14f52ba8c4",
        "colab": {
          "base_uri": "https://localhost:8080/",
          "height": 248
        }
      },
      "source": [
        "model = Sequential()\n",
        "model.add(Embedding(num_words, 32, input_length=max_log_length))\n",
        "model.add(LSTM(units=64, recurrent_dropout=0.5))\n",
        "model.add(Dense(units=1, activation='relu'))\n",
        "\n",
        "model.compile(loss='binary_crossentropy', optimizer='adam', metrics=['accuracy'])\n",
        "model.summary()"
      ],
      "execution_count": 0,
      "outputs": [
        {
          "output_type": "stream",
          "text": [
            "_________________________________________________________________\n",
            "Layer (type)                 Output Shape              Param #   \n",
            "=================================================================\n",
            "embedding_2 (Embedding)      (None, 1024, 32)          2016      \n",
            "_________________________________________________________________\n",
            "lstm_2 (LSTM)                (None, 64)                24832     \n",
            "_________________________________________________________________\n",
            "dense_2 (Dense)              (None, 1)                 65        \n",
            "=================================================================\n",
            "Total params: 26,913\n",
            "Trainable params: 26,913\n",
            "Non-trainable params: 0\n",
            "_________________________________________________________________\n"
          ],
          "name": "stdout"
        }
      ]
    },
    {
      "cell_type": "code",
      "metadata": {
        "id": "q0ck1dOHZMNy",
        "colab_type": "code",
        "outputId": "3ae221dd-ea65-413f-a392-d8b15d184661",
        "colab": {
          "base_uri": "https://localhost:8080/",
          "height": 179
        }
      },
      "source": [
        "model.fit(X_train, Y_train, epochs=3, batch_size=128, validation_split=0.25)"
      ],
      "execution_count": 0,
      "outputs": [
        {
          "output_type": "stream",
          "text": [
            "Train on 15059 samples, validate on 5020 samples\n",
            "Epoch 1/3\n",
            "15059/15059 [==============================] - 351s 23ms/step - loss: 0.7493 - acc: 0.5502 - val_loss: 0.6094 - val_acc: 0.6213\n",
            "Epoch 2/3\n",
            "15059/15059 [==============================] - 349s 23ms/step - loss: 0.5936 - acc: 0.6102 - val_loss: 0.5696 - val_acc: 0.5749\n",
            "Epoch 3/3\n",
            "15059/15059 [==============================] - 348s 23ms/step - loss: 0.6230 - acc: 0.5658 - val_loss: 0.5758 - val_acc: 0.5966\n"
          ],
          "name": "stdout"
        },
        {
          "output_type": "execute_result",
          "data": {
            "text/plain": [
              "<keras.callbacks.History at 0x7f81307a6b70>"
            ]
          },
          "metadata": {
            "tags": []
          },
          "execution_count": 31
        }
      ]
    },
    {
      "cell_type": "code",
      "metadata": {
        "id": "ftMl2O-mZc1w",
        "colab_type": "code",
        "outputId": "aff4817a-5fc9-4b69-a5de-fd47830d4a33",
        "colab": {
          "base_uri": "https://localhost:8080/",
          "height": 35
        }
      },
      "source": [
        "score = model.evaluate(X_test, Y_test, batch_size=128)"
      ],
      "execution_count": 0,
      "outputs": [
        {
          "output_type": "stream",
          "text": [
            "6694/6694 [==============================] - 52s 8ms/step\n"
          ],
          "name": "stdout"
        }
      ]
    },
    {
      "cell_type": "code",
      "metadata": {
        "id": "aBtVx1LmdCLX",
        "colab_type": "code",
        "colab": {}
      },
      "source": [
        "model2 = Sequential()\n",
        "model2.add(Embedding(num_words, 32, input_length=max_log_length))\n",
        "model2.add(Dropout(0.5))\n",
        "model2.add(LSTM(units=64, recurrent_dropout=0.5))\n",
        "model2.add(Dense(units=1, activation='sigmoid'))\n",
        "\n",
        "model2.compile(loss='binary_crossentropy', optimizer='adam', metrics=['accuracy'])\n",
        "model2.summary()"
      ],
      "execution_count": 0,
      "outputs": []
    },
    {
      "cell_type": "code",
      "metadata": {
        "id": "NufeL8NJdSw8",
        "colab_type": "code",
        "colab": {}
      },
      "source": [
        "model2.fit(X_train, Y_train, epochs=3, batch_size=128, validation_split=0.25)"
      ],
      "execution_count": 0,
      "outputs": []
    }
  ]
}