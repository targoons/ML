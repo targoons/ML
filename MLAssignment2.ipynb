{
  "nbformat": 4,
  "nbformat_minor": 0,
  "metadata": {
    "colab": {
      "name": "MLAssignment2.ipynb",
      "version": "0.3.2",
      "provenance": [],
      "collapsed_sections": [],
      "include_colab_link": true
    },
    "kernelspec": {
      "name": "python3",
      "display_name": "Python 3"
    },
    "accelerator": "GPU"
  },
  "cells": [
    {
      "cell_type": "markdown",
      "metadata": {
        "id": "view-in-github",
        "colab_type": "text"
      },
      "source": [
        "[View in Colaboratory](https://colab.research.google.com/github/targoons/ML/blob/master/MLAssignment2.ipynb)"
      ]
    },
    {
      "metadata": {
        "id": "abJ8gJu4dE0t",
        "colab_type": "text"
      },
      "cell_type": "markdown",
      "source": [
        "# MsCA 31009 - Machine Learning and Predictive Analytics\n",
        "\n",
        "## Assignment 2 - Regression with Gradient Descent\n",
        "\n",
        "**Targoon Siripanichpong**"
      ]
    },
    {
      "metadata": {
        "id": "07AdlzCZvP7-",
        "colab_type": "text"
      },
      "cell_type": "markdown",
      "source": [
        "## Import files and libraries"
      ]
    },
    {
      "metadata": {
        "id": "Y1LX4wIf40NN",
        "colab_type": "code",
        "colab": {}
      },
      "cell_type": "code",
      "source": [
        "import pandas as pd\n",
        "import numpy as np\n",
        "\n",
        "import matplotlib.pyplot as plt\n",
        "from mpl_toolkits.mplot3d import Axes3D\n",
        "from scipy import stats\n",
        "import math\n",
        "import tensorflow as tf\n",
        "import time\n",
        "\n",
        "# Keras\n",
        "\n",
        "from keras.layers import Input, Dense\n",
        "from keras.models import Model\n",
        "from keras.optimizers import SGD\n",
        "\n",
        "#Sklearn\n",
        "\n",
        "from sklearn.metrics import mean_squared_error, explained_variance_score, r2_score\n",
        "from sklearn.linear_model import LinearRegression\n",
        "from sklearn.model_selection import train_test_split\n",
        "from sklearn.preprocessing import StandardScaler, scale"
      ],
      "execution_count": 0,
      "outputs": []
    },
    {
      "metadata": {
        "id": "81olCOil4fX9",
        "colab_type": "text"
      },
      "cell_type": "markdown",
      "source": [
        "**Mount Google Drive.**"
      ]
    },
    {
      "metadata": {
        "id": "jNxq9EGN1K-x",
        "colab_type": "code",
        "colab": {
          "base_uri": "https://localhost:8080/",
          "height": 127
        },
        "outputId": "86ca4033-5e60-4e6c-9d6f-63fbba0ee2ca"
      },
      "cell_type": "code",
      "source": [
        "from google.colab import drive\n",
        "drive.mount('/content/gdrive')"
      ],
      "execution_count": 4,
      "outputs": [
        {
          "output_type": "stream",
          "text": [
            "Go to this URL in a browser: https://accounts.google.com/o/oauth2/auth?client_id=947318989803-6bn6qk8qdgf4n4g3pfee6491hc0brc4i.apps.googleusercontent.com&redirect_uri=urn%3Aietf%3Awg%3Aoauth%3A2.0%3Aoob&scope=email%20https%3A%2F%2Fwww.googleapis.com%2Fauth%2Fdocs.test%20https%3A%2F%2Fwww.googleapis.com%2Fauth%2Fdrive%20https%3A%2F%2Fwww.googleapis.com%2Fauth%2Fdrive.photos.readonly%20https%3A%2F%2Fwww.googleapis.com%2Fauth%2Fpeopleapi.readonly&response_type=code\n",
            "\n",
            "Enter your authorization code:\n",
            "··········\n",
            "Mounted at /content/gdrive\n"
          ],
          "name": "stdout"
        }
      ]
    },
    {
      "metadata": {
        "id": "q8krOKh04jgz",
        "colab_type": "text"
      },
      "cell_type": "markdown",
      "source": [
        "**Read bottle.csv file.**"
      ]
    },
    {
      "metadata": {
        "id": "8UzvEF_u57wM",
        "colab_type": "code",
        "colab": {
          "base_uri": "https://localhost:8080/",
          "height": 35
        },
        "outputId": "ef79189d-7343-4acc-e2fd-f15128e3b708"
      },
      "cell_type": "code",
      "source": [
        "mypath = '/content/gdrive/My Drive/UChicago/Machine Learning/Data/Raw'\n",
        "import os\n",
        "os.listdir(mypath)"
      ],
      "execution_count": 5,
      "outputs": [
        {
          "output_type": "execute_result",
          "data": {
            "text/plain": [
              "['bottle.csv']"
            ]
          },
          "metadata": {
            "tags": []
          },
          "execution_count": 5
        }
      ]
    },
    {
      "metadata": {
        "id": "KxNDXLI32W2D",
        "colab_type": "code",
        "colab": {
          "base_uri": "https://localhost:8080/",
          "height": 53
        },
        "outputId": "8c91df5a-984c-426b-9115-a7154e68c603"
      },
      "cell_type": "code",
      "source": [
        "bottle_data = pd.read_csv('/content/gdrive/My Drive/UChicago/Machine Learning/Data/Raw/bottle.csv')"
      ],
      "execution_count": 25,
      "outputs": [
        {
          "output_type": "stream",
          "text": [
            "/usr/local/lib/python3.6/dist-packages/IPython/core/interactiveshell.py:2718: DtypeWarning: Columns (47,73) have mixed types. Specify dtype option on import or set low_memory=False.\n",
            "  interactivity=interactivity, compiler=compiler, result=result)\n"
          ],
          "name": "stderr"
        }
      ]
    },
    {
      "metadata": {
        "id": "X01706nU2ZKZ",
        "colab_type": "text"
      },
      "cell_type": "markdown",
      "source": [
        "## Data Exploration and Pre-Processing"
      ]
    },
    {
      "metadata": {
        "id": "yZP_5Ycu1Wyv",
        "colab_type": "code",
        "colab": {
          "base_uri": "https://localhost:8080/",
          "height": 35
        },
        "outputId": "67625bfe-e59c-4b0c-86c0-feea794cfec3"
      },
      "cell_type": "code",
      "source": [
        "type(bottle_data)"
      ],
      "execution_count": 26,
      "outputs": [
        {
          "output_type": "execute_result",
          "data": {
            "text/plain": [
              "pandas.core.frame.DataFrame"
            ]
          },
          "metadata": {
            "tags": []
          },
          "execution_count": 26
        }
      ]
    },
    {
      "metadata": {
        "id": "FHCz2HKRDjMD",
        "colab_type": "code",
        "colab": {
          "base_uri": "https://localhost:8080/",
          "height": 346
        },
        "outputId": "0349ce11-1b3f-40f6-b281-f09dfa56e7bc"
      },
      "cell_type": "code",
      "source": [
        "bottle_data.describe()"
      ],
      "execution_count": 27,
      "outputs": [
        {
          "output_type": "execute_result",
          "data": {
            "text/html": [
              "<div>\n",
              "<style scoped>\n",
              "    .dataframe tbody tr th:only-of-type {\n",
              "        vertical-align: middle;\n",
              "    }\n",
              "\n",
              "    .dataframe tbody tr th {\n",
              "        vertical-align: top;\n",
              "    }\n",
              "\n",
              "    .dataframe thead th {\n",
              "        text-align: right;\n",
              "    }\n",
              "</style>\n",
              "<table border=\"1\" class=\"dataframe\">\n",
              "  <thead>\n",
              "    <tr style=\"text-align: right;\">\n",
              "      <th></th>\n",
              "      <th>Cst_Cnt</th>\n",
              "      <th>Btl_Cnt</th>\n",
              "      <th>Depthm</th>\n",
              "      <th>T_degC</th>\n",
              "      <th>Salnty</th>\n",
              "      <th>O2ml_L</th>\n",
              "      <th>STheta</th>\n",
              "      <th>O2Sat</th>\n",
              "      <th>Oxy_µmol/Kg</th>\n",
              "      <th>BtlNum</th>\n",
              "      <th>...</th>\n",
              "      <th>R_CHLA</th>\n",
              "      <th>R_PHAEO</th>\n",
              "      <th>R_PRES</th>\n",
              "      <th>R_SAMP</th>\n",
              "      <th>DIC1</th>\n",
              "      <th>DIC2</th>\n",
              "      <th>TA1</th>\n",
              "      <th>TA2</th>\n",
              "      <th>pH2</th>\n",
              "      <th>pH1</th>\n",
              "    </tr>\n",
              "  </thead>\n",
              "  <tbody>\n",
              "    <tr>\n",
              "      <th>count</th>\n",
              "      <td>864863.000000</td>\n",
              "      <td>864863.000000</td>\n",
              "      <td>864863.000000</td>\n",
              "      <td>853900.000000</td>\n",
              "      <td>817509.000000</td>\n",
              "      <td>696201.000000</td>\n",
              "      <td>812174.000000</td>\n",
              "      <td>661274.000000</td>\n",
              "      <td>661268.000000</td>\n",
              "      <td>118667.000000</td>\n",
              "      <td>...</td>\n",
              "      <td>225276.000000</td>\n",
              "      <td>225275.000000</td>\n",
              "      <td>864863.000000</td>\n",
              "      <td>122006.000000</td>\n",
              "      <td>1999.000000</td>\n",
              "      <td>224.000000</td>\n",
              "      <td>2084.000000</td>\n",
              "      <td>234.000000</td>\n",
              "      <td>10.000000</td>\n",
              "      <td>84.000000</td>\n",
              "    </tr>\n",
              "    <tr>\n",
              "      <th>mean</th>\n",
              "      <td>17138.790958</td>\n",
              "      <td>432432.000000</td>\n",
              "      <td>226.831951</td>\n",
              "      <td>10.799677</td>\n",
              "      <td>33.840350</td>\n",
              "      <td>3.392468</td>\n",
              "      <td>25.819394</td>\n",
              "      <td>57.103779</td>\n",
              "      <td>148.808694</td>\n",
              "      <td>10.497426</td>\n",
              "      <td>...</td>\n",
              "      <td>0.450225</td>\n",
              "      <td>0.198599</td>\n",
              "      <td>228.395694</td>\n",
              "      <td>162.071521</td>\n",
              "      <td>2153.239714</td>\n",
              "      <td>2168.148330</td>\n",
              "      <td>2256.055845</td>\n",
              "      <td>2278.858803</td>\n",
              "      <td>7.948570</td>\n",
              "      <td>7.910983</td>\n",
              "    </tr>\n",
              "    <tr>\n",
              "      <th>std</th>\n",
              "      <td>10240.949817</td>\n",
              "      <td>249664.587269</td>\n",
              "      <td>316.050259</td>\n",
              "      <td>4.243825</td>\n",
              "      <td>0.461843</td>\n",
              "      <td>2.073256</td>\n",
              "      <td>1.167787</td>\n",
              "      <td>37.094137</td>\n",
              "      <td>90.187533</td>\n",
              "      <td>6.189688</td>\n",
              "      <td>...</td>\n",
              "      <td>1.208566</td>\n",
              "      <td>0.376539</td>\n",
              "      <td>319.456731</td>\n",
              "      <td>85.722796</td>\n",
              "      <td>112.995202</td>\n",
              "      <td>154.852332</td>\n",
              "      <td>34.844435</td>\n",
              "      <td>58.496495</td>\n",
              "      <td>0.021216</td>\n",
              "      <td>0.077666</td>\n",
              "    </tr>\n",
              "    <tr>\n",
              "      <th>min</th>\n",
              "      <td>1.000000</td>\n",
              "      <td>1.000000</td>\n",
              "      <td>0.000000</td>\n",
              "      <td>1.440000</td>\n",
              "      <td>28.431000</td>\n",
              "      <td>-0.010000</td>\n",
              "      <td>20.934000</td>\n",
              "      <td>-0.100000</td>\n",
              "      <td>-0.434900</td>\n",
              "      <td>0.000000</td>\n",
              "      <td>...</td>\n",
              "      <td>-0.010000</td>\n",
              "      <td>-3.890000</td>\n",
              "      <td>0.000000</td>\n",
              "      <td>0.000000</td>\n",
              "      <td>1948.850000</td>\n",
              "      <td>1969.440000</td>\n",
              "      <td>2181.570000</td>\n",
              "      <td>2198.150000</td>\n",
              "      <td>7.923100</td>\n",
              "      <td>7.618300</td>\n",
              "    </tr>\n",
              "    <tr>\n",
              "      <th>25%</th>\n",
              "      <td>8269.000000</td>\n",
              "      <td>216216.500000</td>\n",
              "      <td>46.000000</td>\n",
              "      <td>7.680000</td>\n",
              "      <td>33.488000</td>\n",
              "      <td>1.360000</td>\n",
              "      <td>24.965000</td>\n",
              "      <td>21.100000</td>\n",
              "      <td>60.915470</td>\n",
              "      <td>5.000000</td>\n",
              "      <td>...</td>\n",
              "      <td>0.050000</td>\n",
              "      <td>0.050000</td>\n",
              "      <td>46.000000</td>\n",
              "      <td>200.000000</td>\n",
              "      <td>2028.330000</td>\n",
              "      <td>2008.977500</td>\n",
              "      <td>2230.322500</td>\n",
              "      <td>2229.062500</td>\n",
              "      <td>7.931475</td>\n",
              "      <td>7.898675</td>\n",
              "    </tr>\n",
              "    <tr>\n",
              "      <th>50%</th>\n",
              "      <td>16848.000000</td>\n",
              "      <td>432432.000000</td>\n",
              "      <td>125.000000</td>\n",
              "      <td>10.060000</td>\n",
              "      <td>33.863000</td>\n",
              "      <td>3.440000</td>\n",
              "      <td>25.996000</td>\n",
              "      <td>54.400000</td>\n",
              "      <td>151.064150</td>\n",
              "      <td>10.000000</td>\n",
              "      <td>...</td>\n",
              "      <td>0.160000</td>\n",
              "      <td>0.110000</td>\n",
              "      <td>126.000000</td>\n",
              "      <td>206.000000</td>\n",
              "      <td>2170.640000</td>\n",
              "      <td>2265.885000</td>\n",
              "      <td>2244.325000</td>\n",
              "      <td>2247.505000</td>\n",
              "      <td>7.946650</td>\n",
              "      <td>7.928850</td>\n",
              "    </tr>\n",
              "    <tr>\n",
              "      <th>75%</th>\n",
              "      <td>26557.000000</td>\n",
              "      <td>648647.500000</td>\n",
              "      <td>300.000000</td>\n",
              "      <td>13.880000</td>\n",
              "      <td>34.196900</td>\n",
              "      <td>5.500000</td>\n",
              "      <td>26.646000</td>\n",
              "      <td>97.600000</td>\n",
              "      <td>240.379600</td>\n",
              "      <td>16.000000</td>\n",
              "      <td>...</td>\n",
              "      <td>0.390000</td>\n",
              "      <td>0.230000</td>\n",
              "      <td>302.000000</td>\n",
              "      <td>214.000000</td>\n",
              "      <td>2253.810000</td>\n",
              "      <td>2315.525000</td>\n",
              "      <td>2278.505000</td>\n",
              "      <td>2316.452500</td>\n",
              "      <td>7.963300</td>\n",
              "      <td>7.955100</td>\n",
              "    </tr>\n",
              "    <tr>\n",
              "      <th>max</th>\n",
              "      <td>34404.000000</td>\n",
              "      <td>864863.000000</td>\n",
              "      <td>5351.000000</td>\n",
              "      <td>31.140000</td>\n",
              "      <td>37.034000</td>\n",
              "      <td>11.130000</td>\n",
              "      <td>250.784000</td>\n",
              "      <td>214.100000</td>\n",
              "      <td>485.701800</td>\n",
              "      <td>25.000000</td>\n",
              "      <td>...</td>\n",
              "      <td>66.110000</td>\n",
              "      <td>65.300000</td>\n",
              "      <td>5458.000000</td>\n",
              "      <td>424.000000</td>\n",
              "      <td>2367.800000</td>\n",
              "      <td>2364.420000</td>\n",
              "      <td>2434.900000</td>\n",
              "      <td>2437.000000</td>\n",
              "      <td>7.988300</td>\n",
              "      <td>8.047700</td>\n",
              "    </tr>\n",
              "  </tbody>\n",
              "</table>\n",
              "<p>8 rows × 70 columns</p>\n",
              "</div>"
            ],
            "text/plain": [
              "             Cst_Cnt        Btl_Cnt         Depthm         T_degC  \\\n",
              "count  864863.000000  864863.000000  864863.000000  853900.000000   \n",
              "mean    17138.790958  432432.000000     226.831951      10.799677   \n",
              "std     10240.949817  249664.587269     316.050259       4.243825   \n",
              "min         1.000000       1.000000       0.000000       1.440000   \n",
              "25%      8269.000000  216216.500000      46.000000       7.680000   \n",
              "50%     16848.000000  432432.000000     125.000000      10.060000   \n",
              "75%     26557.000000  648647.500000     300.000000      13.880000   \n",
              "max     34404.000000  864863.000000    5351.000000      31.140000   \n",
              "\n",
              "              Salnty         O2ml_L         STheta          O2Sat  \\\n",
              "count  817509.000000  696201.000000  812174.000000  661274.000000   \n",
              "mean       33.840350       3.392468      25.819394      57.103779   \n",
              "std         0.461843       2.073256       1.167787      37.094137   \n",
              "min        28.431000      -0.010000      20.934000      -0.100000   \n",
              "25%        33.488000       1.360000      24.965000      21.100000   \n",
              "50%        33.863000       3.440000      25.996000      54.400000   \n",
              "75%        34.196900       5.500000      26.646000      97.600000   \n",
              "max        37.034000      11.130000     250.784000     214.100000   \n",
              "\n",
              "         Oxy_µmol/Kg         BtlNum    ...             R_CHLA        R_PHAEO  \\\n",
              "count  661268.000000  118667.000000    ...      225276.000000  225275.000000   \n",
              "mean      148.808694      10.497426    ...           0.450225       0.198599   \n",
              "std        90.187533       6.189688    ...           1.208566       0.376539   \n",
              "min        -0.434900       0.000000    ...          -0.010000      -3.890000   \n",
              "25%        60.915470       5.000000    ...           0.050000       0.050000   \n",
              "50%       151.064150      10.000000    ...           0.160000       0.110000   \n",
              "75%       240.379600      16.000000    ...           0.390000       0.230000   \n",
              "max       485.701800      25.000000    ...          66.110000      65.300000   \n",
              "\n",
              "              R_PRES         R_SAMP         DIC1         DIC2          TA1  \\\n",
              "count  864863.000000  122006.000000  1999.000000   224.000000  2084.000000   \n",
              "mean      228.395694     162.071521  2153.239714  2168.148330  2256.055845   \n",
              "std       319.456731      85.722796   112.995202   154.852332    34.844435   \n",
              "min         0.000000       0.000000  1948.850000  1969.440000  2181.570000   \n",
              "25%        46.000000     200.000000  2028.330000  2008.977500  2230.322500   \n",
              "50%       126.000000     206.000000  2170.640000  2265.885000  2244.325000   \n",
              "75%       302.000000     214.000000  2253.810000  2315.525000  2278.505000   \n",
              "max      5458.000000     424.000000  2367.800000  2364.420000  2434.900000   \n",
              "\n",
              "               TA2        pH2        pH1  \n",
              "count   234.000000  10.000000  84.000000  \n",
              "mean   2278.858803   7.948570   7.910983  \n",
              "std      58.496495   0.021216   0.077666  \n",
              "min    2198.150000   7.923100   7.618300  \n",
              "25%    2229.062500   7.931475   7.898675  \n",
              "50%    2247.505000   7.946650   7.928850  \n",
              "75%    2316.452500   7.963300   7.955100  \n",
              "max    2437.000000   7.988300   8.047700  \n",
              "\n",
              "[8 rows x 70 columns]"
            ]
          },
          "metadata": {
            "tags": []
          },
          "execution_count": 27
        }
      ]
    },
    {
      "metadata": {
        "id": "hbl9R6BWD-7R",
        "colab_type": "text"
      },
      "cell_type": "markdown",
      "source": [
        "**Extract only 'T_degC', 'Salnty', and 'STheta' **"
      ]
    },
    {
      "metadata": {
        "id": "OMxWPw8vD82m",
        "colab_type": "code",
        "colab": {
          "base_uri": "https://localhost:8080/",
          "height": 297
        },
        "outputId": "a5ae5ec0-8ae4-43b1-b82f-43a637cddb2c"
      },
      "cell_type": "code",
      "source": [
        "bottle_data_subset = bottle_data.loc[:,['T_degC','Salnty','STheta']]\n",
        "bottle_data_subset.describe()"
      ],
      "execution_count": 28,
      "outputs": [
        {
          "output_type": "execute_result",
          "data": {
            "text/html": [
              "<div>\n",
              "<style scoped>\n",
              "    .dataframe tbody tr th:only-of-type {\n",
              "        vertical-align: middle;\n",
              "    }\n",
              "\n",
              "    .dataframe tbody tr th {\n",
              "        vertical-align: top;\n",
              "    }\n",
              "\n",
              "    .dataframe thead th {\n",
              "        text-align: right;\n",
              "    }\n",
              "</style>\n",
              "<table border=\"1\" class=\"dataframe\">\n",
              "  <thead>\n",
              "    <tr style=\"text-align: right;\">\n",
              "      <th></th>\n",
              "      <th>T_degC</th>\n",
              "      <th>Salnty</th>\n",
              "      <th>STheta</th>\n",
              "    </tr>\n",
              "  </thead>\n",
              "  <tbody>\n",
              "    <tr>\n",
              "      <th>count</th>\n",
              "      <td>853900.000000</td>\n",
              "      <td>817509.000000</td>\n",
              "      <td>812174.000000</td>\n",
              "    </tr>\n",
              "    <tr>\n",
              "      <th>mean</th>\n",
              "      <td>10.799677</td>\n",
              "      <td>33.840350</td>\n",
              "      <td>25.819394</td>\n",
              "    </tr>\n",
              "    <tr>\n",
              "      <th>std</th>\n",
              "      <td>4.243825</td>\n",
              "      <td>0.461843</td>\n",
              "      <td>1.167787</td>\n",
              "    </tr>\n",
              "    <tr>\n",
              "      <th>min</th>\n",
              "      <td>1.440000</td>\n",
              "      <td>28.431000</td>\n",
              "      <td>20.934000</td>\n",
              "    </tr>\n",
              "    <tr>\n",
              "      <th>25%</th>\n",
              "      <td>7.680000</td>\n",
              "      <td>33.488000</td>\n",
              "      <td>24.965000</td>\n",
              "    </tr>\n",
              "    <tr>\n",
              "      <th>50%</th>\n",
              "      <td>10.060000</td>\n",
              "      <td>33.863000</td>\n",
              "      <td>25.996000</td>\n",
              "    </tr>\n",
              "    <tr>\n",
              "      <th>75%</th>\n",
              "      <td>13.880000</td>\n",
              "      <td>34.196900</td>\n",
              "      <td>26.646000</td>\n",
              "    </tr>\n",
              "    <tr>\n",
              "      <th>max</th>\n",
              "      <td>31.140000</td>\n",
              "      <td>37.034000</td>\n",
              "      <td>250.784000</td>\n",
              "    </tr>\n",
              "  </tbody>\n",
              "</table>\n",
              "</div>"
            ],
            "text/plain": [
              "              T_degC         Salnty         STheta\n",
              "count  853900.000000  817509.000000  812174.000000\n",
              "mean       10.799677      33.840350      25.819394\n",
              "std         4.243825       0.461843       1.167787\n",
              "min         1.440000      28.431000      20.934000\n",
              "25%         7.680000      33.488000      24.965000\n",
              "50%        10.060000      33.863000      25.996000\n",
              "75%        13.880000      34.196900      26.646000\n",
              "max        31.140000      37.034000     250.784000"
            ]
          },
          "metadata": {
            "tags": []
          },
          "execution_count": 28
        }
      ]
    },
    {
      "metadata": {
        "id": "osQ-l7p3Ez6E",
        "colab_type": "code",
        "colab": {
          "base_uri": "https://localhost:8080/",
          "height": 204
        },
        "outputId": "3858118c-d293-409c-de74-f3f11b2088a3"
      },
      "cell_type": "code",
      "source": [
        "bottle_data_subset.head()"
      ],
      "execution_count": 29,
      "outputs": [
        {
          "output_type": "execute_result",
          "data": {
            "text/html": [
              "<div>\n",
              "<style scoped>\n",
              "    .dataframe tbody tr th:only-of-type {\n",
              "        vertical-align: middle;\n",
              "    }\n",
              "\n",
              "    .dataframe tbody tr th {\n",
              "        vertical-align: top;\n",
              "    }\n",
              "\n",
              "    .dataframe thead th {\n",
              "        text-align: right;\n",
              "    }\n",
              "</style>\n",
              "<table border=\"1\" class=\"dataframe\">\n",
              "  <thead>\n",
              "    <tr style=\"text-align: right;\">\n",
              "      <th></th>\n",
              "      <th>T_degC</th>\n",
              "      <th>Salnty</th>\n",
              "      <th>STheta</th>\n",
              "    </tr>\n",
              "  </thead>\n",
              "  <tbody>\n",
              "    <tr>\n",
              "      <th>0</th>\n",
              "      <td>10.50</td>\n",
              "      <td>33.440</td>\n",
              "      <td>25.649</td>\n",
              "    </tr>\n",
              "    <tr>\n",
              "      <th>1</th>\n",
              "      <td>10.46</td>\n",
              "      <td>33.440</td>\n",
              "      <td>25.656</td>\n",
              "    </tr>\n",
              "    <tr>\n",
              "      <th>2</th>\n",
              "      <td>10.46</td>\n",
              "      <td>33.437</td>\n",
              "      <td>25.654</td>\n",
              "    </tr>\n",
              "    <tr>\n",
              "      <th>3</th>\n",
              "      <td>10.45</td>\n",
              "      <td>33.420</td>\n",
              "      <td>25.643</td>\n",
              "    </tr>\n",
              "    <tr>\n",
              "      <th>4</th>\n",
              "      <td>10.45</td>\n",
              "      <td>33.421</td>\n",
              "      <td>25.643</td>\n",
              "    </tr>\n",
              "  </tbody>\n",
              "</table>\n",
              "</div>"
            ],
            "text/plain": [
              "   T_degC  Salnty  STheta\n",
              "0   10.50  33.440  25.649\n",
              "1   10.46  33.440  25.656\n",
              "2   10.46  33.437  25.654\n",
              "3   10.45  33.420  25.643\n",
              "4   10.45  33.421  25.643"
            ]
          },
          "metadata": {
            "tags": []
          },
          "execution_count": 29
        }
      ]
    },
    {
      "metadata": {
        "id": "eG6Qnn0SE5VG",
        "colab_type": "text"
      },
      "cell_type": "markdown",
      "source": [
        "**Remove NaN.**"
      ]
    },
    {
      "metadata": {
        "id": "dQtJBamCFOKA",
        "colab_type": "code",
        "colab": {
          "base_uri": "https://localhost:8080/",
          "height": 297
        },
        "outputId": "bc9baa99-89fd-43a6-caf3-956995010e58"
      },
      "cell_type": "code",
      "source": [
        "bottle_data_subset = bottle_data_subset.dropna()\n",
        "bottle_data_subset.describe()"
      ],
      "execution_count": 30,
      "outputs": [
        {
          "output_type": "execute_result",
          "data": {
            "text/html": [
              "<div>\n",
              "<style scoped>\n",
              "    .dataframe tbody tr th:only-of-type {\n",
              "        vertical-align: middle;\n",
              "    }\n",
              "\n",
              "    .dataframe tbody tr th {\n",
              "        vertical-align: top;\n",
              "    }\n",
              "\n",
              "    .dataframe thead th {\n",
              "        text-align: right;\n",
              "    }\n",
              "</style>\n",
              "<table border=\"1\" class=\"dataframe\">\n",
              "  <thead>\n",
              "    <tr style=\"text-align: right;\">\n",
              "      <th></th>\n",
              "      <th>T_degC</th>\n",
              "      <th>Salnty</th>\n",
              "      <th>STheta</th>\n",
              "    </tr>\n",
              "  </thead>\n",
              "  <tbody>\n",
              "    <tr>\n",
              "      <th>count</th>\n",
              "      <td>812174.000000</td>\n",
              "      <td>812174.000000</td>\n",
              "      <td>812174.000000</td>\n",
              "    </tr>\n",
              "    <tr>\n",
              "      <th>mean</th>\n",
              "      <td>10.847904</td>\n",
              "      <td>33.842424</td>\n",
              "      <td>25.819394</td>\n",
              "    </tr>\n",
              "    <tr>\n",
              "      <th>std</th>\n",
              "      <td>4.221005</td>\n",
              "      <td>0.461567</td>\n",
              "      <td>1.167787</td>\n",
              "    </tr>\n",
              "    <tr>\n",
              "      <th>min</th>\n",
              "      <td>1.440000</td>\n",
              "      <td>28.431000</td>\n",
              "      <td>20.934000</td>\n",
              "    </tr>\n",
              "    <tr>\n",
              "      <th>25%</th>\n",
              "      <td>7.750000</td>\n",
              "      <td>33.490000</td>\n",
              "      <td>24.965000</td>\n",
              "    </tr>\n",
              "    <tr>\n",
              "      <th>50%</th>\n",
              "      <td>10.100000</td>\n",
              "      <td>33.869200</td>\n",
              "      <td>25.996000</td>\n",
              "    </tr>\n",
              "    <tr>\n",
              "      <th>75%</th>\n",
              "      <td>13.910000</td>\n",
              "      <td>34.198000</td>\n",
              "      <td>26.646000</td>\n",
              "    </tr>\n",
              "    <tr>\n",
              "      <th>max</th>\n",
              "      <td>31.140000</td>\n",
              "      <td>37.034000</td>\n",
              "      <td>250.784000</td>\n",
              "    </tr>\n",
              "  </tbody>\n",
              "</table>\n",
              "</div>"
            ],
            "text/plain": [
              "              T_degC         Salnty         STheta\n",
              "count  812174.000000  812174.000000  812174.000000\n",
              "mean       10.847904      33.842424      25.819394\n",
              "std         4.221005       0.461567       1.167787\n",
              "min         1.440000      28.431000      20.934000\n",
              "25%         7.750000      33.490000      24.965000\n",
              "50%        10.100000      33.869200      25.996000\n",
              "75%        13.910000      34.198000      26.646000\n",
              "max        31.140000      37.034000     250.784000"
            ]
          },
          "metadata": {
            "tags": []
          },
          "execution_count": 30
        }
      ]
    },
    {
      "metadata": {
        "id": "sLMarBTsJTYL",
        "colab_type": "text"
      },
      "cell_type": "markdown",
      "source": [
        "**Create scatter plots.**"
      ]
    },
    {
      "metadata": {
        "id": "HbV-hgDPJTBB",
        "colab_type": "code",
        "colab": {
          "base_uri": "https://localhost:8080/",
          "height": 361
        },
        "outputId": "1a8f8503-11e9-497f-a076-b9b5ae08e23c"
      },
      "cell_type": "code",
      "source": [
        "plt.subplot(1, 2, 1)\n",
        "plt.scatter(bottle_data_subset['Salnty'], bottle_data_subset['T_degC'])\n",
        "plt.xlabel('Salnty')\n",
        "plt.ylabel('T_degC')\n",
        "plt.subplot(1, 2, 2)\n",
        "plt.scatter(bottle_data_subset['STheta'], bottle_data_subset['T_degC'])\n",
        "plt.xlabel('STheta')\n",
        "plt.ylabel('T_degC')\n",
        "plt.show()"
      ],
      "execution_count": 12,
      "outputs": [
        {
          "output_type": "display_data",
          "data": {
            "image/png": "[encoded data removed]",
            "text/plain": [
              "<matplotlib.figure.Figure at 0x7f31919d79b0>"
            ]
          },
          "metadata": {
            "tags": []
          }
        }
      ]
    },
    {
      "metadata": {
        "id": "DE_WY1296nxd",
        "colab_type": "text"
      },
      "cell_type": "markdown",
      "source": [
        "From the scatter plots, it can be seen that there are a few outliers in STheta. Creating boxplots to confirm below."
      ]
    },
    {
      "metadata": {
        "id": "inEIRmPpK0X4",
        "colab_type": "text"
      },
      "cell_type": "markdown",
      "source": [
        "**Creating Boxplots.**"
      ]
    },
    {
      "metadata": {
        "id": "w6hMc_ktFcIN",
        "colab_type": "code",
        "colab": {
          "base_uri": "https://localhost:8080/",
          "height": 347
        },
        "outputId": "fb2c6ff3-4f47-411e-9780-17f371e7e302"
      },
      "cell_type": "code",
      "source": [
        "plt.subplot(1,2,1)\n",
        "plt.boxplot(bottle_data_subset['Salnty'])\n",
        "plt.subplot(1,2,2)\n",
        "plt.boxplot(bottle_data_subset['STheta'])\n",
        "plt.show()"
      ],
      "execution_count": 13,
      "outputs": [
        {
          "output_type": "display_data",
          "data": {
            "image/png": "[encoded data removed]",
            "text/plain": [
              "<matplotlib.figure.Figure at 0x7f3197741be0>"
            ]
          },
          "metadata": {
            "tags": []
          }
        }
      ]
    },
    {
      "metadata": {
        "id": "xVE6R6srCYYZ",
        "colab_type": "text"
      },
      "cell_type": "markdown",
      "source": [
        "There seems to be some outlier in **STheta** in the upper tail. Remove data that is more or less than 3 SD."
      ]
    },
    {
      "metadata": {
        "id": "vlyiHqDdEhVo",
        "colab_type": "code",
        "colab": {
          "base_uri": "https://localhost:8080/",
          "height": 297
        },
        "outputId": "4335cfc6-5eff-4b9c-cd1e-c02ffcd154d9"
      },
      "cell_type": "code",
      "source": [
        "bottle_data_subset = bottle_data_subset[bottle_data_subset['STheta'] < np.mean(bottle_data_subset['STheta']) + 3 * np.std(bottle_data_subset['STheta'])]\n",
        "bottle_data_subset.describe()"
      ],
      "execution_count": 31,
      "outputs": [
        {
          "output_type": "execute_result",
          "data": {
            "text/html": [
              "<div>\n",
              "<style scoped>\n",
              "    .dataframe tbody tr th:only-of-type {\n",
              "        vertical-align: middle;\n",
              "    }\n",
              "\n",
              "    .dataframe tbody tr th {\n",
              "        vertical-align: top;\n",
              "    }\n",
              "\n",
              "    .dataframe thead th {\n",
              "        text-align: right;\n",
              "    }\n",
              "</style>\n",
              "<table border=\"1\" class=\"dataframe\">\n",
              "  <thead>\n",
              "    <tr style=\"text-align: right;\">\n",
              "      <th></th>\n",
              "      <th>T_degC</th>\n",
              "      <th>Salnty</th>\n",
              "      <th>STheta</th>\n",
              "    </tr>\n",
              "  </thead>\n",
              "  <tbody>\n",
              "    <tr>\n",
              "      <th>count</th>\n",
              "      <td>812168.000000</td>\n",
              "      <td>812168.000000</td>\n",
              "      <td>812168.000000</td>\n",
              "    </tr>\n",
              "    <tr>\n",
              "      <th>mean</th>\n",
              "      <td>10.847859</td>\n",
              "      <td>33.842430</td>\n",
              "      <td>25.817791</td>\n",
              "    </tr>\n",
              "    <tr>\n",
              "      <th>std</th>\n",
              "      <td>4.220989</td>\n",
              "      <td>0.461564</td>\n",
              "      <td>1.007309</td>\n",
              "    </tr>\n",
              "    <tr>\n",
              "      <th>min</th>\n",
              "      <td>1.440000</td>\n",
              "      <td>28.431000</td>\n",
              "      <td>20.934000</td>\n",
              "    </tr>\n",
              "    <tr>\n",
              "      <th>25%</th>\n",
              "      <td>7.750000</td>\n",
              "      <td>33.490000</td>\n",
              "      <td>24.965000</td>\n",
              "    </tr>\n",
              "    <tr>\n",
              "      <th>50%</th>\n",
              "      <td>10.100000</td>\n",
              "      <td>33.869450</td>\n",
              "      <td>25.996000</td>\n",
              "    </tr>\n",
              "    <tr>\n",
              "      <th>75%</th>\n",
              "      <td>13.910000</td>\n",
              "      <td>34.198000</td>\n",
              "      <td>26.646000</td>\n",
              "    </tr>\n",
              "    <tr>\n",
              "      <th>max</th>\n",
              "      <td>31.140000</td>\n",
              "      <td>37.034000</td>\n",
              "      <td>28.139000</td>\n",
              "    </tr>\n",
              "  </tbody>\n",
              "</table>\n",
              "</div>"
            ],
            "text/plain": [
              "              T_degC         Salnty         STheta\n",
              "count  812168.000000  812168.000000  812168.000000\n",
              "mean       10.847859      33.842430      25.817791\n",
              "std         4.220989       0.461564       1.007309\n",
              "min         1.440000      28.431000      20.934000\n",
              "25%         7.750000      33.490000      24.965000\n",
              "50%        10.100000      33.869450      25.996000\n",
              "75%        13.910000      34.198000      26.646000\n",
              "max        31.140000      37.034000      28.139000"
            ]
          },
          "metadata": {
            "tags": []
          },
          "execution_count": 31
        }
      ]
    },
    {
      "metadata": {
        "id": "tX2bNEL-Cp0R",
        "colab_type": "code",
        "colab": {
          "base_uri": "https://localhost:8080/",
          "height": 347
        },
        "outputId": "72a240ca-d5bc-467b-b275-b1d49d8e242e"
      },
      "cell_type": "code",
      "source": [
        "plt.subplot(1,2,1)\n",
        "plt.boxplot(bottle_data_subset['Salnty'])\n",
        "plt.subplot(1,2,2)\n",
        "plt.boxplot(bottle_data_subset['STheta'])\n",
        "plt.show()"
      ],
      "execution_count": 15,
      "outputs": [
        {
          "output_type": "display_data",
          "data": {
            "image/png": "[encoded data removed]",
            "text/plain": [
              "<matplotlib.figure.Figure at 0x7f318d5b0da0>"
            ]
          },
          "metadata": {
            "tags": []
          }
        }
      ]
    },
    {
      "metadata": {
        "id": "gK9XjGtXRIL1",
        "colab_type": "code",
        "colab": {
          "base_uri": "https://localhost:8080/",
          "height": 361
        },
        "outputId": "c4751588-d13a-4022-d68a-18f3a093855a"
      },
      "cell_type": "code",
      "source": [
        "plt.subplot(1, 2, 1)\n",
        "plt.scatter(bottle_data_subset['Salnty'], bottle_data_subset['T_degC'])\n",
        "plt.xlabel('Salnty')\n",
        "plt.ylabel('T_degC')\n",
        "plt.subplot(1, 2, 2)\n",
        "plt.scatter(bottle_data_subset['STheta'], bottle_data_subset['T_degC'])\n",
        "plt.xlabel('STheta')\n",
        "plt.ylabel('T_degC')\n",
        "plt.show()"
      ],
      "execution_count": 57,
      "outputs": [
        {
          "output_type": "display_data",
          "data": {
            "image/png": "[encoded data removed]",
            "text/plain": [
              "<matplotlib.figure.Figure at 0x7f318ffbbc88>"
            ]
          },
          "metadata": {
            "tags": []
          }
        }
      ]
    },
    {
      "metadata": {
        "id": "6URqUP8K6zgL",
        "colab_type": "text"
      },
      "cell_type": "markdown",
      "source": [
        "The STheta vs T_degC scatter plot looks much better. Six data points were omitted from the dataset as they are outliers."
      ]
    },
    {
      "metadata": {
        "id": "1bjPX9FuKIoB",
        "colab_type": "text"
      },
      "cell_type": "markdown",
      "source": [
        "**Split Train and Test data.**"
      ]
    },
    {
      "metadata": {
        "id": "XTWqJfPpK8e8",
        "colab_type": "code",
        "colab": {}
      },
      "cell_type": "code",
      "source": [
        "x_train, x_test, y_train, y_test = train_test_split(bottle_data_subset.iloc[:,1:], bottle_data_subset.iloc[:,0], test_size = .3, random_state = 43)"
      ],
      "execution_count": 0,
      "outputs": []
    },
    {
      "metadata": {
        "id": "qcDRB84RIDYR",
        "colab_type": "code",
        "colab": {
          "base_uri": "https://localhost:8080/",
          "height": 204
        },
        "outputId": "b6b27d5a-74e1-4cdb-83ae-015efa9b604b"
      },
      "cell_type": "code",
      "source": [
        "x_train.head()"
      ],
      "execution_count": 33,
      "outputs": [
        {
          "output_type": "execute_result",
          "data": {
            "text/html": [
              "<div>\n",
              "<style scoped>\n",
              "    .dataframe tbody tr th:only-of-type {\n",
              "        vertical-align: middle;\n",
              "    }\n",
              "\n",
              "    .dataframe tbody tr th {\n",
              "        vertical-align: top;\n",
              "    }\n",
              "\n",
              "    .dataframe thead th {\n",
              "        text-align: right;\n",
              "    }\n",
              "</style>\n",
              "<table border=\"1\" class=\"dataframe\">\n",
              "  <thead>\n",
              "    <tr style=\"text-align: right;\">\n",
              "      <th></th>\n",
              "      <th>Salnty</th>\n",
              "      <th>STheta</th>\n",
              "    </tr>\n",
              "  </thead>\n",
              "  <tbody>\n",
              "    <tr>\n",
              "      <th>382414</th>\n",
              "      <td>33.973</td>\n",
              "      <td>26.417</td>\n",
              "    </tr>\n",
              "    <tr>\n",
              "      <th>435800</th>\n",
              "      <td>33.863</td>\n",
              "      <td>26.529</td>\n",
              "    </tr>\n",
              "    <tr>\n",
              "      <th>279807</th>\n",
              "      <td>33.870</td>\n",
              "      <td>26.002</td>\n",
              "    </tr>\n",
              "    <tr>\n",
              "      <th>228238</th>\n",
              "      <td>34.700</td>\n",
              "      <td>26.038</td>\n",
              "    </tr>\n",
              "    <tr>\n",
              "      <th>376449</th>\n",
              "      <td>34.176</td>\n",
              "      <td>26.537</td>\n",
              "    </tr>\n",
              "  </tbody>\n",
              "</table>\n",
              "</div>"
            ],
            "text/plain": [
              "        Salnty  STheta\n",
              "382414  33.973  26.417\n",
              "435800  33.863  26.529\n",
              "279807  33.870  26.002\n",
              "228238  34.700  26.038\n",
              "376449  34.176  26.537"
            ]
          },
          "metadata": {
            "tags": []
          },
          "execution_count": 33
        }
      ]
    },
    {
      "metadata": {
        "id": "TdJzF5AnLKCu",
        "colab_type": "code",
        "colab": {
          "base_uri": "https://localhost:8080/",
          "height": 297
        },
        "outputId": "de0ca71a-960f-4c56-ddde-3247b319734e"
      },
      "cell_type": "code",
      "source": [
        "x_train.describe()"
      ],
      "execution_count": 34,
      "outputs": [
        {
          "output_type": "execute_result",
          "data": {
            "text/html": [
              "<div>\n",
              "<style scoped>\n",
              "    .dataframe tbody tr th:only-of-type {\n",
              "        vertical-align: middle;\n",
              "    }\n",
              "\n",
              "    .dataframe tbody tr th {\n",
              "        vertical-align: top;\n",
              "    }\n",
              "\n",
              "    .dataframe thead th {\n",
              "        text-align: right;\n",
              "    }\n",
              "</style>\n",
              "<table border=\"1\" class=\"dataframe\">\n",
              "  <thead>\n",
              "    <tr style=\"text-align: right;\">\n",
              "      <th></th>\n",
              "      <th>Salnty</th>\n",
              "      <th>STheta</th>\n",
              "    </tr>\n",
              "  </thead>\n",
              "  <tbody>\n",
              "    <tr>\n",
              "      <th>count</th>\n",
              "      <td>568517.000000</td>\n",
              "      <td>568517.000000</td>\n",
              "    </tr>\n",
              "    <tr>\n",
              "      <th>mean</th>\n",
              "      <td>33.842449</td>\n",
              "      <td>25.817422</td>\n",
              "    </tr>\n",
              "    <tr>\n",
              "      <th>std</th>\n",
              "      <td>0.461425</td>\n",
              "      <td>1.007396</td>\n",
              "    </tr>\n",
              "    <tr>\n",
              "      <th>min</th>\n",
              "      <td>28.431000</td>\n",
              "      <td>20.934000</td>\n",
              "    </tr>\n",
              "    <tr>\n",
              "      <th>25%</th>\n",
              "      <td>33.490000</td>\n",
              "      <td>24.964000</td>\n",
              "    </tr>\n",
              "    <tr>\n",
              "      <th>50%</th>\n",
              "      <td>33.869600</td>\n",
              "      <td>25.997000</td>\n",
              "    </tr>\n",
              "    <tr>\n",
              "      <th>75%</th>\n",
              "      <td>34.198000</td>\n",
              "      <td>26.646000</td>\n",
              "    </tr>\n",
              "    <tr>\n",
              "      <th>max</th>\n",
              "      <td>37.034000</td>\n",
              "      <td>28.139000</td>\n",
              "    </tr>\n",
              "  </tbody>\n",
              "</table>\n",
              "</div>"
            ],
            "text/plain": [
              "              Salnty         STheta\n",
              "count  568517.000000  568517.000000\n",
              "mean       33.842449      25.817422\n",
              "std         0.461425       1.007396\n",
              "min        28.431000      20.934000\n",
              "25%        33.490000      24.964000\n",
              "50%        33.869600      25.997000\n",
              "75%        34.198000      26.646000\n",
              "max        37.034000      28.139000"
            ]
          },
          "metadata": {
            "tags": []
          },
          "execution_count": 34
        }
      ]
    },
    {
      "metadata": {
        "id": "9zbwyxrCyUxb",
        "colab_type": "text"
      },
      "cell_type": "markdown",
      "source": [
        "**Scale Train and Test Data.**"
      ]
    },
    {
      "metadata": {
        "id": "o_i1Ysm4yYQG",
        "colab_type": "code",
        "colab": {}
      },
      "cell_type": "code",
      "source": [
        "scaler_x = StandardScaler()\n",
        "scaler_x.fit(x_train)\n",
        "x_train_scaled = scaler_x.transform(x_train)\n",
        "x_test_scaled = scaler_x.transform(x_test)"
      ],
      "execution_count": 0,
      "outputs": []
    },
    {
      "metadata": {
        "id": "I3hDZ2o5j8ZW",
        "colab_type": "code",
        "colab": {
          "base_uri": "https://localhost:8080/",
          "height": 139
        },
        "outputId": "64c72791-da51-489e-898a-60b8cd4ae2df"
      },
      "cell_type": "code",
      "source": [
        "print(x_train_scaled)"
      ],
      "execution_count": 18,
      "outputs": [
        {
          "output_type": "stream",
          "text": [
            "[[ 0.28293147  0.5951765 ]\n",
            " [ 0.04453908  0.70635434]\n",
            " [ 0.0597095   0.18322288]\n",
            " ...\n",
            " [-1.09541002 -0.34983518]\n",
            " [-1.17559655 -0.51858727]\n",
            " [ 1.16498334 -1.39312013]]\n"
          ],
          "name": "stdout"
        }
      ]
    },
    {
      "metadata": {
        "id": "v4wbwAgtxPjy",
        "colab_type": "text"
      },
      "cell_type": "markdown",
      "source": [
        "## Model Generation"
      ]
    },
    {
      "metadata": {
        "id": "yYfOCg3KK8Pt",
        "colab_type": "text"
      },
      "cell_type": "markdown",
      "source": [
        "### OLS Linear Regression\n",
        "\n",
        "Use different methods to fit the model."
      ]
    },
    {
      "metadata": {
        "id": "KZWRnzPSxjaU",
        "colab_type": "text"
      },
      "cell_type": "markdown",
      "source": [
        "#### Mini-Batch Gradient Descent"
      ]
    },
    {
      "metadata": {
        "id": "q6ej3BTROrGu",
        "colab_type": "text"
      },
      "cell_type": "markdown",
      "source": [
        "**Convert train and test features to numpy array.**"
      ]
    },
    {
      "metadata": {
        "id": "oV3_6deOMDhF",
        "colab_type": "code",
        "colab": {}
      },
      "cell_type": "code",
      "source": [
        "X_b_train = np.c_[np.ones((len(x_train_scaled), 1)), x_train_scaled]\n",
        "X_b_test = np.c_[np.ones((len(x_test_scaled), 1)), x_test_scaled]\n",
        "y_train = y_train.ravel().reshape(len(y_train), 1)\n",
        "y_test = y_test.ravel().reshape(len(y_test), 1)"
      ],
      "execution_count": 0,
      "outputs": []
    },
    {
      "metadata": {
        "id": "ec_EoxZl6d5x",
        "colab_type": "text"
      },
      "cell_type": "markdown",
      "source": [
        "**Run Mini-Batch Gradient Descent with different mini-batch size.**"
      ]
    },
    {
      "metadata": {
        "id": "pmE9_NgOjMYi",
        "colab_type": "code",
        "colab": {
          "base_uri": "https://localhost:8080/",
          "height": 87
        },
        "outputId": "51a56cbc-dc05-4b86-fe9b-25452167bb07"
      },
      "cell_type": "code",
      "source": [
        "eta = 0.1\n",
        "n_epochs = 100\n",
        "minibatch_size = [50,2000,10000, len(y_train)] # Mini-batch size 50, 2000, 10000, and the last mini-batch corresponds to the full data set (a batch).\n",
        "theta = []\n",
        "\n",
        "for j, mbs in enumerate(minibatch_size): # perform mini-batch gradient descent with different mini-batch size\n",
        "    np.random.seed(42)\n",
        "    theta.append(np.random.randn(3,1))  # random initialization\n",
        "    start = time.time()\n",
        "    for epoch in range(n_epochs): # go through # epochs\n",
        "        shuffled_indices = np.random.permutation(len(y_train)) # shuffle indices\n",
        "        X_b_train_shuffled = X_b_train[shuffled_indices]\n",
        "        y_train_shuffled = y_train[shuffled_indices]\n",
        "        for i in range(0, len(y_train), mbs): # loop through mini-batches\n",
        "            xi = X_b_train_shuffled[i:i+mbs]\n",
        "            yi = y_train_shuffled[i:i+mbs]\n",
        "            gradients = 2 / mbs * xi.T.dot(xi.dot(theta[j]) - yi)\n",
        "            theta[j] = theta[j] - eta * gradients\n",
        "    end = time.time()\n",
        "    print(mbs, ' : ',end - start)"
      ],
      "execution_count": 30,
      "outputs": [
        {
          "output_type": "stream",
          "text": [
            "50  :  14.647116661071777\n",
            "2000  :  7.554504156112671\n",
            "10000  :  11.040414333343506\n",
            "568517  :  10.953172445297241\n"
          ],
          "name": "stdout"
        }
      ]
    },
    {
      "metadata": {
        "id": "95Lu2jP8hAaP",
        "colab_type": "code",
        "colab": {
          "base_uri": "https://localhost:8080/",
          "height": 174
        },
        "outputId": "282c2454-a32b-4fed-8fad-fb38700d54aa"
      },
      "cell_type": "code",
      "source": [
        "print(theta)"
      ],
      "execution_count": 21,
      "outputs": [
        {
          "output_type": "stream",
          "text": [
            "[array([[10.85263672],\n",
            "       [ 1.48535419],\n",
            "       [-5.13675932]]), array([[10.85353354],\n",
            "       [ 1.44432538],\n",
            "       [-5.06873245]]), array([[10.85144882],\n",
            "       [ 1.43867548],\n",
            "       [-5.07415867]]), array([[10.84957069],\n",
            "       [ 1.42601726],\n",
            "       [-5.06619209]])]\n"
          ],
          "name": "stdout"
        }
      ]
    },
    {
      "metadata": {
        "id": "WVZiOfkIO3AR",
        "colab_type": "text"
      },
      "cell_type": "markdown",
      "source": [
        "**Calculate predicted output.**"
      ]
    },
    {
      "metadata": {
        "id": "QWXmRvBo3HlH",
        "colab_type": "code",
        "colab": {}
      },
      "cell_type": "code",
      "source": [
        "y_predict_train = [np.dot(X_b_train,i) for i in theta]\n",
        "y_predict_test = [np.dot(X_b_test,i) for i in theta]"
      ],
      "execution_count": 0,
      "outputs": []
    },
    {
      "metadata": {
        "id": "GGIWa0N2PdPS",
        "colab_type": "text"
      },
      "cell_type": "markdown",
      "source": [
        "**Calculate RMSE, VAF, and R-squared values for train data.**"
      ]
    },
    {
      "metadata": {
        "id": "klWQk0Lu63eh",
        "colab_type": "code",
        "colab": {
          "base_uri": "https://localhost:8080/",
          "height": 367
        },
        "outputId": "91fd4007-03eb-4bae-be71-8deb94f7adbe"
      },
      "cell_type": "code",
      "source": [
        "for i, y_predict in enumerate(y_predict_train):\n",
        "    print('\\nFor mini-batch size ', minibatch_size[i], ':')\n",
        "    print('MSE_train = ', round(mean_squared_error(y_train,y_predict),4))\n",
        "    print('VAF_train = ', round(explained_variance_score(y_train,y_predict),4))\n",
        "    print('R-squared_train = ', round(r2_score(y_train,y_predict),4))"
      ],
      "execution_count": 23,
      "outputs": [
        {
          "output_type": "stream",
          "text": [
            "\n",
            "For mini-batch size  50 :\n",
            "MSE_train =  0.2352\n",
            "VAF_train =  0.9868\n",
            "R-squared_train =  0.9868\n",
            "\n",
            "For mini-batch size  2000 :\n",
            "MSE_train =  0.2333\n",
            "VAF_train =  0.9869\n",
            "R-squared_train =  0.9869\n",
            "\n",
            "For mini-batch size  10000 :\n",
            "MSE_train =  0.2331\n",
            "VAF_train =  0.9869\n",
            "R-squared_train =  0.9869\n",
            "\n",
            "For mini-batch size  568517 :\n",
            "MSE_train =  0.2331\n",
            "VAF_train =  0.9869\n",
            "R-squared_train =  0.9869\n"
          ],
          "name": "stdout"
        }
      ]
    },
    {
      "metadata": {
        "id": "U7NPdgPdVjvQ",
        "colab_type": "text"
      },
      "cell_type": "markdown",
      "source": [
        "**Calculate RMSE, VAF, and R-squared values for test data.**"
      ]
    },
    {
      "metadata": {
        "id": "fiVESglB-HXL",
        "colab_type": "code",
        "colab": {
          "base_uri": "https://localhost:8080/",
          "height": 367
        },
        "outputId": "b6fce737-939a-4871-acb5-c019479a5e38"
      },
      "cell_type": "code",
      "source": [
        "for i, y_predict in enumerate(y_predict_test):\n",
        "    print('\\nFor mini-batch size ', minibatch_size[i], ':')\n",
        "    print('MSE_test = ', round(mean_squared_error(y_test,y_predict),4))\n",
        "    print('VAF_test = ', round(explained_variance_score(y_test,y_predict),4))\n",
        "    print('R-squared_test = ', round(r2_score(y_test,y_predict),4))"
      ],
      "execution_count": 24,
      "outputs": [
        {
          "output_type": "stream",
          "text": [
            "\n",
            "For mini-batch size  50 :\n",
            "MSE_test =  0.2351\n",
            "VAF_test =  0.9868\n",
            "R-squared_test =  0.9868\n",
            "\n",
            "For mini-batch size  2000 :\n",
            "MSE_test =  0.2335\n",
            "VAF_test =  0.9869\n",
            "R-squared_test =  0.9869\n",
            "\n",
            "For mini-batch size  10000 :\n",
            "MSE_test =  0.2333\n",
            "VAF_test =  0.9869\n",
            "R-squared_test =  0.9869\n",
            "\n",
            "For mini-batch size  568517 :\n",
            "MSE_test =  0.2333\n",
            "VAF_test =  0.9869\n",
            "R-squared_test =  0.9869\n"
          ],
          "name": "stdout"
        }
      ]
    },
    {
      "metadata": {
        "id": "kalIS1nsIHt-",
        "colab_type": "text"
      },
      "cell_type": "markdown",
      "source": [
        "R-squared in both train and test data are very high (~0.987). The model fits very well."
      ]
    },
    {
      "metadata": {
        "id": "UoMXSryExll0",
        "colab_type": "text"
      },
      "cell_type": "markdown",
      "source": [
        "#### Linear Regression in SKlearn."
      ]
    },
    {
      "metadata": {
        "id": "Trw4FaG0VolW",
        "colab_type": "text"
      },
      "cell_type": "markdown",
      "source": [
        "**Fit the model and find the coefficients.**"
      ]
    },
    {
      "metadata": {
        "id": "F-d8hOCSNaZx",
        "colab_type": "code",
        "colab": {
          "base_uri": "https://localhost:8080/",
          "height": 35
        },
        "outputId": "5240a0b5-5c29-4021-da88-4386f5929212"
      },
      "cell_type": "code",
      "source": [
        "lin_reg = LinearRegression()\n",
        "lin_reg.fit(x_train_scaled, y_train)\n",
        "lin_reg.intercept_, lin_reg.coef_"
      ],
      "execution_count": 36,
      "outputs": [
        {
          "output_type": "execute_result",
          "data": {
            "text/plain": [
              "(10.849570693576448, array([ 1.43368139, -5.07385622]))"
            ]
          },
          "metadata": {
            "tags": []
          },
          "execution_count": 36
        }
      ]
    },
    {
      "metadata": {
        "id": "Yn38aCt5JkA1",
        "colab_type": "text"
      },
      "cell_type": "markdown",
      "source": [
        "The coefficients are consistent with the result from Gradient Descent."
      ]
    },
    {
      "metadata": {
        "id": "li6s3h4oVx1w",
        "colab_type": "text"
      },
      "cell_type": "markdown",
      "source": [
        "**Calculate MSE, VAF, and R-squared for both train and test data.**"
      ]
    },
    {
      "metadata": {
        "id": "8z2l0lMU4SPY",
        "colab_type": "code",
        "colab": {
          "base_uri": "https://localhost:8080/",
          "height": 125
        },
        "outputId": "8b48c8f0-3c31-4032-b56c-cc279187d425"
      },
      "cell_type": "code",
      "source": [
        "y_predict_train_skl = lin_reg.predict(x_train_scaled)\n",
        "y_predict_test_skl = lin_reg.predict(x_test)\n",
        "\n",
        "print('MSE_train = ' + str(mean_squared_error(y_train,y_predict_train_skl)))\n",
        "print('VAF_train = ' + str(explained_variance_score(y_train,y_predict_train_skl)))\n",
        "print('R-squared_train = ' + str(r2_score(y_train,y_predict_train_skl)))\n",
        "\n",
        "print('MSE_test = ' + str(mean_squared_error(y_test,y_predict_test_skl)))\n",
        "print('VAF_test = ' + str(explained_variance_score(y_test,y_predict_test_skl)))\n",
        "print('R-squared_test = ' + str(r2_score(y_test,y_predict_test_skl)))"
      ],
      "execution_count": 37,
      "outputs": [
        {
          "output_type": "stream",
          "text": [
            "MSE_train = 0.23310575113866477\n",
            "VAF_train = 0.98692852743124\n",
            "R-squared_train = 0.98692852743124\n",
            "MSE_test = 6803.034205384867\n",
            "VAF_test = 0.9509139948916274\n",
            "R-squared_test = -381.65876754595655\n"
          ],
          "name": "stdout"
        }
      ]
    },
    {
      "metadata": {
        "id": "47tbwww0IVPY",
        "colab_type": "text"
      },
      "cell_type": "markdown",
      "source": [
        "R-squared for both train and test data calculated from sklearn are the very similar to the Mini-batch gradient descent. "
      ]
    },
    {
      "metadata": {
        "id": "WlW3CcO8c0Bv",
        "colab_type": "text"
      },
      "cell_type": "markdown",
      "source": [
        "#### Linear Regression in Keras with Mini-Batch Gradient Descent."
      ]
    },
    {
      "metadata": {
        "id": "iZoQ84eudZ04",
        "colab_type": "code",
        "colab": {}
      },
      "cell_type": "code",
      "source": [
        "inputs = Input(shape=(2,))\n",
        "preds = Dense(1,activation='linear')(inputs)"
      ],
      "execution_count": 0,
      "outputs": []
    },
    {
      "metadata": {
        "id": "vOC5LAlfNYU8",
        "colab_type": "code",
        "colab": {
          "base_uri": "https://localhost:8080/",
          "height": 395
        },
        "outputId": "ff07c1a7-7f94-422d-c4cd-385269efc4ec"
      },
      "cell_type": "code",
      "source": [
        "model = Model(inputs=inputs,outputs=preds)\n",
        "sgd=SGD(lr=0.1)\n",
        "model.compile(optimizer=sgd ,loss='mse',metrics=['mse'])\n",
        "model.fit(x_train_scaled,y_train, batch_size=2000, epochs=10, shuffle=True)"
      ],
      "execution_count": 50,
      "outputs": [
        {
          "output_type": "stream",
          "text": [
            "Epoch 1/10\n",
            "568517/568517 [==============================] - 1s 2us/step - loss: 0.2332 - mean_squared_error: 0.2332\n",
            "Epoch 2/10\n",
            "568517/568517 [==============================] - 1s 2us/step - loss: 0.2332 - mean_squared_error: 0.2332\n",
            "Epoch 3/10\n",
            "568517/568517 [==============================] - 1s 2us/step - loss: 0.2332 - mean_squared_error: 0.2332\n",
            "Epoch 4/10\n",
            "568517/568517 [==============================] - 1s 2us/step - loss: 0.2332 - mean_squared_error: 0.2332\n",
            "Epoch 5/10\n",
            "568517/568517 [==============================] - 1s 2us/step - loss: 0.2332 - mean_squared_error: 0.2332\n",
            "Epoch 6/10\n",
            "568517/568517 [==============================] - 1s 2us/step - loss: 0.2332 - mean_squared_error: 0.2332\n",
            "Epoch 7/10\n",
            "568517/568517 [==============================] - 1s 2us/step - loss: 0.2332 - mean_squared_error: 0.2332\n",
            "Epoch 8/10\n",
            "568517/568517 [==============================] - 1s 2us/step - loss: 0.2332 - mean_squared_error: 0.2332\n",
            "Epoch 9/10\n",
            "568517/568517 [==============================] - 1s 2us/step - loss: 0.2332 - mean_squared_error: 0.2332\n",
            "Epoch 10/10\n",
            "568517/568517 [==============================] - 1s 2us/step - loss: 0.2332 - mean_squared_error: 0.2332\n"
          ],
          "name": "stdout"
        },
        {
          "output_type": "execute_result",
          "data": {
            "text/plain": [
              "<keras.callbacks.History at 0x7f318167b550>"
            ]
          },
          "metadata": {
            "tags": []
          },
          "execution_count": 50
        }
      ]
    },
    {
      "metadata": {
        "id": "zGVq1TS3rTrB",
        "colab_type": "code",
        "colab": {
          "base_uri": "https://localhost:8080/",
          "height": 53
        },
        "outputId": "b9afbdf9-5f3a-44b9-c111-b486e998900b"
      },
      "cell_type": "code",
      "source": [
        "model.get_weights()"
      ],
      "execution_count": 56,
      "outputs": [
        {
          "output_type": "execute_result",
          "data": {
            "text/plain": [
              "[array([[ 1.4438694],\n",
              "        [-5.069784 ]], dtype=float32), array([10.84973], dtype=float32)]"
            ]
          },
          "metadata": {
            "tags": []
          },
          "execution_count": 56
        }
      ]
    },
    {
      "metadata": {
        "id": "m6oVlYA445Mt",
        "colab_type": "code",
        "colab": {}
      },
      "cell_type": "code",
      "source": [
        "y_predict_train_keras = model.predict(x_train_scaled)\n",
        "y_predict_test_keras = model.predict(x_test_scaled)"
      ],
      "execution_count": 0,
      "outputs": []
    },
    {
      "metadata": {
        "id": "eVilvrgqc5qV",
        "colab_type": "code",
        "colab": {
          "base_uri": "https://localhost:8080/",
          "height": 125
        },
        "outputId": "e18ee35c-7455-4f22-8e0d-d51a4b28eba6"
      },
      "cell_type": "code",
      "source": [
        "print('MSE_train = ' + str(mean_squared_error(y_train,y_predict_train_keras)))\n",
        "print('VAF_train = ' + str(explained_variance_score(y_train,y_predict_train_keras)))\n",
        "print('R-squared_train = ' + str(r2_score(y_train,y_predict_train_keras)))\n",
        "\n",
        "print('MSE_test = ' + str(mean_squared_error(y_test,y_predict_test_keras)))\n",
        "print('VAF_test = ' + str(explained_variance_score(y_test,y_predict_test_keras)))\n",
        "print('R-squared_test = ' + str(r2_score(y_test,y_predict_test_keras)))"
      ],
      "execution_count": 49,
      "outputs": [
        {
          "output_type": "stream",
          "text": [
            "MSE_train = 0.23333858543128888\n",
            "VAF_train = 0.986917192415427\n",
            "R-squared_train = 0.9869154711807862\n",
            "MSE_test = 0.2335509790786688\n",
            "VAF_test = 0.9868653310934342\n",
            "R-squared_test = 0.9868631661821347\n"
          ],
          "name": "stdout"
        }
      ]
    },
    {
      "metadata": {
        "id": "gcKFOOQQ57Q6",
        "colab_type": "text"
      },
      "cell_type": "markdown",
      "source": [
        "#### Summary"
      ]
    },
    {
      "metadata": {
        "id": "nTbIWgam63Sz",
        "colab_type": "text"
      },
      "cell_type": "markdown",
      "source": [
        ""
      ]
    },
    {
      "metadata": {
        "id": "rS82Ncp3bQQx",
        "colab_type": "text"
      },
      "cell_type": "markdown",
      "source": [
        "## Export file"
      ]
    },
    {
      "metadata": {
        "id": "Iu3UAFmFNE72",
        "colab_type": "code",
        "colab": {
          "base_uri": "https://localhost:8080/",
          "height": 52
        },
        "outputId": "8638cc82-830c-47c9-c044-910f2994fa53"
      },
      "cell_type": "code",
      "source": [
        "!jupyter nbconvert --to html '/content/gdrive/My Drive/Colab Notebooks/MLAssignment2.ipynb'"
      ],
      "execution_count": 49,
      "outputs": [
        {
          "output_type": "stream",
          "text": [
            "[NbConvertApp] Converting notebook /content/gdrive/My Drive/Colab Notebooks/MLAssignment2.ipynb to html\n",
            "[NbConvertApp] Writing 413651 bytes to /content/gdrive/My Drive/Colab Notebooks/MLAssignment2.html\n"
          ],
          "name": "stdout"
        }
      ]
    }
  ]
}