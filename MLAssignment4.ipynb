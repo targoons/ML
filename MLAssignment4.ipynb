{
  "nbformat": 4,
  "nbformat_minor": 0,
  "metadata": {
    "colab": {
      "name": "MLAssignment4.ipynb",
      "version": "0.3.2",
      "provenance": [],
      "collapsed_sections": [],
      "include_colab_link": true
    },
    "kernelspec": {
      "name": "python3",
      "display_name": "Python 3"
    }
  },
  "cells": [
    {
      "cell_type": "markdown",
      "metadata": {
        "id": "view-in-github",
        "colab_type": "text"
      },
      "source": [
        "<a href=\"https://colab.research.google.com/github/targoons/ML/blob/master/MLAssignment4.ipynb\" target=\"_parent\"><img src=\"https://colab.research.google.com/assets/colab-badge.svg\" alt=\"Open In Colab\"/></a>"
      ]
    },
    {
      "cell_type": "markdown",
      "metadata": {
        "id": "abJ8gJu4dE0t",
        "colab_type": "text"
      },
      "source": [
        "# MsCA 31009 - Machine Learning and Predictive Analytics\n",
        "\n",
        "## Assignment 4 - Random Forest and Binary Classification\n",
        "\n",
        "**Targoon Siripanichpong**"
      ]
    },
    {
      "cell_type": "markdown",
      "metadata": {
        "id": "07AdlzCZvP7-",
        "colab_type": "text"
      },
      "source": [
        "## Import files and libraries."
      ]
    },
    {
      "cell_type": "code",
      "metadata": {
        "id": "qNqqyIW8My7m",
        "colab_type": "code",
        "outputId": "221880a4-0182-4562-cf72-3194b17b992a",
        "colab": {
          "base_uri": "https://localhost:8080/",
          "height": 35
        }
      },
      "source": [
        "!pip3 install xlrd"
      ],
      "execution_count": 0,
      "outputs": [
        {
          "output_type": "stream",
          "text": [
            "Requirement already satisfied: xlrd in /usr/local/lib/python3.6/dist-packages (1.1.0)\n"
          ],
          "name": "stdout"
        }
      ]
    },
    {
      "cell_type": "code",
      "metadata": {
        "id": "Y1LX4wIf40NN",
        "colab_type": "code",
        "colab": {}
      },
      "source": [
        "import pandas as pd\n",
        "import numpy as np\n",
        "\n",
        "\n",
        "from sklearn.preprocessing import OneHotEncoder\n",
        "from sklearn.metrics import confusion_matrix, accuracy_score, roc_auc_score, classification_report\n",
        "from sklearn.preprocessing import StandardScaler, scale\n",
        "from sklearn.model_selection import train_test_split\n",
        "from sklearn.ensemble import RandomForestClassifier\n",
        "from sklearn.model_selection import GridSearchCV\n",
        "\n",
        "from matplotlib import pyplot as plt\n",
        "\n",
        "import pickle"
      ],
      "execution_count": 0,
      "outputs": []
    },
    {
      "cell_type": "markdown",
      "metadata": {
        "id": "81olCOil4fX9",
        "colab_type": "text"
      },
      "source": [
        "**Mount Google Drive.**"
      ]
    },
    {
      "cell_type": "code",
      "metadata": {
        "id": "jNxq9EGN1K-x",
        "colab_type": "code",
        "outputId": "bc7f3b6e-4e10-458d-e645-b05e9b413d1e",
        "colab": {
          "base_uri": "https://localhost:8080/",
          "height": 126
        }
      },
      "source": [
        "from google.colab import drive\n",
        "drive.mount('/content/gdrive')"
      ],
      "execution_count": 0,
      "outputs": [
        {
          "output_type": "stream",
          "text": [
            "Go to this URL in a browser: https://accounts.google.com/o/oauth2/auth?client_id=947318989803-6bn6qk8qdgf4n4g3pfee6491hc0brc4i.apps.googleusercontent.com&redirect_uri=urn%3Aietf%3Awg%3Aoauth%3A2.0%3Aoob&scope=email%20https%3A%2F%2Fwww.googleapis.com%2Fauth%2Fdocs.test%20https%3A%2F%2Fwww.googleapis.com%2Fauth%2Fdrive%20https%3A%2F%2Fwww.googleapis.com%2Fauth%2Fdrive.photos.readonly%20https%3A%2F%2Fwww.googleapis.com%2Fauth%2Fpeopleapi.readonly&response_type=code\n",
            "\n",
            "Enter your authorization code:\n",
            "··········\n",
            "Mounted at /content/gdrive\n"
          ],
          "name": "stdout"
        }
      ]
    },
    {
      "cell_type": "markdown",
      "metadata": {
        "id": "q8krOKh04jgz",
        "colab_type": "text"
      },
      "source": [
        "**Read data.**"
      ]
    },
    {
      "cell_type": "code",
      "metadata": {
        "id": "8UzvEF_u57wM",
        "colab_type": "code",
        "outputId": "25abcfa3-f5e6-41d5-99b7-a53caa31a4fc",
        "colab": {
          "base_uri": "https://localhost:8080/",
          "height": 106
        }
      },
      "source": [
        "mypath = '/content/gdrive/My Drive/UChicago/Machine Learning/Data/Raw'\n",
        "import os\n",
        "os.listdir(mypath)"
      ],
      "execution_count": 0,
      "outputs": [
        {
          "output_type": "execute_result",
          "data": {
            "text/plain": [
              "['default of credit card clients.xls',\n",
              " 'train.csv.zip',\n",
              " 'toxic_train.csv',\n",
              " 'ProviderInfo.csv',\n",
              " 'bottle.csv']"
            ]
          },
          "metadata": {
            "tags": []
          },
          "execution_count": 4
        }
      ]
    },
    {
      "cell_type": "code",
      "metadata": {
        "id": "KxNDXLI32W2D",
        "colab_type": "code",
        "colab": {}
      },
      "source": [
        "credit_default = pd.read_excel('/content/gdrive/My Drive/UChicago/Machine Learning/Data/Raw/default of credit card clients.xls')"
      ],
      "execution_count": 0,
      "outputs": []
    },
    {
      "cell_type": "markdown",
      "metadata": {
        "id": "X01706nU2ZKZ",
        "colab_type": "text"
      },
      "source": [
        "## Data Exploration and Pre-Processing"
      ]
    },
    {
      "cell_type": "code",
      "metadata": {
        "id": "EEr-AesYK9Cc",
        "colab_type": "code",
        "outputId": "5de76cb5-25ee-4758-d77b-c05911d05aac",
        "colab": {
          "base_uri": "https://localhost:8080/",
          "height": 230
        }
      },
      "source": [
        "credit_default.head()"
      ],
      "execution_count": 0,
      "outputs": [
        {
          "output_type": "execute_result",
          "data": {
            "text/html": [
              "<div>\n",
              "<style scoped>\n",
              "    .dataframe tbody tr th:only-of-type {\n",
              "        vertical-align: middle;\n",
              "    }\n",
              "\n",
              "    .dataframe tbody tr th {\n",
              "        vertical-align: top;\n",
              "    }\n",
              "\n",
              "    .dataframe thead th {\n",
              "        text-align: right;\n",
              "    }\n",
              "</style>\n",
              "<table border=\"1\" class=\"dataframe\">\n",
              "  <thead>\n",
              "    <tr style=\"text-align: right;\">\n",
              "      <th></th>\n",
              "      <th>LIMIT_BAL</th>\n",
              "      <th>SEX</th>\n",
              "      <th>EDUCATION</th>\n",
              "      <th>MARRIAGE</th>\n",
              "      <th>AGE</th>\n",
              "      <th>PAY_0</th>\n",
              "      <th>PAY_2</th>\n",
              "      <th>PAY_3</th>\n",
              "      <th>PAY_4</th>\n",
              "      <th>PAY_5</th>\n",
              "      <th>...</th>\n",
              "      <th>BILL_AMT4</th>\n",
              "      <th>BILL_AMT5</th>\n",
              "      <th>BILL_AMT6</th>\n",
              "      <th>PAY_AMT1</th>\n",
              "      <th>PAY_AMT2</th>\n",
              "      <th>PAY_AMT3</th>\n",
              "      <th>PAY_AMT4</th>\n",
              "      <th>PAY_AMT5</th>\n",
              "      <th>PAY_AMT6</th>\n",
              "      <th>default payment next month</th>\n",
              "    </tr>\n",
              "  </thead>\n",
              "  <tbody>\n",
              "    <tr>\n",
              "      <th>1</th>\n",
              "      <td>20000</td>\n",
              "      <td>2</td>\n",
              "      <td>2</td>\n",
              "      <td>1</td>\n",
              "      <td>24</td>\n",
              "      <td>2</td>\n",
              "      <td>2</td>\n",
              "      <td>-1</td>\n",
              "      <td>-1</td>\n",
              "      <td>-2</td>\n",
              "      <td>...</td>\n",
              "      <td>0</td>\n",
              "      <td>0</td>\n",
              "      <td>0</td>\n",
              "      <td>0</td>\n",
              "      <td>689</td>\n",
              "      <td>0</td>\n",
              "      <td>0</td>\n",
              "      <td>0</td>\n",
              "      <td>0</td>\n",
              "      <td>1</td>\n",
              "    </tr>\n",
              "    <tr>\n",
              "      <th>2</th>\n",
              "      <td>120000</td>\n",
              "      <td>2</td>\n",
              "      <td>2</td>\n",
              "      <td>2</td>\n",
              "      <td>26</td>\n",
              "      <td>-1</td>\n",
              "      <td>2</td>\n",
              "      <td>0</td>\n",
              "      <td>0</td>\n",
              "      <td>0</td>\n",
              "      <td>...</td>\n",
              "      <td>3272</td>\n",
              "      <td>3455</td>\n",
              "      <td>3261</td>\n",
              "      <td>0</td>\n",
              "      <td>1000</td>\n",
              "      <td>1000</td>\n",
              "      <td>1000</td>\n",
              "      <td>0</td>\n",
              "      <td>2000</td>\n",
              "      <td>1</td>\n",
              "    </tr>\n",
              "    <tr>\n",
              "      <th>3</th>\n",
              "      <td>90000</td>\n",
              "      <td>2</td>\n",
              "      <td>2</td>\n",
              "      <td>2</td>\n",
              "      <td>34</td>\n",
              "      <td>0</td>\n",
              "      <td>0</td>\n",
              "      <td>0</td>\n",
              "      <td>0</td>\n",
              "      <td>0</td>\n",
              "      <td>...</td>\n",
              "      <td>14331</td>\n",
              "      <td>14948</td>\n",
              "      <td>15549</td>\n",
              "      <td>1518</td>\n",
              "      <td>1500</td>\n",
              "      <td>1000</td>\n",
              "      <td>1000</td>\n",
              "      <td>1000</td>\n",
              "      <td>5000</td>\n",
              "      <td>0</td>\n",
              "    </tr>\n",
              "    <tr>\n",
              "      <th>4</th>\n",
              "      <td>50000</td>\n",
              "      <td>2</td>\n",
              "      <td>2</td>\n",
              "      <td>1</td>\n",
              "      <td>37</td>\n",
              "      <td>0</td>\n",
              "      <td>0</td>\n",
              "      <td>0</td>\n",
              "      <td>0</td>\n",
              "      <td>0</td>\n",
              "      <td>...</td>\n",
              "      <td>28314</td>\n",
              "      <td>28959</td>\n",
              "      <td>29547</td>\n",
              "      <td>2000</td>\n",
              "      <td>2019</td>\n",
              "      <td>1200</td>\n",
              "      <td>1100</td>\n",
              "      <td>1069</td>\n",
              "      <td>1000</td>\n",
              "      <td>0</td>\n",
              "    </tr>\n",
              "    <tr>\n",
              "      <th>5</th>\n",
              "      <td>50000</td>\n",
              "      <td>1</td>\n",
              "      <td>2</td>\n",
              "      <td>1</td>\n",
              "      <td>57</td>\n",
              "      <td>-1</td>\n",
              "      <td>0</td>\n",
              "      <td>-1</td>\n",
              "      <td>0</td>\n",
              "      <td>0</td>\n",
              "      <td>...</td>\n",
              "      <td>20940</td>\n",
              "      <td>19146</td>\n",
              "      <td>19131</td>\n",
              "      <td>2000</td>\n",
              "      <td>36681</td>\n",
              "      <td>10000</td>\n",
              "      <td>9000</td>\n",
              "      <td>689</td>\n",
              "      <td>679</td>\n",
              "      <td>0</td>\n",
              "    </tr>\n",
              "  </tbody>\n",
              "</table>\n",
              "<p>5 rows × 24 columns</p>\n",
              "</div>"
            ],
            "text/plain": [
              "   LIMIT_BAL  SEX  EDUCATION  MARRIAGE  AGE  PAY_0  PAY_2  PAY_3  PAY_4  \\\n",
              "1      20000    2          2         1   24      2      2     -1     -1   \n",
              "2     120000    2          2         2   26     -1      2      0      0   \n",
              "3      90000    2          2         2   34      0      0      0      0   \n",
              "4      50000    2          2         1   37      0      0      0      0   \n",
              "5      50000    1          2         1   57     -1      0     -1      0   \n",
              "\n",
              "   PAY_5             ...              BILL_AMT4  BILL_AMT5  BILL_AMT6  \\\n",
              "1     -2             ...                      0          0          0   \n",
              "2      0             ...                   3272       3455       3261   \n",
              "3      0             ...                  14331      14948      15549   \n",
              "4      0             ...                  28314      28959      29547   \n",
              "5      0             ...                  20940      19146      19131   \n",
              "\n",
              "   PAY_AMT1  PAY_AMT2  PAY_AMT3  PAY_AMT4  PAY_AMT5  PAY_AMT6  \\\n",
              "1         0       689         0         0         0         0   \n",
              "2         0      1000      1000      1000         0      2000   \n",
              "3      1518      1500      1000      1000      1000      5000   \n",
              "4      2000      2019      1200      1100      1069      1000   \n",
              "5      2000     36681     10000      9000       689       679   \n",
              "\n",
              "   default payment next month  \n",
              "1                           1  \n",
              "2                           1  \n",
              "3                           0  \n",
              "4                           0  \n",
              "5                           0  \n",
              "\n",
              "[5 rows x 24 columns]"
            ]
          },
          "metadata": {
            "tags": []
          },
          "execution_count": 6
        }
      ]
    },
    {
      "cell_type": "code",
      "metadata": {
        "id": "IcqLgO_ELDQH",
        "colab_type": "code",
        "outputId": "5d7ca9c0-cb42-4b0b-91af-e4fc8a455876",
        "colab": {
          "base_uri": "https://localhost:8080/",
          "height": 35
        }
      },
      "source": [
        "credit_default.shape"
      ],
      "execution_count": 0,
      "outputs": [
        {
          "output_type": "execute_result",
          "data": {
            "text/plain": [
              "(30000, 24)"
            ]
          },
          "metadata": {
            "tags": []
          },
          "execution_count": 7
        }
      ]
    },
    {
      "cell_type": "code",
      "metadata": {
        "id": "Chm7cSoCWPpZ",
        "colab_type": "code",
        "colab": {}
      },
      "source": [
        "credit_default['SEX'] = credit_default['SEX'].astype('category')\n",
        "credit_default['EDUCATION'] = credit_default['EDUCATION'].astype('category')\n",
        "credit_default['MARRIAGE'] = credit_default['MARRIAGE'].astype('category')\n",
        "credit_default['default payment next month'] = credit_default['default payment next month'].astype('category')"
      ],
      "execution_count": 0,
      "outputs": []
    },
    {
      "cell_type": "code",
      "metadata": {
        "id": "RfOHedu2NEP7",
        "colab_type": "code",
        "outputId": "b99965e4-2cd5-449c-ca96-0bdf5a196601",
        "colab": {
          "base_uri": "https://localhost:8080/",
          "height": 461
        }
      },
      "source": [
        "credit_default.dtypes"
      ],
      "execution_count": 0,
      "outputs": [
        {
          "output_type": "execute_result",
          "data": {
            "text/plain": [
              "LIMIT_BAL                        int64\n",
              "SEX                           category\n",
              "EDUCATION                     category\n",
              "MARRIAGE                      category\n",
              "AGE                              int64\n",
              "PAY_0                            int64\n",
              "PAY_2                            int64\n",
              "PAY_3                            int64\n",
              "PAY_4                            int64\n",
              "PAY_5                            int64\n",
              "PAY_6                            int64\n",
              "BILL_AMT1                        int64\n",
              "BILL_AMT2                        int64\n",
              "BILL_AMT3                        int64\n",
              "BILL_AMT4                        int64\n",
              "BILL_AMT5                        int64\n",
              "BILL_AMT6                        int64\n",
              "PAY_AMT1                         int64\n",
              "PAY_AMT2                         int64\n",
              "PAY_AMT3                         int64\n",
              "PAY_AMT4                         int64\n",
              "PAY_AMT5                         int64\n",
              "PAY_AMT6                         int64\n",
              "default payment next month    category\n",
              "dtype: object"
            ]
          },
          "metadata": {
            "tags": []
          },
          "execution_count": 9
        }
      ]
    },
    {
      "cell_type": "code",
      "metadata": {
        "id": "FHCz2HKRDjMD",
        "colab_type": "code",
        "outputId": "16ff9410-0c8a-4088-a164-f266a7ed1a7c",
        "colab": {
          "base_uri": "https://localhost:8080/",
          "height": 485
        }
      },
      "source": [
        "credit_default.describe(include= 'all')"
      ],
      "execution_count": 0,
      "outputs": [
        {
          "output_type": "execute_result",
          "data": {
            "text/html": [
              "<div>\n",
              "<style scoped>\n",
              "    .dataframe tbody tr th:only-of-type {\n",
              "        vertical-align: middle;\n",
              "    }\n",
              "\n",
              "    .dataframe tbody tr th {\n",
              "        vertical-align: top;\n",
              "    }\n",
              "\n",
              "    .dataframe thead th {\n",
              "        text-align: right;\n",
              "    }\n",
              "</style>\n",
              "<table border=\"1\" class=\"dataframe\">\n",
              "  <thead>\n",
              "    <tr style=\"text-align: right;\">\n",
              "      <th></th>\n",
              "      <th>LIMIT_BAL</th>\n",
              "      <th>SEX</th>\n",
              "      <th>EDUCATION</th>\n",
              "      <th>MARRIAGE</th>\n",
              "      <th>AGE</th>\n",
              "      <th>PAY_0</th>\n",
              "      <th>PAY_2</th>\n",
              "      <th>PAY_3</th>\n",
              "      <th>PAY_4</th>\n",
              "      <th>PAY_5</th>\n",
              "      <th>...</th>\n",
              "      <th>BILL_AMT4</th>\n",
              "      <th>BILL_AMT5</th>\n",
              "      <th>BILL_AMT6</th>\n",
              "      <th>PAY_AMT1</th>\n",
              "      <th>PAY_AMT2</th>\n",
              "      <th>PAY_AMT3</th>\n",
              "      <th>PAY_AMT4</th>\n",
              "      <th>PAY_AMT5</th>\n",
              "      <th>PAY_AMT6</th>\n",
              "      <th>default payment next month</th>\n",
              "    </tr>\n",
              "  </thead>\n",
              "  <tbody>\n",
              "    <tr>\n",
              "      <th>count</th>\n",
              "      <td>30000.000000</td>\n",
              "      <td>30000.0</td>\n",
              "      <td>30000.0</td>\n",
              "      <td>30000.0</td>\n",
              "      <td>30000.000000</td>\n",
              "      <td>30000.000000</td>\n",
              "      <td>30000.000000</td>\n",
              "      <td>30000.000000</td>\n",
              "      <td>30000.000000</td>\n",
              "      <td>30000.000000</td>\n",
              "      <td>...</td>\n",
              "      <td>30000.000000</td>\n",
              "      <td>30000.000000</td>\n",
              "      <td>30000.000000</td>\n",
              "      <td>30000.000000</td>\n",
              "      <td>3.000000e+04</td>\n",
              "      <td>30000.00000</td>\n",
              "      <td>30000.000000</td>\n",
              "      <td>30000.000000</td>\n",
              "      <td>30000.000000</td>\n",
              "      <td>30000.0</td>\n",
              "    </tr>\n",
              "    <tr>\n",
              "      <th>unique</th>\n",
              "      <td>NaN</td>\n",
              "      <td>2.0</td>\n",
              "      <td>7.0</td>\n",
              "      <td>4.0</td>\n",
              "      <td>NaN</td>\n",
              "      <td>NaN</td>\n",
              "      <td>NaN</td>\n",
              "      <td>NaN</td>\n",
              "      <td>NaN</td>\n",
              "      <td>NaN</td>\n",
              "      <td>...</td>\n",
              "      <td>NaN</td>\n",
              "      <td>NaN</td>\n",
              "      <td>NaN</td>\n",
              "      <td>NaN</td>\n",
              "      <td>NaN</td>\n",
              "      <td>NaN</td>\n",
              "      <td>NaN</td>\n",
              "      <td>NaN</td>\n",
              "      <td>NaN</td>\n",
              "      <td>2.0</td>\n",
              "    </tr>\n",
              "    <tr>\n",
              "      <th>top</th>\n",
              "      <td>NaN</td>\n",
              "      <td>2.0</td>\n",
              "      <td>2.0</td>\n",
              "      <td>2.0</td>\n",
              "      <td>NaN</td>\n",
              "      <td>NaN</td>\n",
              "      <td>NaN</td>\n",
              "      <td>NaN</td>\n",
              "      <td>NaN</td>\n",
              "      <td>NaN</td>\n",
              "      <td>...</td>\n",
              "      <td>NaN</td>\n",
              "      <td>NaN</td>\n",
              "      <td>NaN</td>\n",
              "      <td>NaN</td>\n",
              "      <td>NaN</td>\n",
              "      <td>NaN</td>\n",
              "      <td>NaN</td>\n",
              "      <td>NaN</td>\n",
              "      <td>NaN</td>\n",
              "      <td>0.0</td>\n",
              "    </tr>\n",
              "    <tr>\n",
              "      <th>freq</th>\n",
              "      <td>NaN</td>\n",
              "      <td>18112.0</td>\n",
              "      <td>14030.0</td>\n",
              "      <td>15964.0</td>\n",
              "      <td>NaN</td>\n",
              "      <td>NaN</td>\n",
              "      <td>NaN</td>\n",
              "      <td>NaN</td>\n",
              "      <td>NaN</td>\n",
              "      <td>NaN</td>\n",
              "      <td>...</td>\n",
              "      <td>NaN</td>\n",
              "      <td>NaN</td>\n",
              "      <td>NaN</td>\n",
              "      <td>NaN</td>\n",
              "      <td>NaN</td>\n",
              "      <td>NaN</td>\n",
              "      <td>NaN</td>\n",
              "      <td>NaN</td>\n",
              "      <td>NaN</td>\n",
              "      <td>23364.0</td>\n",
              "    </tr>\n",
              "    <tr>\n",
              "      <th>mean</th>\n",
              "      <td>167484.322667</td>\n",
              "      <td>NaN</td>\n",
              "      <td>NaN</td>\n",
              "      <td>NaN</td>\n",
              "      <td>35.485500</td>\n",
              "      <td>-0.016700</td>\n",
              "      <td>-0.133767</td>\n",
              "      <td>-0.166200</td>\n",
              "      <td>-0.220667</td>\n",
              "      <td>-0.266200</td>\n",
              "      <td>...</td>\n",
              "      <td>43262.948967</td>\n",
              "      <td>40311.400967</td>\n",
              "      <td>38871.760400</td>\n",
              "      <td>5663.580500</td>\n",
              "      <td>5.921163e+03</td>\n",
              "      <td>5225.68150</td>\n",
              "      <td>4826.076867</td>\n",
              "      <td>4799.387633</td>\n",
              "      <td>5215.502567</td>\n",
              "      <td>NaN</td>\n",
              "    </tr>\n",
              "    <tr>\n",
              "      <th>std</th>\n",
              "      <td>129747.661567</td>\n",
              "      <td>NaN</td>\n",
              "      <td>NaN</td>\n",
              "      <td>NaN</td>\n",
              "      <td>9.217904</td>\n",
              "      <td>1.123802</td>\n",
              "      <td>1.197186</td>\n",
              "      <td>1.196868</td>\n",
              "      <td>1.169139</td>\n",
              "      <td>1.133187</td>\n",
              "      <td>...</td>\n",
              "      <td>64332.856134</td>\n",
              "      <td>60797.155770</td>\n",
              "      <td>59554.107537</td>\n",
              "      <td>16563.280354</td>\n",
              "      <td>2.304087e+04</td>\n",
              "      <td>17606.96147</td>\n",
              "      <td>15666.159744</td>\n",
              "      <td>15278.305679</td>\n",
              "      <td>17777.465775</td>\n",
              "      <td>NaN</td>\n",
              "    </tr>\n",
              "    <tr>\n",
              "      <th>min</th>\n",
              "      <td>10000.000000</td>\n",
              "      <td>NaN</td>\n",
              "      <td>NaN</td>\n",
              "      <td>NaN</td>\n",
              "      <td>21.000000</td>\n",
              "      <td>-2.000000</td>\n",
              "      <td>-2.000000</td>\n",
              "      <td>-2.000000</td>\n",
              "      <td>-2.000000</td>\n",
              "      <td>-2.000000</td>\n",
              "      <td>...</td>\n",
              "      <td>-170000.000000</td>\n",
              "      <td>-81334.000000</td>\n",
              "      <td>-339603.000000</td>\n",
              "      <td>0.000000</td>\n",
              "      <td>0.000000e+00</td>\n",
              "      <td>0.00000</td>\n",
              "      <td>0.000000</td>\n",
              "      <td>0.000000</td>\n",
              "      <td>0.000000</td>\n",
              "      <td>NaN</td>\n",
              "    </tr>\n",
              "    <tr>\n",
              "      <th>25%</th>\n",
              "      <td>50000.000000</td>\n",
              "      <td>NaN</td>\n",
              "      <td>NaN</td>\n",
              "      <td>NaN</td>\n",
              "      <td>28.000000</td>\n",
              "      <td>-1.000000</td>\n",
              "      <td>-1.000000</td>\n",
              "      <td>-1.000000</td>\n",
              "      <td>-1.000000</td>\n",
              "      <td>-1.000000</td>\n",
              "      <td>...</td>\n",
              "      <td>2326.750000</td>\n",
              "      <td>1763.000000</td>\n",
              "      <td>1256.000000</td>\n",
              "      <td>1000.000000</td>\n",
              "      <td>8.330000e+02</td>\n",
              "      <td>390.00000</td>\n",
              "      <td>296.000000</td>\n",
              "      <td>252.500000</td>\n",
              "      <td>117.750000</td>\n",
              "      <td>NaN</td>\n",
              "    </tr>\n",
              "    <tr>\n",
              "      <th>50%</th>\n",
              "      <td>140000.000000</td>\n",
              "      <td>NaN</td>\n",
              "      <td>NaN</td>\n",
              "      <td>NaN</td>\n",
              "      <td>34.000000</td>\n",
              "      <td>0.000000</td>\n",
              "      <td>0.000000</td>\n",
              "      <td>0.000000</td>\n",
              "      <td>0.000000</td>\n",
              "      <td>0.000000</td>\n",
              "      <td>...</td>\n",
              "      <td>19052.000000</td>\n",
              "      <td>18104.500000</td>\n",
              "      <td>17071.000000</td>\n",
              "      <td>2100.000000</td>\n",
              "      <td>2.009000e+03</td>\n",
              "      <td>1800.00000</td>\n",
              "      <td>1500.000000</td>\n",
              "      <td>1500.000000</td>\n",
              "      <td>1500.000000</td>\n",
              "      <td>NaN</td>\n",
              "    </tr>\n",
              "    <tr>\n",
              "      <th>75%</th>\n",
              "      <td>240000.000000</td>\n",
              "      <td>NaN</td>\n",
              "      <td>NaN</td>\n",
              "      <td>NaN</td>\n",
              "      <td>41.000000</td>\n",
              "      <td>0.000000</td>\n",
              "      <td>0.000000</td>\n",
              "      <td>0.000000</td>\n",
              "      <td>0.000000</td>\n",
              "      <td>0.000000</td>\n",
              "      <td>...</td>\n",
              "      <td>54506.000000</td>\n",
              "      <td>50190.500000</td>\n",
              "      <td>49198.250000</td>\n",
              "      <td>5006.000000</td>\n",
              "      <td>5.000000e+03</td>\n",
              "      <td>4505.00000</td>\n",
              "      <td>4013.250000</td>\n",
              "      <td>4031.500000</td>\n",
              "      <td>4000.000000</td>\n",
              "      <td>NaN</td>\n",
              "    </tr>\n",
              "    <tr>\n",
              "      <th>max</th>\n",
              "      <td>1000000.000000</td>\n",
              "      <td>NaN</td>\n",
              "      <td>NaN</td>\n",
              "      <td>NaN</td>\n",
              "      <td>79.000000</td>\n",
              "      <td>8.000000</td>\n",
              "      <td>8.000000</td>\n",
              "      <td>8.000000</td>\n",
              "      <td>8.000000</td>\n",
              "      <td>8.000000</td>\n",
              "      <td>...</td>\n",
              "      <td>891586.000000</td>\n",
              "      <td>927171.000000</td>\n",
              "      <td>961664.000000</td>\n",
              "      <td>873552.000000</td>\n",
              "      <td>1.684259e+06</td>\n",
              "      <td>896040.00000</td>\n",
              "      <td>621000.000000</td>\n",
              "      <td>426529.000000</td>\n",
              "      <td>528666.000000</td>\n",
              "      <td>NaN</td>\n",
              "    </tr>\n",
              "  </tbody>\n",
              "</table>\n",
              "<p>11 rows × 24 columns</p>\n",
              "</div>"
            ],
            "text/plain": [
              "             LIMIT_BAL      SEX  EDUCATION  MARRIAGE           AGE  \\\n",
              "count     30000.000000  30000.0    30000.0   30000.0  30000.000000   \n",
              "unique             NaN      2.0        7.0       4.0           NaN   \n",
              "top                NaN      2.0        2.0       2.0           NaN   \n",
              "freq               NaN  18112.0    14030.0   15964.0           NaN   \n",
              "mean     167484.322667      NaN        NaN       NaN     35.485500   \n",
              "std      129747.661567      NaN        NaN       NaN      9.217904   \n",
              "min       10000.000000      NaN        NaN       NaN     21.000000   \n",
              "25%       50000.000000      NaN        NaN       NaN     28.000000   \n",
              "50%      140000.000000      NaN        NaN       NaN     34.000000   \n",
              "75%      240000.000000      NaN        NaN       NaN     41.000000   \n",
              "max     1000000.000000      NaN        NaN       NaN     79.000000   \n",
              "\n",
              "               PAY_0         PAY_2         PAY_3         PAY_4         PAY_5  \\\n",
              "count   30000.000000  30000.000000  30000.000000  30000.000000  30000.000000   \n",
              "unique           NaN           NaN           NaN           NaN           NaN   \n",
              "top              NaN           NaN           NaN           NaN           NaN   \n",
              "freq             NaN           NaN           NaN           NaN           NaN   \n",
              "mean       -0.016700     -0.133767     -0.166200     -0.220667     -0.266200   \n",
              "std         1.123802      1.197186      1.196868      1.169139      1.133187   \n",
              "min        -2.000000     -2.000000     -2.000000     -2.000000     -2.000000   \n",
              "25%        -1.000000     -1.000000     -1.000000     -1.000000     -1.000000   \n",
              "50%         0.000000      0.000000      0.000000      0.000000      0.000000   \n",
              "75%         0.000000      0.000000      0.000000      0.000000      0.000000   \n",
              "max         8.000000      8.000000      8.000000      8.000000      8.000000   \n",
              "\n",
              "                   ...                  BILL_AMT4      BILL_AMT5  \\\n",
              "count              ...               30000.000000   30000.000000   \n",
              "unique             ...                        NaN            NaN   \n",
              "top                ...                        NaN            NaN   \n",
              "freq               ...                        NaN            NaN   \n",
              "mean               ...               43262.948967   40311.400967   \n",
              "std                ...               64332.856134   60797.155770   \n",
              "min                ...             -170000.000000  -81334.000000   \n",
              "25%                ...                2326.750000    1763.000000   \n",
              "50%                ...               19052.000000   18104.500000   \n",
              "75%                ...               54506.000000   50190.500000   \n",
              "max                ...              891586.000000  927171.000000   \n",
              "\n",
              "            BILL_AMT6       PAY_AMT1      PAY_AMT2      PAY_AMT3  \\\n",
              "count    30000.000000   30000.000000  3.000000e+04   30000.00000   \n",
              "unique            NaN            NaN           NaN           NaN   \n",
              "top               NaN            NaN           NaN           NaN   \n",
              "freq              NaN            NaN           NaN           NaN   \n",
              "mean     38871.760400    5663.580500  5.921163e+03    5225.68150   \n",
              "std      59554.107537   16563.280354  2.304087e+04   17606.96147   \n",
              "min    -339603.000000       0.000000  0.000000e+00       0.00000   \n",
              "25%       1256.000000    1000.000000  8.330000e+02     390.00000   \n",
              "50%      17071.000000    2100.000000  2.009000e+03    1800.00000   \n",
              "75%      49198.250000    5006.000000  5.000000e+03    4505.00000   \n",
              "max     961664.000000  873552.000000  1.684259e+06  896040.00000   \n",
              "\n",
              "             PAY_AMT4       PAY_AMT5       PAY_AMT6  \\\n",
              "count    30000.000000   30000.000000   30000.000000   \n",
              "unique            NaN            NaN            NaN   \n",
              "top               NaN            NaN            NaN   \n",
              "freq              NaN            NaN            NaN   \n",
              "mean      4826.076867    4799.387633    5215.502567   \n",
              "std      15666.159744   15278.305679   17777.465775   \n",
              "min          0.000000       0.000000       0.000000   \n",
              "25%        296.000000     252.500000     117.750000   \n",
              "50%       1500.000000    1500.000000    1500.000000   \n",
              "75%       4013.250000    4031.500000    4000.000000   \n",
              "max     621000.000000  426529.000000  528666.000000   \n",
              "\n",
              "        default payment next month  \n",
              "count                      30000.0  \n",
              "unique                         2.0  \n",
              "top                            0.0  \n",
              "freq                       23364.0  \n",
              "mean                           NaN  \n",
              "std                            NaN  \n",
              "min                            NaN  \n",
              "25%                            NaN  \n",
              "50%                            NaN  \n",
              "75%                            NaN  \n",
              "max                            NaN  \n",
              "\n",
              "[11 rows x 24 columns]"
            ]
          },
          "metadata": {
            "tags": []
          },
          "execution_count": 10
        }
      ]
    },
    {
      "cell_type": "code",
      "metadata": {
        "id": "nCRFsanLN7tj",
        "colab_type": "code",
        "colab": {}
      },
      "source": [
        "credit_default.dropna(axis=0, inplace=True)"
      ],
      "execution_count": 0,
      "outputs": []
    },
    {
      "cell_type": "markdown",
      "metadata": {
        "id": "NQ_T6IoaXqHa",
        "colab_type": "text"
      },
      "source": [
        "**One Hot Encoding**"
      ]
    },
    {
      "cell_type": "code",
      "metadata": {
        "id": "1sQv5iDkXpy6",
        "colab_type": "code",
        "colab": {}
      },
      "source": [
        "enc = OneHotEncoder(categorical_features = [2,3])\n",
        "fit_obj = enc.fit(credit_default)\n",
        "credit_default_cat = fit_obj.transform(credit_default).toarray()"
      ],
      "execution_count": 0,
      "outputs": []
    },
    {
      "cell_type": "code",
      "metadata": {
        "id": "5awEQjq1ms_x",
        "colab_type": "code",
        "outputId": "0b908e3a-e7df-43c4-f0be-cf58d593cd3e",
        "colab": {
          "base_uri": "https://localhost:8080/",
          "height": 35
        }
      },
      "source": [
        "credit_default_cat.shape"
      ],
      "execution_count": 0,
      "outputs": [
        {
          "output_type": "execute_result",
          "data": {
            "text/plain": [
              "(30000, 33)"
            ]
          },
          "metadata": {
            "tags": []
          },
          "execution_count": 13
        }
      ]
    },
    {
      "cell_type": "code",
      "metadata": {
        "id": "J1z0G3Lth2JR",
        "colab_type": "code",
        "outputId": "23088e60-06b3-44bc-db08-b87b9788e8c3",
        "colab": {
          "base_uri": "https://localhost:8080/",
          "height": 35
        }
      },
      "source": [
        "fit_obj.feature_indices_[:-1]"
      ],
      "execution_count": 0,
      "outputs": [
        {
          "output_type": "execute_result",
          "data": {
            "text/plain": [
              "array([0, 7])"
            ]
          },
          "metadata": {
            "tags": []
          },
          "execution_count": 14
        }
      ]
    },
    {
      "cell_type": "code",
      "metadata": {
        "id": "b_dQQzLCi_A6",
        "colab_type": "code",
        "outputId": "ddc494f0-33bb-475f-eb84-bd38ba3fa549",
        "colab": {
          "base_uri": "https://localhost:8080/",
          "height": 213
        }
      },
      "source": [
        "names_ = ['EDUCATION_'+str(i) for i in range(1,8)]+\\\n",
        "         ['MARRIAGE_'+str(i) for i in range(1,5)]\n",
        "names_ "
      ],
      "execution_count": 0,
      "outputs": [
        {
          "output_type": "execute_result",
          "data": {
            "text/plain": [
              "['EDUCATION_1',\n",
              " 'EDUCATION_2',\n",
              " 'EDUCATION_3',\n",
              " 'EDUCATION_4',\n",
              " 'EDUCATION_5',\n",
              " 'EDUCATION_6',\n",
              " 'EDUCATION_7',\n",
              " 'MARRIAGE_1',\n",
              " 'MARRIAGE_2',\n",
              " 'MARRIAGE_3',\n",
              " 'MARRIAGE_4']"
            ]
          },
          "metadata": {
            "tags": []
          },
          "execution_count": 15
        }
      ]
    },
    {
      "cell_type": "code",
      "metadata": {
        "id": "Ms4EGDrLlqb5",
        "colab_type": "code",
        "outputId": "3afeeb19-d985-483d-bd73-dec273049790",
        "colab": {
          "base_uri": "https://localhost:8080/",
          "height": 201
        }
      },
      "source": [
        "credit_default_cat_clean = pd.DataFrame(credit_default_cat[:,0:11], columns = names_)\n",
        "credit_default_cat_clean.head()"
      ],
      "execution_count": 0,
      "outputs": [
        {
          "output_type": "execute_result",
          "data": {
            "text/html": [
              "<div>\n",
              "<style scoped>\n",
              "    .dataframe tbody tr th:only-of-type {\n",
              "        vertical-align: middle;\n",
              "    }\n",
              "\n",
              "    .dataframe tbody tr th {\n",
              "        vertical-align: top;\n",
              "    }\n",
              "\n",
              "    .dataframe thead th {\n",
              "        text-align: right;\n",
              "    }\n",
              "</style>\n",
              "<table border=\"1\" class=\"dataframe\">\n",
              "  <thead>\n",
              "    <tr style=\"text-align: right;\">\n",
              "      <th></th>\n",
              "      <th>EDUCATION_1</th>\n",
              "      <th>EDUCATION_2</th>\n",
              "      <th>EDUCATION_3</th>\n",
              "      <th>EDUCATION_4</th>\n",
              "      <th>EDUCATION_5</th>\n",
              "      <th>EDUCATION_6</th>\n",
              "      <th>EDUCATION_7</th>\n",
              "      <th>MARRIAGE_1</th>\n",
              "      <th>MARRIAGE_2</th>\n",
              "      <th>MARRIAGE_3</th>\n",
              "      <th>MARRIAGE_4</th>\n",
              "    </tr>\n",
              "  </thead>\n",
              "  <tbody>\n",
              "    <tr>\n",
              "      <th>0</th>\n",
              "      <td>0.0</td>\n",
              "      <td>0.0</td>\n",
              "      <td>1.0</td>\n",
              "      <td>0.0</td>\n",
              "      <td>0.0</td>\n",
              "      <td>0.0</td>\n",
              "      <td>0.0</td>\n",
              "      <td>0.0</td>\n",
              "      <td>1.0</td>\n",
              "      <td>0.0</td>\n",
              "      <td>0.0</td>\n",
              "    </tr>\n",
              "    <tr>\n",
              "      <th>1</th>\n",
              "      <td>0.0</td>\n",
              "      <td>0.0</td>\n",
              "      <td>1.0</td>\n",
              "      <td>0.0</td>\n",
              "      <td>0.0</td>\n",
              "      <td>0.0</td>\n",
              "      <td>0.0</td>\n",
              "      <td>0.0</td>\n",
              "      <td>0.0</td>\n",
              "      <td>1.0</td>\n",
              "      <td>0.0</td>\n",
              "    </tr>\n",
              "    <tr>\n",
              "      <th>2</th>\n",
              "      <td>0.0</td>\n",
              "      <td>0.0</td>\n",
              "      <td>1.0</td>\n",
              "      <td>0.0</td>\n",
              "      <td>0.0</td>\n",
              "      <td>0.0</td>\n",
              "      <td>0.0</td>\n",
              "      <td>0.0</td>\n",
              "      <td>0.0</td>\n",
              "      <td>1.0</td>\n",
              "      <td>0.0</td>\n",
              "    </tr>\n",
              "    <tr>\n",
              "      <th>3</th>\n",
              "      <td>0.0</td>\n",
              "      <td>0.0</td>\n",
              "      <td>1.0</td>\n",
              "      <td>0.0</td>\n",
              "      <td>0.0</td>\n",
              "      <td>0.0</td>\n",
              "      <td>0.0</td>\n",
              "      <td>0.0</td>\n",
              "      <td>1.0</td>\n",
              "      <td>0.0</td>\n",
              "      <td>0.0</td>\n",
              "    </tr>\n",
              "    <tr>\n",
              "      <th>4</th>\n",
              "      <td>0.0</td>\n",
              "      <td>0.0</td>\n",
              "      <td>1.0</td>\n",
              "      <td>0.0</td>\n",
              "      <td>0.0</td>\n",
              "      <td>0.0</td>\n",
              "      <td>0.0</td>\n",
              "      <td>0.0</td>\n",
              "      <td>1.0</td>\n",
              "      <td>0.0</td>\n",
              "      <td>0.0</td>\n",
              "    </tr>\n",
              "  </tbody>\n",
              "</table>\n",
              "</div>"
            ],
            "text/plain": [
              "   EDUCATION_1  EDUCATION_2  EDUCATION_3  EDUCATION_4  EDUCATION_5  \\\n",
              "0          0.0          0.0          1.0          0.0          0.0   \n",
              "1          0.0          0.0          1.0          0.0          0.0   \n",
              "2          0.0          0.0          1.0          0.0          0.0   \n",
              "3          0.0          0.0          1.0          0.0          0.0   \n",
              "4          0.0          0.0          1.0          0.0          0.0   \n",
              "\n",
              "   EDUCATION_6  EDUCATION_7  MARRIAGE_1  MARRIAGE_2  MARRIAGE_3  MARRIAGE_4  \n",
              "0          0.0          0.0         0.0         1.0         0.0         0.0  \n",
              "1          0.0          0.0         0.0         0.0         1.0         0.0  \n",
              "2          0.0          0.0         0.0         0.0         1.0         0.0  \n",
              "3          0.0          0.0         0.0         1.0         0.0         0.0  \n",
              "4          0.0          0.0         0.0         1.0         0.0         0.0  "
            ]
          },
          "metadata": {
            "tags": []
          },
          "execution_count": 16
        }
      ]
    },
    {
      "cell_type": "markdown",
      "metadata": {
        "id": "12V_rRtfotLu",
        "colab_type": "text"
      },
      "source": [
        "**Reconcile with original data**"
      ]
    },
    {
      "cell_type": "code",
      "metadata": {
        "id": "ZVRmLpyuoyer",
        "colab_type": "code",
        "colab": {}
      },
      "source": [
        "credit_default_num_clean = credit_default.drop(['EDUCATION', 'MARRIAGE'], axis=1).reset_index(drop = True).copy()"
      ],
      "execution_count": 0,
      "outputs": []
    },
    {
      "cell_type": "code",
      "metadata": {
        "id": "-FsjyUgdpI7k",
        "colab_type": "code",
        "colab": {}
      },
      "source": [
        "credit_default_clean = pd.concat([credit_default_cat_clean, credit_default_num_clean], axis = 1)"
      ],
      "execution_count": 0,
      "outputs": []
    },
    {
      "cell_type": "code",
      "metadata": {
        "id": "GEaJfKhFpSKC",
        "colab_type": "code",
        "outputId": "6cc6ab0a-b5c4-4cf5-cf21-9d453fc993d8",
        "colab": {
          "base_uri": "https://localhost:8080/",
          "height": 264
        }
      },
      "source": [
        "credit_default_clean.head()"
      ],
      "execution_count": 0,
      "outputs": [
        {
          "output_type": "execute_result",
          "data": {
            "text/html": [
              "<div>\n",
              "<style scoped>\n",
              "    .dataframe tbody tr th:only-of-type {\n",
              "        vertical-align: middle;\n",
              "    }\n",
              "\n",
              "    .dataframe tbody tr th {\n",
              "        vertical-align: top;\n",
              "    }\n",
              "\n",
              "    .dataframe thead th {\n",
              "        text-align: right;\n",
              "    }\n",
              "</style>\n",
              "<table border=\"1\" class=\"dataframe\">\n",
              "  <thead>\n",
              "    <tr style=\"text-align: right;\">\n",
              "      <th></th>\n",
              "      <th>EDUCATION_1</th>\n",
              "      <th>EDUCATION_2</th>\n",
              "      <th>EDUCATION_3</th>\n",
              "      <th>EDUCATION_4</th>\n",
              "      <th>EDUCATION_5</th>\n",
              "      <th>EDUCATION_6</th>\n",
              "      <th>EDUCATION_7</th>\n",
              "      <th>MARRIAGE_1</th>\n",
              "      <th>MARRIAGE_2</th>\n",
              "      <th>MARRIAGE_3</th>\n",
              "      <th>...</th>\n",
              "      <th>BILL_AMT4</th>\n",
              "      <th>BILL_AMT5</th>\n",
              "      <th>BILL_AMT6</th>\n",
              "      <th>PAY_AMT1</th>\n",
              "      <th>PAY_AMT2</th>\n",
              "      <th>PAY_AMT3</th>\n",
              "      <th>PAY_AMT4</th>\n",
              "      <th>PAY_AMT5</th>\n",
              "      <th>PAY_AMT6</th>\n",
              "      <th>default payment next month</th>\n",
              "    </tr>\n",
              "  </thead>\n",
              "  <tbody>\n",
              "    <tr>\n",
              "      <th>0</th>\n",
              "      <td>0.0</td>\n",
              "      <td>0.0</td>\n",
              "      <td>1.0</td>\n",
              "      <td>0.0</td>\n",
              "      <td>0.0</td>\n",
              "      <td>0.0</td>\n",
              "      <td>0.0</td>\n",
              "      <td>0.0</td>\n",
              "      <td>1.0</td>\n",
              "      <td>0.0</td>\n",
              "      <td>...</td>\n",
              "      <td>0</td>\n",
              "      <td>0</td>\n",
              "      <td>0</td>\n",
              "      <td>0</td>\n",
              "      <td>689</td>\n",
              "      <td>0</td>\n",
              "      <td>0</td>\n",
              "      <td>0</td>\n",
              "      <td>0</td>\n",
              "      <td>1</td>\n",
              "    </tr>\n",
              "    <tr>\n",
              "      <th>1</th>\n",
              "      <td>0.0</td>\n",
              "      <td>0.0</td>\n",
              "      <td>1.0</td>\n",
              "      <td>0.0</td>\n",
              "      <td>0.0</td>\n",
              "      <td>0.0</td>\n",
              "      <td>0.0</td>\n",
              "      <td>0.0</td>\n",
              "      <td>0.0</td>\n",
              "      <td>1.0</td>\n",
              "      <td>...</td>\n",
              "      <td>3272</td>\n",
              "      <td>3455</td>\n",
              "      <td>3261</td>\n",
              "      <td>0</td>\n",
              "      <td>1000</td>\n",
              "      <td>1000</td>\n",
              "      <td>1000</td>\n",
              "      <td>0</td>\n",
              "      <td>2000</td>\n",
              "      <td>1</td>\n",
              "    </tr>\n",
              "    <tr>\n",
              "      <th>2</th>\n",
              "      <td>0.0</td>\n",
              "      <td>0.0</td>\n",
              "      <td>1.0</td>\n",
              "      <td>0.0</td>\n",
              "      <td>0.0</td>\n",
              "      <td>0.0</td>\n",
              "      <td>0.0</td>\n",
              "      <td>0.0</td>\n",
              "      <td>0.0</td>\n",
              "      <td>1.0</td>\n",
              "      <td>...</td>\n",
              "      <td>14331</td>\n",
              "      <td>14948</td>\n",
              "      <td>15549</td>\n",
              "      <td>1518</td>\n",
              "      <td>1500</td>\n",
              "      <td>1000</td>\n",
              "      <td>1000</td>\n",
              "      <td>1000</td>\n",
              "      <td>5000</td>\n",
              "      <td>0</td>\n",
              "    </tr>\n",
              "    <tr>\n",
              "      <th>3</th>\n",
              "      <td>0.0</td>\n",
              "      <td>0.0</td>\n",
              "      <td>1.0</td>\n",
              "      <td>0.0</td>\n",
              "      <td>0.0</td>\n",
              "      <td>0.0</td>\n",
              "      <td>0.0</td>\n",
              "      <td>0.0</td>\n",
              "      <td>1.0</td>\n",
              "      <td>0.0</td>\n",
              "      <td>...</td>\n",
              "      <td>28314</td>\n",
              "      <td>28959</td>\n",
              "      <td>29547</td>\n",
              "      <td>2000</td>\n",
              "      <td>2019</td>\n",
              "      <td>1200</td>\n",
              "      <td>1100</td>\n",
              "      <td>1069</td>\n",
              "      <td>1000</td>\n",
              "      <td>0</td>\n",
              "    </tr>\n",
              "    <tr>\n",
              "      <th>4</th>\n",
              "      <td>0.0</td>\n",
              "      <td>0.0</td>\n",
              "      <td>1.0</td>\n",
              "      <td>0.0</td>\n",
              "      <td>0.0</td>\n",
              "      <td>0.0</td>\n",
              "      <td>0.0</td>\n",
              "      <td>0.0</td>\n",
              "      <td>1.0</td>\n",
              "      <td>0.0</td>\n",
              "      <td>...</td>\n",
              "      <td>20940</td>\n",
              "      <td>19146</td>\n",
              "      <td>19131</td>\n",
              "      <td>2000</td>\n",
              "      <td>36681</td>\n",
              "      <td>10000</td>\n",
              "      <td>9000</td>\n",
              "      <td>689</td>\n",
              "      <td>679</td>\n",
              "      <td>0</td>\n",
              "    </tr>\n",
              "  </tbody>\n",
              "</table>\n",
              "<p>5 rows × 33 columns</p>\n",
              "</div>"
            ],
            "text/plain": [
              "   EDUCATION_1  EDUCATION_2  EDUCATION_3  EDUCATION_4  EDUCATION_5  \\\n",
              "0          0.0          0.0          1.0          0.0          0.0   \n",
              "1          0.0          0.0          1.0          0.0          0.0   \n",
              "2          0.0          0.0          1.0          0.0          0.0   \n",
              "3          0.0          0.0          1.0          0.0          0.0   \n",
              "4          0.0          0.0          1.0          0.0          0.0   \n",
              "\n",
              "   EDUCATION_6  EDUCATION_7  MARRIAGE_1  MARRIAGE_2  MARRIAGE_3  \\\n",
              "0          0.0          0.0         0.0         1.0         0.0   \n",
              "1          0.0          0.0         0.0         0.0         1.0   \n",
              "2          0.0          0.0         0.0         0.0         1.0   \n",
              "3          0.0          0.0         0.0         1.0         0.0   \n",
              "4          0.0          0.0         0.0         1.0         0.0   \n",
              "\n",
              "              ...              BILL_AMT4  BILL_AMT5 BILL_AMT6  PAY_AMT1  \\\n",
              "0             ...                      0          0         0         0   \n",
              "1             ...                   3272       3455      3261         0   \n",
              "2             ...                  14331      14948     15549      1518   \n",
              "3             ...                  28314      28959     29547      2000   \n",
              "4             ...                  20940      19146     19131      2000   \n",
              "\n",
              "   PAY_AMT2  PAY_AMT3  PAY_AMT4  PAY_AMT5  PAY_AMT6  \\\n",
              "0       689         0         0         0         0   \n",
              "1      1000      1000      1000         0      2000   \n",
              "2      1500      1000      1000      1000      5000   \n",
              "3      2019      1200      1100      1069      1000   \n",
              "4     36681     10000      9000       689       679   \n",
              "\n",
              "   default payment next month  \n",
              "0                           1  \n",
              "1                           1  \n",
              "2                           0  \n",
              "3                           0  \n",
              "4                           0  \n",
              "\n",
              "[5 rows x 33 columns]"
            ]
          },
          "metadata": {
            "tags": []
          },
          "execution_count": 19
        }
      ]
    },
    {
      "cell_type": "markdown",
      "metadata": {
        "id": "1bjPX9FuKIoB",
        "colab_type": "text"
      },
      "source": [
        "**Split Train and Test data.**"
      ]
    },
    {
      "cell_type": "code",
      "metadata": {
        "id": "XTWqJfPpK8e8",
        "colab_type": "code",
        "colab": {}
      },
      "source": [
        "x_train, x_test, y_train, y_test = train_test_split(credit_default_clean.iloc[:,0:-1], credit_default_clean.iloc[:,-1], test_size = .3, random_state = 43)"
      ],
      "execution_count": 0,
      "outputs": []
    },
    {
      "cell_type": "code",
      "metadata": {
        "id": "qcDRB84RIDYR",
        "colab_type": "code",
        "outputId": "87dd72d3-29b8-4630-81f3-75dfd5f1b4e7",
        "colab": {
          "base_uri": "https://localhost:8080/",
          "height": 230
        }
      },
      "source": [
        "x_train.head()"
      ],
      "execution_count": 0,
      "outputs": [
        {
          "output_type": "execute_result",
          "data": {
            "text/html": [
              "<div>\n",
              "<style scoped>\n",
              "    .dataframe tbody tr th:only-of-type {\n",
              "        vertical-align: middle;\n",
              "    }\n",
              "\n",
              "    .dataframe tbody tr th {\n",
              "        vertical-align: top;\n",
              "    }\n",
              "\n",
              "    .dataframe thead th {\n",
              "        text-align: right;\n",
              "    }\n",
              "</style>\n",
              "<table border=\"1\" class=\"dataframe\">\n",
              "  <thead>\n",
              "    <tr style=\"text-align: right;\">\n",
              "      <th></th>\n",
              "      <th>EDUCATION_1</th>\n",
              "      <th>EDUCATION_2</th>\n",
              "      <th>EDUCATION_3</th>\n",
              "      <th>EDUCATION_4</th>\n",
              "      <th>EDUCATION_5</th>\n",
              "      <th>EDUCATION_6</th>\n",
              "      <th>EDUCATION_7</th>\n",
              "      <th>MARRIAGE_1</th>\n",
              "      <th>MARRIAGE_2</th>\n",
              "      <th>MARRIAGE_3</th>\n",
              "      <th>...</th>\n",
              "      <th>BILL_AMT3</th>\n",
              "      <th>BILL_AMT4</th>\n",
              "      <th>BILL_AMT5</th>\n",
              "      <th>BILL_AMT6</th>\n",
              "      <th>PAY_AMT1</th>\n",
              "      <th>PAY_AMT2</th>\n",
              "      <th>PAY_AMT3</th>\n",
              "      <th>PAY_AMT4</th>\n",
              "      <th>PAY_AMT5</th>\n",
              "      <th>PAY_AMT6</th>\n",
              "    </tr>\n",
              "  </thead>\n",
              "  <tbody>\n",
              "    <tr>\n",
              "      <th>14120</th>\n",
              "      <td>0.0</td>\n",
              "      <td>0.0</td>\n",
              "      <td>1.0</td>\n",
              "      <td>0.0</td>\n",
              "      <td>0.0</td>\n",
              "      <td>0.0</td>\n",
              "      <td>0.0</td>\n",
              "      <td>0.0</td>\n",
              "      <td>1.0</td>\n",
              "      <td>0.0</td>\n",
              "      <td>...</td>\n",
              "      <td>54769</td>\n",
              "      <td>39137</td>\n",
              "      <td>26971</td>\n",
              "      <td>3426</td>\n",
              "      <td>2805</td>\n",
              "      <td>1487</td>\n",
              "      <td>958</td>\n",
              "      <td>539</td>\n",
              "      <td>1000</td>\n",
              "      <td>390</td>\n",
              "    </tr>\n",
              "    <tr>\n",
              "      <th>23150</th>\n",
              "      <td>0.0</td>\n",
              "      <td>0.0</td>\n",
              "      <td>1.0</td>\n",
              "      <td>0.0</td>\n",
              "      <td>0.0</td>\n",
              "      <td>0.0</td>\n",
              "      <td>0.0</td>\n",
              "      <td>0.0</td>\n",
              "      <td>1.0</td>\n",
              "      <td>0.0</td>\n",
              "      <td>...</td>\n",
              "      <td>-1</td>\n",
              "      <td>228</td>\n",
              "      <td>1374</td>\n",
              "      <td>380</td>\n",
              "      <td>0</td>\n",
              "      <td>0</td>\n",
              "      <td>229</td>\n",
              "      <td>1380</td>\n",
              "      <td>381</td>\n",
              "      <td>3880</td>\n",
              "    </tr>\n",
              "    <tr>\n",
              "      <th>4010</th>\n",
              "      <td>0.0</td>\n",
              "      <td>0.0</td>\n",
              "      <td>0.0</td>\n",
              "      <td>1.0</td>\n",
              "      <td>0.0</td>\n",
              "      <td>0.0</td>\n",
              "      <td>0.0</td>\n",
              "      <td>0.0</td>\n",
              "      <td>0.0</td>\n",
              "      <td>1.0</td>\n",
              "      <td>...</td>\n",
              "      <td>96667</td>\n",
              "      <td>98883</td>\n",
              "      <td>79972</td>\n",
              "      <td>81642</td>\n",
              "      <td>3500</td>\n",
              "      <td>3600</td>\n",
              "      <td>3900</td>\n",
              "      <td>3000</td>\n",
              "      <td>3000</td>\n",
              "      <td>3200</td>\n",
              "    </tr>\n",
              "    <tr>\n",
              "      <th>19536</th>\n",
              "      <td>0.0</td>\n",
              "      <td>0.0</td>\n",
              "      <td>0.0</td>\n",
              "      <td>1.0</td>\n",
              "      <td>0.0</td>\n",
              "      <td>0.0</td>\n",
              "      <td>0.0</td>\n",
              "      <td>0.0</td>\n",
              "      <td>1.0</td>\n",
              "      <td>0.0</td>\n",
              "      <td>...</td>\n",
              "      <td>29179</td>\n",
              "      <td>30146</td>\n",
              "      <td>26371</td>\n",
              "      <td>27567</td>\n",
              "      <td>1452</td>\n",
              "      <td>2000</td>\n",
              "      <td>1500</td>\n",
              "      <td>933</td>\n",
              "      <td>2000</td>\n",
              "      <td>3000</td>\n",
              "    </tr>\n",
              "    <tr>\n",
              "      <th>5019</th>\n",
              "      <td>0.0</td>\n",
              "      <td>0.0</td>\n",
              "      <td>0.0</td>\n",
              "      <td>1.0</td>\n",
              "      <td>0.0</td>\n",
              "      <td>0.0</td>\n",
              "      <td>0.0</td>\n",
              "      <td>0.0</td>\n",
              "      <td>0.0</td>\n",
              "      <td>1.0</td>\n",
              "      <td>...</td>\n",
              "      <td>16879</td>\n",
              "      <td>17059</td>\n",
              "      <td>17263</td>\n",
              "      <td>17675</td>\n",
              "      <td>1577</td>\n",
              "      <td>0</td>\n",
              "      <td>757</td>\n",
              "      <td>628</td>\n",
              "      <td>700</td>\n",
              "      <td>2488</td>\n",
              "    </tr>\n",
              "  </tbody>\n",
              "</table>\n",
              "<p>5 rows × 32 columns</p>\n",
              "</div>"
            ],
            "text/plain": [
              "       EDUCATION_1  EDUCATION_2  EDUCATION_3  EDUCATION_4  EDUCATION_5  \\\n",
              "14120          0.0          0.0          1.0          0.0          0.0   \n",
              "23150          0.0          0.0          1.0          0.0          0.0   \n",
              "4010           0.0          0.0          0.0          1.0          0.0   \n",
              "19536          0.0          0.0          0.0          1.0          0.0   \n",
              "5019           0.0          0.0          0.0          1.0          0.0   \n",
              "\n",
              "       EDUCATION_6  EDUCATION_7  MARRIAGE_1  MARRIAGE_2  MARRIAGE_3    ...     \\\n",
              "14120          0.0          0.0         0.0         1.0         0.0    ...      \n",
              "23150          0.0          0.0         0.0         1.0         0.0    ...      \n",
              "4010           0.0          0.0         0.0         0.0         1.0    ...      \n",
              "19536          0.0          0.0         0.0         1.0         0.0    ...      \n",
              "5019           0.0          0.0         0.0         0.0         1.0    ...      \n",
              "\n",
              "       BILL_AMT3  BILL_AMT4 BILL_AMT5  BILL_AMT6  PAY_AMT1  PAY_AMT2  \\\n",
              "14120      54769      39137     26971       3426      2805      1487   \n",
              "23150         -1        228      1374        380         0         0   \n",
              "4010       96667      98883     79972      81642      3500      3600   \n",
              "19536      29179      30146     26371      27567      1452      2000   \n",
              "5019       16879      17059     17263      17675      1577         0   \n",
              "\n",
              "       PAY_AMT3  PAY_AMT4  PAY_AMT5  PAY_AMT6  \n",
              "14120       958       539      1000       390  \n",
              "23150       229      1380       381      3880  \n",
              "4010       3900      3000      3000      3200  \n",
              "19536      1500       933      2000      3000  \n",
              "5019        757       628       700      2488  \n",
              "\n",
              "[5 rows x 32 columns]"
            ]
          },
          "metadata": {
            "tags": []
          },
          "execution_count": 21
        }
      ]
    },
    {
      "cell_type": "code",
      "metadata": {
        "id": "6Ryhs0ZkRYqw",
        "colab_type": "code",
        "outputId": "e6ec95e7-0d13-4bcb-b80b-c8198eb6809b",
        "colab": {
          "base_uri": "https://localhost:8080/",
          "height": 341
        }
      },
      "source": [
        "x_train.describe()"
      ],
      "execution_count": 0,
      "outputs": [
        {
          "output_type": "execute_result",
          "data": {
            "text/html": [
              "<div>\n",
              "<style scoped>\n",
              "    .dataframe tbody tr th:only-of-type {\n",
              "        vertical-align: middle;\n",
              "    }\n",
              "\n",
              "    .dataframe tbody tr th {\n",
              "        vertical-align: top;\n",
              "    }\n",
              "\n",
              "    .dataframe thead th {\n",
              "        text-align: right;\n",
              "    }\n",
              "</style>\n",
              "<table border=\"1\" class=\"dataframe\">\n",
              "  <thead>\n",
              "    <tr style=\"text-align: right;\">\n",
              "      <th></th>\n",
              "      <th>EDUCATION_1</th>\n",
              "      <th>EDUCATION_2</th>\n",
              "      <th>EDUCATION_3</th>\n",
              "      <th>EDUCATION_4</th>\n",
              "      <th>EDUCATION_5</th>\n",
              "      <th>EDUCATION_6</th>\n",
              "      <th>EDUCATION_7</th>\n",
              "      <th>MARRIAGE_1</th>\n",
              "      <th>MARRIAGE_2</th>\n",
              "      <th>MARRIAGE_3</th>\n",
              "      <th>...</th>\n",
              "      <th>BILL_AMT3</th>\n",
              "      <th>BILL_AMT4</th>\n",
              "      <th>BILL_AMT5</th>\n",
              "      <th>BILL_AMT6</th>\n",
              "      <th>PAY_AMT1</th>\n",
              "      <th>PAY_AMT2</th>\n",
              "      <th>PAY_AMT3</th>\n",
              "      <th>PAY_AMT4</th>\n",
              "      <th>PAY_AMT5</th>\n",
              "      <th>PAY_AMT6</th>\n",
              "    </tr>\n",
              "  </thead>\n",
              "  <tbody>\n",
              "    <tr>\n",
              "      <th>count</th>\n",
              "      <td>21000.000000</td>\n",
              "      <td>21000.000000</td>\n",
              "      <td>21000.000000</td>\n",
              "      <td>21000.000000</td>\n",
              "      <td>21000.000000</td>\n",
              "      <td>21000.000000</td>\n",
              "      <td>21000.000000</td>\n",
              "      <td>21000.000000</td>\n",
              "      <td>21000.000000</td>\n",
              "      <td>21000.000000</td>\n",
              "      <td>...</td>\n",
              "      <td>21000.000000</td>\n",
              "      <td>21000.000000</td>\n",
              "      <td>21000.000000</td>\n",
              "      <td>21000.000000</td>\n",
              "      <td>21000.000000</td>\n",
              "      <td>2.100000e+04</td>\n",
              "      <td>21000.000000</td>\n",
              "      <td>21000.000000</td>\n",
              "      <td>21000.000000</td>\n",
              "      <td>21000.000000</td>\n",
              "    </tr>\n",
              "    <tr>\n",
              "      <th>mean</th>\n",
              "      <td>0.000476</td>\n",
              "      <td>0.350810</td>\n",
              "      <td>0.467905</td>\n",
              "      <td>0.165952</td>\n",
              "      <td>0.003952</td>\n",
              "      <td>0.009333</td>\n",
              "      <td>0.001571</td>\n",
              "      <td>0.001810</td>\n",
              "      <td>0.457762</td>\n",
              "      <td>0.529619</td>\n",
              "      <td>...</td>\n",
              "      <td>46977.176667</td>\n",
              "      <td>43198.739714</td>\n",
              "      <td>40301.590190</td>\n",
              "      <td>39034.401238</td>\n",
              "      <td>5617.556429</td>\n",
              "      <td>5.887724e+03</td>\n",
              "      <td>5266.627476</td>\n",
              "      <td>4834.623286</td>\n",
              "      <td>4880.418143</td>\n",
              "      <td>5227.275429</td>\n",
              "    </tr>\n",
              "    <tr>\n",
              "      <th>std</th>\n",
              "      <td>0.021817</td>\n",
              "      <td>0.477235</td>\n",
              "      <td>0.498981</td>\n",
              "      <td>0.372047</td>\n",
              "      <td>0.062745</td>\n",
              "      <td>0.096160</td>\n",
              "      <td>0.039611</td>\n",
              "      <td>0.042501</td>\n",
              "      <td>0.498225</td>\n",
              "      <td>0.499134</td>\n",
              "      <td>...</td>\n",
              "      <td>68954.078535</td>\n",
              "      <td>64420.825865</td>\n",
              "      <td>61100.629649</td>\n",
              "      <td>60039.132678</td>\n",
              "      <td>16559.119435</td>\n",
              "      <td>2.172623e+04</td>\n",
              "      <td>18231.541938</td>\n",
              "      <td>15473.292502</td>\n",
              "      <td>15144.840055</td>\n",
              "      <td>18172.413023</td>\n",
              "    </tr>\n",
              "    <tr>\n",
              "      <th>min</th>\n",
              "      <td>0.000000</td>\n",
              "      <td>0.000000</td>\n",
              "      <td>0.000000</td>\n",
              "      <td>0.000000</td>\n",
              "      <td>0.000000</td>\n",
              "      <td>0.000000</td>\n",
              "      <td>0.000000</td>\n",
              "      <td>0.000000</td>\n",
              "      <td>0.000000</td>\n",
              "      <td>0.000000</td>\n",
              "      <td>...</td>\n",
              "      <td>-157264.000000</td>\n",
              "      <td>-65167.000000</td>\n",
              "      <td>-81334.000000</td>\n",
              "      <td>-209051.000000</td>\n",
              "      <td>0.000000</td>\n",
              "      <td>0.000000e+00</td>\n",
              "      <td>0.000000</td>\n",
              "      <td>0.000000</td>\n",
              "      <td>0.000000</td>\n",
              "      <td>0.000000</td>\n",
              "    </tr>\n",
              "    <tr>\n",
              "      <th>25%</th>\n",
              "      <td>0.000000</td>\n",
              "      <td>0.000000</td>\n",
              "      <td>0.000000</td>\n",
              "      <td>0.000000</td>\n",
              "      <td>0.000000</td>\n",
              "      <td>0.000000</td>\n",
              "      <td>0.000000</td>\n",
              "      <td>0.000000</td>\n",
              "      <td>0.000000</td>\n",
              "      <td>0.000000</td>\n",
              "      <td>...</td>\n",
              "      <td>2655.000000</td>\n",
              "      <td>2314.750000</td>\n",
              "      <td>1744.250000</td>\n",
              "      <td>1262.000000</td>\n",
              "      <td>1000.000000</td>\n",
              "      <td>8.150000e+02</td>\n",
              "      <td>390.000000</td>\n",
              "      <td>291.000000</td>\n",
              "      <td>259.000000</td>\n",
              "      <td>111.000000</td>\n",
              "    </tr>\n",
              "    <tr>\n",
              "      <th>50%</th>\n",
              "      <td>0.000000</td>\n",
              "      <td>0.000000</td>\n",
              "      <td>0.000000</td>\n",
              "      <td>0.000000</td>\n",
              "      <td>0.000000</td>\n",
              "      <td>0.000000</td>\n",
              "      <td>0.000000</td>\n",
              "      <td>0.000000</td>\n",
              "      <td>0.000000</td>\n",
              "      <td>1.000000</td>\n",
              "      <td>...</td>\n",
              "      <td>20079.000000</td>\n",
              "      <td>19052.000000</td>\n",
              "      <td>18071.500000</td>\n",
              "      <td>17012.000000</td>\n",
              "      <td>2100.000000</td>\n",
              "      <td>2.004000e+03</td>\n",
              "      <td>1800.000000</td>\n",
              "      <td>1500.000000</td>\n",
              "      <td>1500.000000</td>\n",
              "      <td>1500.000000</td>\n",
              "    </tr>\n",
              "    <tr>\n",
              "      <th>75%</th>\n",
              "      <td>0.000000</td>\n",
              "      <td>1.000000</td>\n",
              "      <td>1.000000</td>\n",
              "      <td>0.000000</td>\n",
              "      <td>0.000000</td>\n",
              "      <td>0.000000</td>\n",
              "      <td>0.000000</td>\n",
              "      <td>0.000000</td>\n",
              "      <td>1.000000</td>\n",
              "      <td>1.000000</td>\n",
              "      <td>...</td>\n",
              "      <td>59541.500000</td>\n",
              "      <td>53963.250000</td>\n",
              "      <td>49910.000000</td>\n",
              "      <td>48961.500000</td>\n",
              "      <td>5000.000000</td>\n",
              "      <td>5.000000e+03</td>\n",
              "      <td>4500.000000</td>\n",
              "      <td>4000.000000</td>\n",
              "      <td>4088.500000</td>\n",
              "      <td>4000.000000</td>\n",
              "    </tr>\n",
              "    <tr>\n",
              "      <th>max</th>\n",
              "      <td>1.000000</td>\n",
              "      <td>1.000000</td>\n",
              "      <td>1.000000</td>\n",
              "      <td>1.000000</td>\n",
              "      <td>1.000000</td>\n",
              "      <td>1.000000</td>\n",
              "      <td>1.000000</td>\n",
              "      <td>1.000000</td>\n",
              "      <td>1.000000</td>\n",
              "      <td>1.000000</td>\n",
              "      <td>...</td>\n",
              "      <td>855086.000000</td>\n",
              "      <td>891586.000000</td>\n",
              "      <td>927171.000000</td>\n",
              "      <td>961664.000000</td>\n",
              "      <td>873552.000000</td>\n",
              "      <td>1.227082e+06</td>\n",
              "      <td>896040.000000</td>\n",
              "      <td>621000.000000</td>\n",
              "      <td>426529.000000</td>\n",
              "      <td>528666.000000</td>\n",
              "    </tr>\n",
              "  </tbody>\n",
              "</table>\n",
              "<p>8 rows × 31 columns</p>\n",
              "</div>"
            ],
            "text/plain": [
              "        EDUCATION_1   EDUCATION_2   EDUCATION_3   EDUCATION_4   EDUCATION_5  \\\n",
              "count  21000.000000  21000.000000  21000.000000  21000.000000  21000.000000   \n",
              "mean       0.000476      0.350810      0.467905      0.165952      0.003952   \n",
              "std        0.021817      0.477235      0.498981      0.372047      0.062745   \n",
              "min        0.000000      0.000000      0.000000      0.000000      0.000000   \n",
              "25%        0.000000      0.000000      0.000000      0.000000      0.000000   \n",
              "50%        0.000000      0.000000      0.000000      0.000000      0.000000   \n",
              "75%        0.000000      1.000000      1.000000      0.000000      0.000000   \n",
              "max        1.000000      1.000000      1.000000      1.000000      1.000000   \n",
              "\n",
              "        EDUCATION_6   EDUCATION_7    MARRIAGE_1    MARRIAGE_2    MARRIAGE_3  \\\n",
              "count  21000.000000  21000.000000  21000.000000  21000.000000  21000.000000   \n",
              "mean       0.009333      0.001571      0.001810      0.457762      0.529619   \n",
              "std        0.096160      0.039611      0.042501      0.498225      0.499134   \n",
              "min        0.000000      0.000000      0.000000      0.000000      0.000000   \n",
              "25%        0.000000      0.000000      0.000000      0.000000      0.000000   \n",
              "50%        0.000000      0.000000      0.000000      0.000000      1.000000   \n",
              "75%        0.000000      0.000000      0.000000      1.000000      1.000000   \n",
              "max        1.000000      1.000000      1.000000      1.000000      1.000000   \n",
              "\n",
              "           ...            BILL_AMT3      BILL_AMT4      BILL_AMT5  \\\n",
              "count      ...         21000.000000   21000.000000   21000.000000   \n",
              "mean       ...         46977.176667   43198.739714   40301.590190   \n",
              "std        ...         68954.078535   64420.825865   61100.629649   \n",
              "min        ...       -157264.000000  -65167.000000  -81334.000000   \n",
              "25%        ...          2655.000000    2314.750000    1744.250000   \n",
              "50%        ...         20079.000000   19052.000000   18071.500000   \n",
              "75%        ...         59541.500000   53963.250000   49910.000000   \n",
              "max        ...        855086.000000  891586.000000  927171.000000   \n",
              "\n",
              "           BILL_AMT6       PAY_AMT1      PAY_AMT2       PAY_AMT3  \\\n",
              "count   21000.000000   21000.000000  2.100000e+04   21000.000000   \n",
              "mean    39034.401238    5617.556429  5.887724e+03    5266.627476   \n",
              "std     60039.132678   16559.119435  2.172623e+04   18231.541938   \n",
              "min   -209051.000000       0.000000  0.000000e+00       0.000000   \n",
              "25%      1262.000000    1000.000000  8.150000e+02     390.000000   \n",
              "50%     17012.000000    2100.000000  2.004000e+03    1800.000000   \n",
              "75%     48961.500000    5000.000000  5.000000e+03    4500.000000   \n",
              "max    961664.000000  873552.000000  1.227082e+06  896040.000000   \n",
              "\n",
              "            PAY_AMT4       PAY_AMT5       PAY_AMT6  \n",
              "count   21000.000000   21000.000000   21000.000000  \n",
              "mean     4834.623286    4880.418143    5227.275429  \n",
              "std     15473.292502   15144.840055   18172.413023  \n",
              "min         0.000000       0.000000       0.000000  \n",
              "25%       291.000000     259.000000     111.000000  \n",
              "50%      1500.000000    1500.000000    1500.000000  \n",
              "75%      4000.000000    4088.500000    4000.000000  \n",
              "max    621000.000000  426529.000000  528666.000000  \n",
              "\n",
              "[8 rows x 31 columns]"
            ]
          },
          "metadata": {
            "tags": []
          },
          "execution_count": 22
        }
      ]
    },
    {
      "cell_type": "markdown",
      "metadata": {
        "id": "7Wjed3DGSeyE",
        "colab_type": "text"
      },
      "source": [
        "## Model Generation"
      ]
    },
    {
      "cell_type": "markdown",
      "metadata": {
        "id": "78DyIxCdrSCz",
        "colab_type": "text"
      },
      "source": [
        "### Random Forest Classifer - Base Model"
      ]
    },
    {
      "cell_type": "code",
      "metadata": {
        "id": "tAl1x9_irxGO",
        "colab_type": "code",
        "outputId": "d3a1f3c0-05e1-4a68-bba5-9c5c2e459d2c",
        "colab": {
          "base_uri": "https://localhost:8080/",
          "height": 141
        }
      },
      "source": [
        "rfc = RandomForestClassifier()\n",
        "rfc.fit(x_train, y_train)"
      ],
      "execution_count": 0,
      "outputs": [
        {
          "output_type": "execute_result",
          "data": {
            "text/plain": [
              "RandomForestClassifier(bootstrap=True, class_weight=None, criterion='gini',\n",
              "            max_depth=None, max_features='auto', max_leaf_nodes=None,\n",
              "            min_impurity_decrease=0.0, min_impurity_split=None,\n",
              "            min_samples_leaf=1, min_samples_split=2,\n",
              "            min_weight_fraction_leaf=0.0, n_estimators=10, n_jobs=1,\n",
              "            oob_score=False, random_state=None, verbose=0,\n",
              "            warm_start=False)"
            ]
          },
          "metadata": {
            "tags": []
          },
          "execution_count": 23
        }
      ]
    },
    {
      "cell_type": "code",
      "metadata": {
        "id": "xAnTNbstsbG3",
        "colab_type": "code",
        "colab": {}
      },
      "source": [
        "y_train_predict_base = rfc.predict(x_train)\n",
        "y_test_predict_base = rfc.predict(x_test)\n",
        "\n",
        "y_train_predict_proba_base = rfc.predict_proba(x_train)[:,1]\n",
        "y_test_predict_proba_base = rfc.predict_proba(x_test)[:,1]"
      ],
      "execution_count": 0,
      "outputs": []
    },
    {
      "cell_type": "markdown",
      "metadata": {
        "id": "4F_0Y7mZuIVl",
        "colab_type": "text"
      },
      "source": [
        "#### Model Evaluation"
      ]
    },
    {
      "cell_type": "code",
      "metadata": {
        "id": "G7ZXfEfxsoyy",
        "colab_type": "code",
        "outputId": "61550f9d-ecad-41f4-b359-acf8c803cf1e",
        "colab": {
          "base_uri": "https://localhost:8080/",
          "height": 53
        }
      },
      "source": [
        "print(rfc.score(x_train, y_train))\n",
        "print(rfc.score(x_test, y_test))"
      ],
      "execution_count": 0,
      "outputs": [
        {
          "output_type": "stream",
          "text": [
            "0.9803333333333333\n",
            "0.8033333333333333\n"
          ],
          "name": "stdout"
        }
      ]
    },
    {
      "cell_type": "code",
      "metadata": {
        "id": "nibqtsK_tTwY",
        "colab_type": "code",
        "outputId": "b84e3ed4-ba65-4b74-adc1-868975b8aca0",
        "colab": {
          "base_uri": "https://localhost:8080/",
          "height": 53
        }
      },
      "source": [
        "confusion_matrix(y_train, y_train_predict_base)"
      ],
      "execution_count": 0,
      "outputs": [
        {
          "output_type": "execute_result",
          "data": {
            "text/plain": [
              "array([[16362,    21],\n",
              "       [  392,  4225]])"
            ]
          },
          "metadata": {
            "tags": []
          },
          "execution_count": 26
        }
      ]
    },
    {
      "cell_type": "code",
      "metadata": {
        "id": "cZbURgActVAp",
        "colab_type": "code",
        "outputId": "63dc9e8a-fc50-45ee-876a-4bb7bea17728",
        "colab": {
          "base_uri": "https://localhost:8080/",
          "height": 53
        }
      },
      "source": [
        "confusion_matrix(y_test, y_test_predict_base)"
      ],
      "execution_count": 0,
      "outputs": [
        {
          "output_type": "execute_result",
          "data": {
            "text/plain": [
              "array([[6603,  378],\n",
              "       [1392,  627]])"
            ]
          },
          "metadata": {
            "tags": []
          },
          "execution_count": 27
        }
      ]
    },
    {
      "cell_type": "code",
      "metadata": {
        "id": "TRJK22dWF7wd",
        "colab_type": "code",
        "outputId": "b7c3c87b-9f71-46f1-ee9a-6f089e06846e",
        "colab": {
          "base_uri": "https://localhost:8080/",
          "height": 141
        }
      },
      "source": [
        "print(classification_report(y_train, y_train_predict_base))"
      ],
      "execution_count": 0,
      "outputs": [
        {
          "output_type": "stream",
          "text": [
            "             precision    recall  f1-score   support\n",
            "\n",
            "          0       0.98      1.00      0.99     16383\n",
            "          1       1.00      0.92      0.95      4617\n",
            "\n",
            "avg / total       0.98      0.98      0.98     21000\n",
            "\n"
          ],
          "name": "stdout"
        }
      ]
    },
    {
      "cell_type": "code",
      "metadata": {
        "id": "lqYftRd4GFhS",
        "colab_type": "code",
        "outputId": "7b4e3563-250b-4217-b7b6-71da4c2c7e44",
        "colab": {
          "base_uri": "https://localhost:8080/",
          "height": 141
        }
      },
      "source": [
        "print(classification_report(y_test, y_test_predict_base))"
      ],
      "execution_count": 0,
      "outputs": [
        {
          "output_type": "stream",
          "text": [
            "             precision    recall  f1-score   support\n",
            "\n",
            "          0       0.83      0.95      0.88      6981\n",
            "          1       0.62      0.31      0.41      2019\n",
            "\n",
            "avg / total       0.78      0.80      0.78      9000\n",
            "\n"
          ],
          "name": "stdout"
        }
      ]
    },
    {
      "cell_type": "code",
      "metadata": {
        "id": "UiEqDChrtnC7",
        "colab_type": "code",
        "outputId": "7ce47501-3c9d-4fe9-bd25-d0ba90e9ad60",
        "colab": {
          "base_uri": "https://localhost:8080/",
          "height": 35
        }
      },
      "source": [
        "# calculate roc_auc_score\n",
        "print(roc_auc_score(y_test, y_test_predict_proba_base))"
      ],
      "execution_count": 0,
      "outputs": [
        {
          "output_type": "stream",
          "text": [
            "0.7215640996551951\n"
          ],
          "name": "stdout"
        }
      ]
    },
    {
      "cell_type": "markdown",
      "metadata": {
        "colab_type": "text",
        "id": "tNQgvIh_uYQ5"
      },
      "source": [
        "### Random Forest Classifer - Grid Search"
      ]
    },
    {
      "cell_type": "code",
      "metadata": {
        "id": "ezc1R7FZ0WRn",
        "colab_type": "code",
        "colab": {}
      },
      "source": [
        "#create a dictionary of parameters \n",
        "param_grid = {'n_estimators':[500, 750, 1000],'max_features':[2, 4, 6],'random_state':[0], 'max_depth':[4,6,8]}"
      ],
      "execution_count": 0,
      "outputs": []
    },
    {
      "cell_type": "code",
      "metadata": {
        "colab_type": "code",
        "outputId": "28e27aa2-0e07-4b09-90a4-2eb7989b9578",
        "id": "_IDgUVl1uYQ-",
        "colab": {
          "base_uri": "https://localhost:8080/",
          "height": 5217
        }
      },
      "source": [
        "rfc = RandomForestClassifier()\n",
        "\n",
        "# Create gridsearch object with various combinations of parameters\n",
        "rfc_Grid = GridSearchCV(rfc, param_grid, cv = 5, scoring = 'roc_auc',refit = True, n_jobs=-1, verbose = 5)\n",
        "\n",
        "rfc_Grid.fit(x_train, y_train)"
      ],
      "execution_count": 0,
      "outputs": [
        {
          "output_type": "stream",
          "text": [
            "Fitting 5 folds for each of 27 candidates, totalling 135 fits\n",
            "[CV] max_depth=4, max_features=2, n_estimators=500, random_state=0 ...\n",
            "[CV] max_depth=4, max_features=2, n_estimators=500, random_state=0 ...\n",
            "[CV]  max_depth=4, max_features=2, n_estimators=500, random_state=0, score=0.776192325627785, total=   5.4s\n",
            "[CV] max_depth=4, max_features=2, n_estimators=500, random_state=0 ...\n",
            "[CV]  max_depth=4, max_features=2, n_estimators=500, random_state=0, score=0.7824166729415433, total=   5.5s\n",
            "[CV] max_depth=4, max_features=2, n_estimators=500, random_state=0 ...\n",
            "[CV]  max_depth=4, max_features=2, n_estimators=500, random_state=0, score=0.7522199935133441, total=   6.1s\n",
            "[CV] max_depth=4, max_features=2, n_estimators=500, random_state=0 ...\n",
            "[CV]  max_depth=4, max_features=2, n_estimators=500, random_state=0, score=0.7750149814071807, total=   6.3s\n",
            "[CV] max_depth=4, max_features=2, n_estimators=750, random_state=0 ...\n",
            "[CV]  max_depth=4, max_features=2, n_estimators=500, random_state=0, score=0.7718493736911939, total=   6.0s\n",
            "[CV] max_depth=4, max_features=2, n_estimators=750, random_state=0 ...\n",
            "[CV]  max_depth=4, max_features=2, n_estimators=750, random_state=0, score=0.7757866053181891, total=   9.1s\n",
            "[CV] max_depth=4, max_features=2, n_estimators=750, random_state=0 ...\n",
            "[CV]  max_depth=4, max_features=2, n_estimators=750, random_state=0, score=0.7823983436967874, total=   9.0s\n",
            "[CV] max_depth=4, max_features=2, n_estimators=750, random_state=0 ...\n",
            "[CV]  max_depth=4, max_features=2, n_estimators=750, random_state=0, score=0.752473078890233, total=   9.1s\n",
            "[CV] max_depth=4, max_features=2, n_estimators=750, random_state=0 ...\n",
            "[CV]  max_depth=4, max_features=2, n_estimators=750, random_state=0, score=0.7749182471555169, total=   9.0s\n",
            "[CV] max_depth=4, max_features=2, n_estimators=1000, random_state=0 ..\n",
            "[CV]  max_depth=4, max_features=2, n_estimators=750, random_state=0, score=0.7717670255590082, total=   9.1s\n",
            "[CV] max_depth=4, max_features=2, n_estimators=1000, random_state=0 ..\n",
            "[CV]  max_depth=4, max_features=2, n_estimators=1000, random_state=0, score=0.7755488205213564, total=  12.0s\n",
            "[CV] max_depth=4, max_features=2, n_estimators=1000, random_state=0 ..\n",
            "[CV]  max_depth=4, max_features=2, n_estimators=1000, random_state=0, score=0.7817878642565856, total=  12.2s\n",
            "[CV] max_depth=4, max_features=2, n_estimators=1000, random_state=0 ..\n",
            "[CV]  max_depth=4, max_features=2, n_estimators=1000, random_state=0, score=0.7524420011300402, total=  12.2s\n",
            "[CV] max_depth=4, max_features=2, n_estimators=1000, random_state=0 ..\n",
            "[CV]  max_depth=4, max_features=2, n_estimators=1000, random_state=0, score=0.7749772798526862, total=  12.2s\n",
            "[CV] max_depth=4, max_features=4, n_estimators=500, random_state=0 ...\n"
          ],
          "name": "stdout"
        },
        {
          "output_type": "stream",
          "text": [
            "[Parallel(n_jobs=-1)]: Done  14 tasks      | elapsed:  1.2min\n"
          ],
          "name": "stderr"
        },
        {
          "output_type": "stream",
          "text": [
            "[CV]  max_depth=4, max_features=2, n_estimators=1000, random_state=0, score=0.7717164261042917, total=  11.9s\n",
            "[CV] max_depth=4, max_features=4, n_estimators=500, random_state=0 ...\n",
            "[CV]  max_depth=4, max_features=4, n_estimators=500, random_state=0, score=0.7768028050679866, total=   9.3s\n",
            "[CV] max_depth=4, max_features=4, n_estimators=500, random_state=0 ...\n",
            "[CV]  max_depth=4, max_features=4, n_estimators=500, random_state=0, score=0.7830930385858673, total=   9.0s\n",
            "[CV] max_depth=4, max_features=4, n_estimators=500, random_state=0 ...\n",
            "[CV]  max_depth=4, max_features=4, n_estimators=500, random_state=0, score=0.7531091811307742, total=   9.0s\n",
            "[CV] max_depth=4, max_features=4, n_estimators=500, random_state=0 ...\n",
            "[CV]  max_depth=4, max_features=4, n_estimators=500, random_state=0, score=0.7766161399693361, total=   9.1s\n",
            "[CV] max_depth=4, max_features=4, n_estimators=750, random_state=0 ...\n",
            "[CV]  max_depth=4, max_features=4, n_estimators=500, random_state=0, score=0.773364380894175, total=   9.1s\n",
            "[CV] max_depth=4, max_features=4, n_estimators=750, random_state=0 ...\n",
            "[CV]  max_depth=4, max_features=4, n_estimators=750, random_state=0, score=0.7765562684696038, total=  13.5s\n",
            "[CV] max_depth=4, max_features=4, n_estimators=750, random_state=0 ...\n",
            "[CV]  max_depth=4, max_features=4, n_estimators=750, random_state=0, score=0.7827456085771618, total=  13.5s\n",
            "[CV] max_depth=4, max_features=4, n_estimators=750, random_state=0 ...\n",
            "[CV]  max_depth=4, max_features=4, n_estimators=750, random_state=0, score=0.7528240261502821, total=  13.5s\n",
            "[CV] max_depth=4, max_features=4, n_estimators=750, random_state=0 ...\n",
            "[CV]  max_depth=4, max_features=4, n_estimators=750, random_state=0, score=0.7761156022261113, total=  13.4s\n",
            "[CV] max_depth=4, max_features=4, n_estimators=1000, random_state=0 ..\n",
            "[CV]  max_depth=4, max_features=4, n_estimators=750, random_state=0, score=0.7732167164724044, total=  13.4s\n",
            "[CV] max_depth=4, max_features=4, n_estimators=1000, random_state=0 ..\n",
            "[CV]  max_depth=4, max_features=4, n_estimators=1000, random_state=0, score=0.7764315965795978, total=  18.0s\n",
            "[CV] max_depth=4, max_features=4, n_estimators=1000, random_state=0 ..\n",
            "[CV]  max_depth=4, max_features=4, n_estimators=1000, random_state=0, score=0.7828866281719502, total=  17.8s\n",
            "[CV] max_depth=4, max_features=4, n_estimators=1000, random_state=0 ..\n",
            "[CV]  max_depth=4, max_features=4, n_estimators=1000, random_state=0, score=0.7526759108676614, total=  18.2s\n",
            "[CV] max_depth=4, max_features=4, n_estimators=1000, random_state=0 ..\n",
            "[CV]  max_depth=4, max_features=4, n_estimators=1000, random_state=0, score=0.776046482709538, total=  18.2s\n",
            "[CV] max_depth=4, max_features=6, n_estimators=500, random_state=0 ...\n",
            "[CV]  max_depth=4, max_features=4, n_estimators=1000, random_state=0, score=0.7727947236343768, total=  18.5s\n",
            "[CV] max_depth=4, max_features=6, n_estimators=500, random_state=0 ...\n",
            "[CV]  max_depth=4, max_features=6, n_estimators=500, random_state=0, score=0.7763455647190771, total=  12.2s\n",
            "[CV] max_depth=4, max_features=6, n_estimators=500, random_state=0 ...\n",
            "[CV]  max_depth=4, max_features=6, n_estimators=500, random_state=0, score=0.784446265259509, total=  12.0s\n",
            "[CV] max_depth=4, max_features=6, n_estimators=500, random_state=0 ...\n",
            "[CV]  max_depth=4, max_features=6, n_estimators=500, random_state=0, score=0.752633592215484, total=  12.1s\n",
            "[CV] max_depth=4, max_features=6, n_estimators=500, random_state=0 ...\n",
            "[CV]  max_depth=4, max_features=6, n_estimators=500, random_state=0, score=0.7769977855297465, total=  12.0s\n",
            "[CV] max_depth=4, max_features=6, n_estimators=750, random_state=0 ...\n",
            "[CV]  max_depth=4, max_features=6, n_estimators=500, random_state=0, score=0.7734675640959497, total=  12.2s\n",
            "[CV] max_depth=4, max_features=6, n_estimators=750, random_state=0 ...\n",
            "[CV]  max_depth=4, max_features=6, n_estimators=750, random_state=0, score=0.7763103923845455, total=  17.8s\n",
            "[CV] max_depth=4, max_features=6, n_estimators=750, random_state=0 ...\n",
            "[CV]  max_depth=4, max_features=6, n_estimators=750, random_state=0, score=0.7841847019829932, total=  18.1s\n",
            "[CV] max_depth=4, max_features=6, n_estimators=750, random_state=0 ...\n",
            "[CV]  max_depth=4, max_features=6, n_estimators=750, random_state=0, score=0.7527445133702145, total=  18.0s\n",
            "[CV] max_depth=4, max_features=6, n_estimators=750, random_state=0 ...\n",
            "[CV]  max_depth=4, max_features=6, n_estimators=750, random_state=0, score=0.776808781684188, total=  17.8s\n",
            "[CV] max_depth=4, max_features=6, n_estimators=1000, random_state=0 ..\n",
            "[CV]  max_depth=4, max_features=6, n_estimators=750, random_state=0, score=0.7735775269632258, total=  18.1s\n",
            "[CV] max_depth=4, max_features=6, n_estimators=1000, random_state=0 ..\n",
            "[CV]  max_depth=4, max_features=6, n_estimators=1000, random_state=0, score=0.7762053707659444, total=  23.7s\n",
            "[CV] max_depth=4, max_features=6, n_estimators=1000, random_state=0 ..\n",
            "[CV]  max_depth=4, max_features=6, n_estimators=1000, random_state=0, score=0.7841985727628082, total=  24.0s\n",
            "[CV] max_depth=4, max_features=6, n_estimators=1000, random_state=0 ..\n",
            "[CV]  max_depth=4, max_features=6, n_estimators=1000, random_state=0, score=0.7526661577407923, total=  23.7s\n",
            "[CV] max_depth=4, max_features=6, n_estimators=1000, random_state=0 ..\n",
            "[CV]  max_depth=4, max_features=6, n_estimators=1000, random_state=0, score=0.7765433825834693, total=  23.9s\n",
            "[CV] max_depth=6, max_features=2, n_estimators=500, random_state=0 ...\n",
            "[CV]  max_depth=6, max_features=2, n_estimators=500, random_state=0, score=0.7791791668813335, total=   7.8s\n",
            "[CV] max_depth=6, max_features=2, n_estimators=500, random_state=0 ...\n",
            "[CV]  max_depth=4, max_features=6, n_estimators=1000, random_state=0, score=0.7733463569054034, total=  23.7s\n",
            "[CV] max_depth=6, max_features=2, n_estimators=500, random_state=0 ...\n",
            "[CV]  max_depth=6, max_features=2, n_estimators=500, random_state=0, score=0.7868502035041552, total=   7.8s\n",
            "[CV] max_depth=6, max_features=2, n_estimators=500, random_state=0 ...\n",
            "[CV]  max_depth=6, max_features=2, n_estimators=500, random_state=0, score=0.7545417336298724, total=   7.8s\n",
            "[CV] max_depth=6, max_features=2, n_estimators=500, random_state=0 ...\n",
            "[CV]  max_depth=6, max_features=2, n_estimators=500, random_state=0, score=0.7781286668068901, total=   7.7s\n",
            "[CV] max_depth=6, max_features=2, n_estimators=750, random_state=0 ...\n",
            "[CV]  max_depth=6, max_features=2, n_estimators=500, random_state=0, score=0.7751614883250852, total=   7.9s\n",
            "[CV] max_depth=6, max_features=2, n_estimators=750, random_state=0 ...\n",
            "[CV]  max_depth=6, max_features=2, n_estimators=750, random_state=0, score=0.7795966113024398, total=  11.8s\n",
            "[CV] max_depth=6, max_features=2, n_estimators=750, random_state=0 ...\n",
            "[CV]  max_depth=6, max_features=2, n_estimators=750, random_state=0, score=0.7865965663875337, total=  11.6s\n",
            "[CV] max_depth=6, max_features=2, n_estimators=750, random_state=0 ...\n",
            "[CV]  max_depth=6, max_features=2, n_estimators=750, random_state=0, score=0.7546911713703739, total=  11.8s\n",
            "[CV] max_depth=6, max_features=2, n_estimators=750, random_state=0 ...\n",
            "[CV]  max_depth=6, max_features=2, n_estimators=750, random_state=0, score=0.7782404486088127, total=  11.5s\n",
            "[CV] max_depth=6, max_features=2, n_estimators=1000, random_state=0 ..\n",
            "[CV]  max_depth=6, max_features=2, n_estimators=750, random_state=0, score=0.7758052258323113, total=  11.8s\n",
            "[CV] max_depth=6, max_features=2, n_estimators=1000, random_state=0 ..\n",
            "[CV]  max_depth=6, max_features=2, n_estimators=1000, random_state=0, score=0.7797548042436659, total=  15.5s\n",
            "[CV] max_depth=6, max_features=2, n_estimators=1000, random_state=0 ..\n",
            "[CV]  max_depth=6, max_features=2, n_estimators=1000, random_state=0, score=0.7863579559490455, total=  15.6s\n",
            "[CV] max_depth=6, max_features=2, n_estimators=1000, random_state=0 ..\n",
            "[CV]  max_depth=6, max_features=2, n_estimators=1000, random_state=0, score=0.7544051898537064, total=  15.5s\n",
            "[CV] max_depth=6, max_features=2, n_estimators=1000, random_state=0 ..\n",
            "[CV]  max_depth=6, max_features=2, n_estimators=1000, random_state=0, score=0.7780258143205055, total=  15.6s\n",
            "[CV] max_depth=6, max_features=4, n_estimators=500, random_state=0 ...\n",
            "[CV]  max_depth=6, max_features=2, n_estimators=1000, random_state=0, score=0.7758802982259104, total=  15.4s\n",
            "[CV] max_depth=6, max_features=4, n_estimators=500, random_state=0 ...\n",
            "[CV]  max_depth=6, max_features=4, n_estimators=500, random_state=0, score=0.7812716730934612, total=  12.3s\n",
            "[CV] max_depth=6, max_features=4, n_estimators=500, random_state=0 ...\n",
            "[CV]  max_depth=6, max_features=4, n_estimators=500, random_state=0, score=0.7892108781260445, total=  12.1s\n",
            "[CV] max_depth=6, max_features=4, n_estimators=500, random_state=0 ...\n",
            "[CV]  max_depth=6, max_features=4, n_estimators=500, random_state=0, score=0.7552403220052692, total=  12.1s\n",
            "[CV] max_depth=6, max_features=4, n_estimators=500, random_state=0 ...\n",
            "[CV]  max_depth=6, max_features=4, n_estimators=500, random_state=0, score=0.7793073364579324, total=  12.1s\n",
            "[CV] max_depth=6, max_features=4, n_estimators=750, random_state=0 ...\n",
            "[CV]  max_depth=6, max_features=4, n_estimators=500, random_state=0, score=0.7768793894200178, total=  12.2s\n",
            "[CV] max_depth=6, max_features=4, n_estimators=750, random_state=0 ...\n",
            "[CV]  max_depth=6, max_features=4, n_estimators=750, random_state=0, score=0.7812908279798728, total=  18.2s\n",
            "[CV] max_depth=6, max_features=4, n_estimators=750, random_state=0 ...\n",
            "[CV]  max_depth=6, max_features=4, n_estimators=750, random_state=0, score=0.7892316842957673, total=  18.3s\n",
            "[CV] max_depth=6, max_features=4, n_estimators=750, random_state=0 ...\n",
            "[CV]  max_depth=6, max_features=4, n_estimators=750, random_state=0, score=0.7549467363557889, total=  18.5s\n",
            "[CV] max_depth=6, max_features=4, n_estimators=750, random_state=0 ...\n"
          ],
          "name": "stdout"
        },
        {
          "output_type": "stream",
          "text": [
            "[Parallel(n_jobs=-1)]: Done  68 tasks      | elapsed:  8.3min\n"
          ],
          "name": "stderr"
        },
        {
          "output_type": "stream",
          "text": [
            "[CV]  max_depth=6, max_features=4, n_estimators=750, random_state=0, score=0.7791399944704387, total=  18.9s\n",
            "[CV] max_depth=6, max_features=4, n_estimators=1000, random_state=0 ..\n",
            "[CV]  max_depth=6, max_features=4, n_estimators=750, random_state=0, score=0.776661778693198, total=  18.2s\n",
            "[CV] max_depth=6, max_features=4, n_estimators=1000, random_state=0 ..\n",
            "[CV]  max_depth=6, max_features=4, n_estimators=1000, random_state=0, score=0.7810712072994649, total=  24.5s\n",
            "[CV] max_depth=6, max_features=4, n_estimators=1000, random_state=0 ..\n",
            "[CV]  max_depth=6, max_features=4, n_estimators=1000, random_state=0, score=0.7892356473757145, total=  24.3s\n",
            "[CV] max_depth=6, max_features=4, n_estimators=1000, random_state=0 ..\n",
            "[CV]  max_depth=6, max_features=4, n_estimators=1000, random_state=0, score=0.7549606221635345, total=  24.2s\n",
            "[CV] max_depth=6, max_features=4, n_estimators=1000, random_state=0 ..\n",
            "[CV]  max_depth=6, max_features=4, n_estimators=1000, random_state=0, score=0.7793099821810547, total=  24.6s\n",
            "[CV] max_depth=6, max_features=6, n_estimators=500, random_state=0 ...\n",
            "[CV]  max_depth=6, max_features=4, n_estimators=1000, random_state=0, score=0.7765652097992293, total=  24.1s\n",
            "[CV] max_depth=6, max_features=6, n_estimators=500, random_state=0 ...\n",
            "[CV]  max_depth=6, max_features=6, n_estimators=500, random_state=0, score=0.7803132682595606, total=  16.5s\n",
            "[CV] max_depth=6, max_features=6, n_estimators=500, random_state=0 ...\n",
            "[CV]  max_depth=6, max_features=6, n_estimators=500, random_state=0, score=0.7898885647970177, total=  16.4s\n",
            "[CV] max_depth=6, max_features=6, n_estimators=500, random_state=0 ...\n",
            "[CV]  max_depth=6, max_features=6, n_estimators=500, random_state=0, score=0.7549341730059236, total=  16.6s\n",
            "[CV] max_depth=6, max_features=6, n_estimators=500, random_state=0 ...\n",
            "[CV]  max_depth=6, max_features=6, n_estimators=500, random_state=0, score=0.780418705527048, total=  16.4s\n",
            "[CV] max_depth=6, max_features=6, n_estimators=750, random_state=0 ...\n",
            "[CV]  max_depth=6, max_features=6, n_estimators=500, random_state=0, score=0.777327178058489, total=  16.5s\n",
            "[CV] max_depth=6, max_features=6, n_estimators=750, random_state=0 ...\n",
            "[CV]  max_depth=6, max_features=6, n_estimators=750, random_state=0, score=0.7804097032049429, total=  24.3s\n",
            "[CV] max_depth=6, max_features=6, n_estimators=750, random_state=0 ...\n",
            "[CV]  max_depth=6, max_features=6, n_estimators=750, random_state=0, score=0.7896772005331664, total=  24.7s\n",
            "[CV] max_depth=6, max_features=6, n_estimators=750, random_state=0 ...\n",
            "[CV]  max_depth=6, max_features=6, n_estimators=750, random_state=0, score=0.7551226232539009, total=  24.5s\n",
            "[CV] max_depth=6, max_features=6, n_estimators=750, random_state=0 ...\n",
            "[CV]  max_depth=6, max_features=6, n_estimators=750, random_state=0, score=0.7802416074355403, total=  24.9s\n",
            "[CV] max_depth=6, max_features=6, n_estimators=1000, random_state=0 ..\n",
            "[CV]  max_depth=6, max_features=6, n_estimators=750, random_state=0, score=0.7772686414344053, total=  24.4s\n",
            "[CV] max_depth=6, max_features=6, n_estimators=1000, random_state=0 ..\n",
            "[CV]  max_depth=6, max_features=6, n_estimators=1000, random_state=0, score=0.7808365599409237, total=  32.8s\n",
            "[CV] max_depth=6, max_features=6, n_estimators=1000, random_state=0 ..\n",
            "[CV]  max_depth=6, max_features=6, n_estimators=1000, random_state=0, score=0.7897056026061214, total=  33.1s\n",
            "[CV] max_depth=6, max_features=6, n_estimators=1000, random_state=0 ..\n",
            "[CV]  max_depth=6, max_features=6, n_estimators=1000, random_state=0, score=0.7551460968812806, total=  32.7s\n",
            "[CV] max_depth=6, max_features=6, n_estimators=1000, random_state=0 ..\n",
            "[CV]  max_depth=6, max_features=6, n_estimators=1000, random_state=0, score=0.7803348691756059, total=  33.0s\n",
            "[CV] max_depth=8, max_features=2, n_estimators=500, random_state=0 ...\n",
            "[CV]  max_depth=8, max_features=2, n_estimators=500, random_state=0, score=0.7822718553951389, total=   9.5s\n",
            "[CV] max_depth=8, max_features=2, n_estimators=500, random_state=0 ...\n",
            "[CV]  max_depth=6, max_features=6, n_estimators=1000, random_state=0, score=0.7771727339712171, total=  32.5s\n",
            "[CV] max_depth=8, max_features=2, n_estimators=500, random_state=0 ...\n",
            "[CV]  max_depth=8, max_features=2, n_estimators=500, random_state=0, score=0.7898410078376511, total=   9.7s\n",
            "[CV] max_depth=8, max_features=2, n_estimators=500, random_state=0 ...\n",
            "[CV]  max_depth=8, max_features=2, n_estimators=500, random_state=0, score=0.7563093638944534, total=   9.5s\n",
            "[CV] max_depth=8, max_features=2, n_estimators=500, random_state=0 ...\n",
            "[CV]  max_depth=8, max_features=2, n_estimators=500, random_state=0, score=0.7805055183170027, total=   9.6s\n",
            "[CV] max_depth=8, max_features=2, n_estimators=750, random_state=0 ...\n",
            "[CV]  max_depth=8, max_features=2, n_estimators=500, random_state=0, score=0.7780264757512861, total=   9.8s\n",
            "[CV] max_depth=8, max_features=2, n_estimators=750, random_state=0 ...\n",
            "[CV]  max_depth=8, max_features=2, n_estimators=750, random_state=0, score=0.7822512143537472, total=  14.6s\n",
            "[CV] max_depth=8, max_features=2, n_estimators=750, random_state=0 ...\n",
            "[CV]  max_depth=8, max_features=2, n_estimators=750, random_state=0, score=0.7900216582319115, total=  14.6s\n",
            "[CV] max_depth=8, max_features=2, n_estimators=750, random_state=0 ...\n",
            "[CV]  max_depth=8, max_features=2, n_estimators=750, random_state=0, score=0.7561797630221601, total=  14.1s\n",
            "[CV] max_depth=8, max_features=2, n_estimators=750, random_state=0 ...\n",
            "[CV]  max_depth=8, max_features=2, n_estimators=750, random_state=0, score=0.7803862954187981, total=  14.3s\n",
            "[CV] max_depth=8, max_features=2, n_estimators=1000, random_state=0 ..\n",
            "[CV]  max_depth=8, max_features=2, n_estimators=750, random_state=0, score=0.7784006802154149, total=  14.2s\n",
            "[CV] max_depth=8, max_features=2, n_estimators=1000, random_state=0 ..\n",
            "[CV]  max_depth=8, max_features=2, n_estimators=1000, random_state=0, score=0.7823159446595517, total=  19.0s\n",
            "[CV] max_depth=8, max_features=2, n_estimators=1000, random_state=0 ..\n",
            "[CV]  max_depth=8, max_features=2, n_estimators=1000, random_state=0, score=0.790076480837848, total=  18.9s\n",
            "[CV] max_depth=8, max_features=2, n_estimators=1000, random_state=0 ..\n",
            "[CV]  max_depth=8, max_features=2, n_estimators=1000, random_state=0, score=0.7561430648159752, total=  19.1s\n",
            "[CV] max_depth=8, max_features=2, n_estimators=1000, random_state=0 ..\n",
            "[CV]  max_depth=8, max_features=2, n_estimators=1000, random_state=0, score=0.7804163905193158, total=  18.8s\n",
            "[CV] max_depth=8, max_features=4, n_estimators=500, random_state=0 ...\n",
            "[CV]  max_depth=8, max_features=2, n_estimators=1000, random_state=0, score=0.7785690143490794, total=  19.2s\n",
            "[CV] max_depth=8, max_features=4, n_estimators=500, random_state=0 ...\n",
            "[CV]  max_depth=8, max_features=4, n_estimators=500, random_state=0, score=0.7845063719720419, total=  15.3s\n",
            "[CV] max_depth=8, max_features=4, n_estimators=500, random_state=0 ...\n",
            "[CV]  max_depth=8, max_features=4, n_estimators=500, random_state=0, score=0.7924597780411025, total=  15.4s\n",
            "[CV] max_depth=8, max_features=4, n_estimators=500, random_state=0 ...\n",
            "[CV]  max_depth=8, max_features=4, n_estimators=500, random_state=0, score=0.7572461599955829, total=  15.2s\n",
            "[CV] max_depth=8, max_features=4, n_estimators=500, random_state=0 ...\n",
            "[CV]  max_depth=8, max_features=4, n_estimators=500, random_state=0, score=0.7822361519544618, total=  15.4s\n",
            "[CV] max_depth=8, max_features=4, n_estimators=750, random_state=0 ...\n",
            "[CV]  max_depth=8, max_features=4, n_estimators=500, random_state=0, score=0.778822342338052, total=  15.2s\n",
            "[CV] max_depth=8, max_features=4, n_estimators=750, random_state=0 ...\n",
            "[CV]  max_depth=8, max_features=4, n_estimators=750, random_state=0, score=0.7840109869786402, total=  23.0s\n",
            "[CV] max_depth=8, max_features=4, n_estimators=750, random_state=0 ...\n",
            "[CV]  max_depth=8, max_features=4, n_estimators=750, random_state=0, score=0.7924525123945325, total=  22.7s\n",
            "[CV] max_depth=8, max_features=4, n_estimators=750, random_state=0 ...\n",
            "[CV]  max_depth=8, max_features=4, n_estimators=750, random_state=0, score=0.7573352605952846, total=  22.8s\n",
            "[CV] max_depth=8, max_features=4, n_estimators=750, random_state=0 ...\n",
            "[CV]  max_depth=8, max_features=4, n_estimators=750, random_state=0, score=0.7824911335203859, total=  22.9s\n",
            "[CV] max_depth=8, max_features=4, n_estimators=1000, random_state=0 ..\n"
          ],
          "name": "stdout"
        },
        {
          "output_type": "error",
          "ename": "KeyboardInterrupt",
          "evalue": "ignored",
          "traceback": [
            "\u001b[0;31m---------------------------------------------------------------------------\u001b[0m",
            "\u001b[0;31mKeyboardInterrupt\u001b[0m                         Traceback (most recent call last)",
            "\u001b[0;32m<ipython-input-32-d389e3fa5f51>\u001b[0m in \u001b[0;36m<module>\u001b[0;34m()\u001b[0m\n\u001b[1;32m      4\u001b[0m \u001b[0mrfc_Grid\u001b[0m \u001b[0;34m=\u001b[0m \u001b[0mGridSearchCV\u001b[0m\u001b[0;34m(\u001b[0m\u001b[0mrfc\u001b[0m\u001b[0;34m,\u001b[0m \u001b[0mparam_grid\u001b[0m\u001b[0;34m,\u001b[0m \u001b[0mcv\u001b[0m \u001b[0;34m=\u001b[0m \u001b[0;36m5\u001b[0m\u001b[0;34m,\u001b[0m \u001b[0mscoring\u001b[0m \u001b[0;34m=\u001b[0m \u001b[0;34m'roc_auc'\u001b[0m\u001b[0;34m,\u001b[0m\u001b[0mrefit\u001b[0m \u001b[0;34m=\u001b[0m \u001b[0;32mTrue\u001b[0m\u001b[0;34m,\u001b[0m \u001b[0mn_jobs\u001b[0m\u001b[0;34m=\u001b[0m\u001b[0;34m-\u001b[0m\u001b[0;36m1\u001b[0m\u001b[0;34m,\u001b[0m \u001b[0mverbose\u001b[0m \u001b[0;34m=\u001b[0m \u001b[0;36m5\u001b[0m\u001b[0;34m)\u001b[0m\u001b[0;34m\u001b[0m\u001b[0m\n\u001b[1;32m      5\u001b[0m \u001b[0;34m\u001b[0m\u001b[0m\n\u001b[0;32m----> 6\u001b[0;31m \u001b[0mrfc_Grid\u001b[0m\u001b[0;34m.\u001b[0m\u001b[0mfit\u001b[0m\u001b[0;34m(\u001b[0m\u001b[0mx_train\u001b[0m\u001b[0;34m,\u001b[0m \u001b[0my_train\u001b[0m\u001b[0;34m)\u001b[0m\u001b[0;34m\u001b[0m\u001b[0m\n\u001b[0m",
            "\u001b[0;32m/usr/local/lib/python3.6/dist-packages/sklearn/model_selection/_search.py\u001b[0m in \u001b[0;36mfit\u001b[0;34m(self, X, y, groups, **fit_params)\u001b[0m\n\u001b[1;32m    638\u001b[0m                                   error_score=self.error_score)\n\u001b[1;32m    639\u001b[0m           for parameters, (train, test) in product(candidate_params,\n\u001b[0;32m--> 640\u001b[0;31m                                                    cv.split(X, y, groups)))\n\u001b[0m\u001b[1;32m    641\u001b[0m \u001b[0;34m\u001b[0m\u001b[0m\n\u001b[1;32m    642\u001b[0m         \u001b[0;31m# if one choose to see train score, \"out\" will contain train score info\u001b[0m\u001b[0;34m\u001b[0m\u001b[0;34m\u001b[0m\u001b[0m\n",
            "\u001b[0;32m/usr/local/lib/python3.6/dist-packages/sklearn/externals/joblib/parallel.py\u001b[0m in \u001b[0;36m__call__\u001b[0;34m(self, iterable)\u001b[0m\n\u001b[1;32m    787\u001b[0m                 \u001b[0;31m# consumption.\u001b[0m\u001b[0;34m\u001b[0m\u001b[0;34m\u001b[0m\u001b[0m\n\u001b[1;32m    788\u001b[0m                 \u001b[0mself\u001b[0m\u001b[0;34m.\u001b[0m\u001b[0m_iterating\u001b[0m \u001b[0;34m=\u001b[0m \u001b[0;32mFalse\u001b[0m\u001b[0;34m\u001b[0m\u001b[0m\n\u001b[0;32m--> 789\u001b[0;31m             \u001b[0mself\u001b[0m\u001b[0;34m.\u001b[0m\u001b[0mretrieve\u001b[0m\u001b[0;34m(\u001b[0m\u001b[0;34m)\u001b[0m\u001b[0;34m\u001b[0m\u001b[0m\n\u001b[0m\u001b[1;32m    790\u001b[0m             \u001b[0;31m# Make sure that we get a last message telling us we are done\u001b[0m\u001b[0;34m\u001b[0m\u001b[0;34m\u001b[0m\u001b[0m\n\u001b[1;32m    791\u001b[0m             \u001b[0melapsed_time\u001b[0m \u001b[0;34m=\u001b[0m \u001b[0mtime\u001b[0m\u001b[0;34m.\u001b[0m\u001b[0mtime\u001b[0m\u001b[0;34m(\u001b[0m\u001b[0;34m)\u001b[0m \u001b[0;34m-\u001b[0m \u001b[0mself\u001b[0m\u001b[0;34m.\u001b[0m\u001b[0m_start_time\u001b[0m\u001b[0;34m\u001b[0m\u001b[0m\n",
            "\u001b[0;32m/usr/local/lib/python3.6/dist-packages/sklearn/externals/joblib/parallel.py\u001b[0m in \u001b[0;36mretrieve\u001b[0;34m(self)\u001b[0m\n\u001b[1;32m    697\u001b[0m             \u001b[0;32mtry\u001b[0m\u001b[0;34m:\u001b[0m\u001b[0;34m\u001b[0m\u001b[0m\n\u001b[1;32m    698\u001b[0m                 \u001b[0;32mif\u001b[0m \u001b[0mgetattr\u001b[0m\u001b[0;34m(\u001b[0m\u001b[0mself\u001b[0m\u001b[0;34m.\u001b[0m\u001b[0m_backend\u001b[0m\u001b[0;34m,\u001b[0m \u001b[0;34m'supports_timeout'\u001b[0m\u001b[0;34m,\u001b[0m \u001b[0;32mFalse\u001b[0m\u001b[0;34m)\u001b[0m\u001b[0;34m:\u001b[0m\u001b[0;34m\u001b[0m\u001b[0m\n\u001b[0;32m--> 699\u001b[0;31m                     \u001b[0mself\u001b[0m\u001b[0;34m.\u001b[0m\u001b[0m_output\u001b[0m\u001b[0;34m.\u001b[0m\u001b[0mextend\u001b[0m\u001b[0;34m(\u001b[0m\u001b[0mjob\u001b[0m\u001b[0;34m.\u001b[0m\u001b[0mget\u001b[0m\u001b[0;34m(\u001b[0m\u001b[0mtimeout\u001b[0m\u001b[0;34m=\u001b[0m\u001b[0mself\u001b[0m\u001b[0;34m.\u001b[0m\u001b[0mtimeout\u001b[0m\u001b[0;34m)\u001b[0m\u001b[0;34m)\u001b[0m\u001b[0;34m\u001b[0m\u001b[0m\n\u001b[0m\u001b[1;32m    700\u001b[0m                 \u001b[0;32melse\u001b[0m\u001b[0;34m:\u001b[0m\u001b[0;34m\u001b[0m\u001b[0m\n\u001b[1;32m    701\u001b[0m                     \u001b[0mself\u001b[0m\u001b[0;34m.\u001b[0m\u001b[0m_output\u001b[0m\u001b[0;34m.\u001b[0m\u001b[0mextend\u001b[0m\u001b[0;34m(\u001b[0m\u001b[0mjob\u001b[0m\u001b[0;34m.\u001b[0m\u001b[0mget\u001b[0m\u001b[0;34m(\u001b[0m\u001b[0;34m)\u001b[0m\u001b[0;34m)\u001b[0m\u001b[0;34m\u001b[0m\u001b[0m\n",
            "\u001b[0;32m/usr/lib/python3.6/multiprocessing/pool.py\u001b[0m in \u001b[0;36mget\u001b[0;34m(self, timeout)\u001b[0m\n\u001b[1;32m    636\u001b[0m \u001b[0;34m\u001b[0m\u001b[0m\n\u001b[1;32m    637\u001b[0m     \u001b[0;32mdef\u001b[0m \u001b[0mget\u001b[0m\u001b[0;34m(\u001b[0m\u001b[0mself\u001b[0m\u001b[0;34m,\u001b[0m \u001b[0mtimeout\u001b[0m\u001b[0;34m=\u001b[0m\u001b[0;32mNone\u001b[0m\u001b[0;34m)\u001b[0m\u001b[0;34m:\u001b[0m\u001b[0;34m\u001b[0m\u001b[0m\n\u001b[0;32m--> 638\u001b[0;31m         \u001b[0mself\u001b[0m\u001b[0;34m.\u001b[0m\u001b[0mwait\u001b[0m\u001b[0;34m(\u001b[0m\u001b[0mtimeout\u001b[0m\u001b[0;34m)\u001b[0m\u001b[0;34m\u001b[0m\u001b[0m\n\u001b[0m\u001b[1;32m    639\u001b[0m         \u001b[0;32mif\u001b[0m \u001b[0;32mnot\u001b[0m \u001b[0mself\u001b[0m\u001b[0;34m.\u001b[0m\u001b[0mready\u001b[0m\u001b[0;34m(\u001b[0m\u001b[0;34m)\u001b[0m\u001b[0;34m:\u001b[0m\u001b[0;34m\u001b[0m\u001b[0m\n\u001b[1;32m    640\u001b[0m             \u001b[0;32mraise\u001b[0m \u001b[0mTimeoutError\u001b[0m\u001b[0;34m\u001b[0m\u001b[0m\n",
            "\u001b[0;32m/usr/lib/python3.6/multiprocessing/pool.py\u001b[0m in \u001b[0;36mwait\u001b[0;34m(self, timeout)\u001b[0m\n\u001b[1;32m    633\u001b[0m \u001b[0;34m\u001b[0m\u001b[0m\n\u001b[1;32m    634\u001b[0m     \u001b[0;32mdef\u001b[0m \u001b[0mwait\u001b[0m\u001b[0;34m(\u001b[0m\u001b[0mself\u001b[0m\u001b[0;34m,\u001b[0m \u001b[0mtimeout\u001b[0m\u001b[0;34m=\u001b[0m\u001b[0;32mNone\u001b[0m\u001b[0;34m)\u001b[0m\u001b[0;34m:\u001b[0m\u001b[0;34m\u001b[0m\u001b[0m\n\u001b[0;32m--> 635\u001b[0;31m         \u001b[0mself\u001b[0m\u001b[0;34m.\u001b[0m\u001b[0m_event\u001b[0m\u001b[0;34m.\u001b[0m\u001b[0mwait\u001b[0m\u001b[0;34m(\u001b[0m\u001b[0mtimeout\u001b[0m\u001b[0;34m)\u001b[0m\u001b[0;34m\u001b[0m\u001b[0m\n\u001b[0m\u001b[1;32m    636\u001b[0m \u001b[0;34m\u001b[0m\u001b[0m\n\u001b[1;32m    637\u001b[0m     \u001b[0;32mdef\u001b[0m \u001b[0mget\u001b[0m\u001b[0;34m(\u001b[0m\u001b[0mself\u001b[0m\u001b[0;34m,\u001b[0m \u001b[0mtimeout\u001b[0m\u001b[0;34m=\u001b[0m\u001b[0;32mNone\u001b[0m\u001b[0;34m)\u001b[0m\u001b[0;34m:\u001b[0m\u001b[0;34m\u001b[0m\u001b[0m\n",
            "\u001b[0;32m/usr/lib/python3.6/threading.py\u001b[0m in \u001b[0;36mwait\u001b[0;34m(self, timeout)\u001b[0m\n\u001b[1;32m    549\u001b[0m             \u001b[0msignaled\u001b[0m \u001b[0;34m=\u001b[0m \u001b[0mself\u001b[0m\u001b[0;34m.\u001b[0m\u001b[0m_flag\u001b[0m\u001b[0;34m\u001b[0m\u001b[0m\n\u001b[1;32m    550\u001b[0m             \u001b[0;32mif\u001b[0m \u001b[0;32mnot\u001b[0m \u001b[0msignaled\u001b[0m\u001b[0;34m:\u001b[0m\u001b[0;34m\u001b[0m\u001b[0m\n\u001b[0;32m--> 551\u001b[0;31m                 \u001b[0msignaled\u001b[0m \u001b[0;34m=\u001b[0m \u001b[0mself\u001b[0m\u001b[0;34m.\u001b[0m\u001b[0m_cond\u001b[0m\u001b[0;34m.\u001b[0m\u001b[0mwait\u001b[0m\u001b[0;34m(\u001b[0m\u001b[0mtimeout\u001b[0m\u001b[0;34m)\u001b[0m\u001b[0;34m\u001b[0m\u001b[0m\n\u001b[0m\u001b[1;32m    552\u001b[0m             \u001b[0;32mreturn\u001b[0m \u001b[0msignaled\u001b[0m\u001b[0;34m\u001b[0m\u001b[0m\n\u001b[1;32m    553\u001b[0m \u001b[0;34m\u001b[0m\u001b[0m\n",
            "\u001b[0;32m/usr/lib/python3.6/threading.py\u001b[0m in \u001b[0;36mwait\u001b[0;34m(self, timeout)\u001b[0m\n\u001b[1;32m    293\u001b[0m         \u001b[0;32mtry\u001b[0m\u001b[0;34m:\u001b[0m    \u001b[0;31m# restore state no matter what (e.g., KeyboardInterrupt)\u001b[0m\u001b[0;34m\u001b[0m\u001b[0m\n\u001b[1;32m    294\u001b[0m             \u001b[0;32mif\u001b[0m \u001b[0mtimeout\u001b[0m \u001b[0;32mis\u001b[0m \u001b[0;32mNone\u001b[0m\u001b[0;34m:\u001b[0m\u001b[0;34m\u001b[0m\u001b[0m\n\u001b[0;32m--> 295\u001b[0;31m                 \u001b[0mwaiter\u001b[0m\u001b[0;34m.\u001b[0m\u001b[0macquire\u001b[0m\u001b[0;34m(\u001b[0m\u001b[0;34m)\u001b[0m\u001b[0;34m\u001b[0m\u001b[0m\n\u001b[0m\u001b[1;32m    296\u001b[0m                 \u001b[0mgotit\u001b[0m \u001b[0;34m=\u001b[0m \u001b[0;32mTrue\u001b[0m\u001b[0;34m\u001b[0m\u001b[0m\n\u001b[1;32m    297\u001b[0m             \u001b[0;32melse\u001b[0m\u001b[0;34m:\u001b[0m\u001b[0;34m\u001b[0m\u001b[0m\n",
            "\u001b[0;31mKeyboardInterrupt\u001b[0m: "
          ]
        }
      ]
    },
    {
      "cell_type": "code",
      "metadata": {
        "id": "WJ3N5bZs1Shh",
        "colab_type": "code",
        "outputId": "e5c82ee5-1574-488d-ddae-98a7a5f22a78",
        "colab": {
          "base_uri": "https://localhost:8080/",
          "height": 35
        }
      },
      "source": [
        "rfc_Grid.best_params_"
      ],
      "execution_count": 0,
      "outputs": [
        {
          "output_type": "execute_result",
          "data": {
            "text/plain": [
              "{'max_features': 2, 'n_estimators': 1000, 'random_state': 0}"
            ]
          },
          "metadata": {
            "tags": []
          },
          "execution_count": 181
        }
      ]
    },
    {
      "cell_type": "code",
      "metadata": {
        "id": "i2aDvLAZ03yD",
        "colab_type": "code",
        "outputId": "b1fa7ae8-74cf-445d-cef0-239602d80303",
        "colab": {
          "base_uri": "https://localhost:8080/",
          "height": 124
        }
      },
      "source": [
        "rfc_Grid.best_estimator_"
      ],
      "execution_count": 0,
      "outputs": [
        {
          "output_type": "execute_result",
          "data": {
            "text/plain": [
              "RandomForestClassifier(bootstrap=True, class_weight=None, criterion='gini',\n",
              "            max_depth=None, max_features=2, max_leaf_nodes=None,\n",
              "            min_impurity_decrease=0.0, min_impurity_split=None,\n",
              "            min_samples_leaf=1, min_samples_split=2,\n",
              "            min_weight_fraction_leaf=0.0, n_estimators=1000, n_jobs=1,\n",
              "            oob_score=False, random_state=0, verbose=0, warm_start=False)"
            ]
          },
          "metadata": {
            "tags": []
          },
          "execution_count": 182
        }
      ]
    },
    {
      "cell_type": "code",
      "metadata": {
        "colab_type": "code",
        "id": "-DmX5OnSuYRK",
        "colab": {}
      },
      "source": [
        "y_train_predict_grid = rfc_Grid.best_estimator_.predict(x_train)\n",
        "y_test_predict_grid = rfc_Grid.best_estimator_.predict(x_test)\n",
        "\n",
        "y_train_predict_proba_grid = rfc_Grid.best_estimator_.predict_proba(x_train)[:,1]\n",
        "y_test_predict_proba_grid = rfc_Grid.best_estimator_.predict_proba(x_test)[:,1]"
      ],
      "execution_count": 0,
      "outputs": []
    },
    {
      "cell_type": "markdown",
      "metadata": {
        "id": "oaRs4XEKPNcN",
        "colab_type": "text"
      },
      "source": [
        "**Save the best model as a Pickle object.**"
      ]
    },
    {
      "cell_type": "code",
      "metadata": {
        "id": "rbU6nuzYO1t5",
        "colab_type": "code",
        "colab": {}
      },
      "source": [
        "# where do I want to store this file?\n",
        "classifier_pkl_path = '/content/gdrive/My Drive/UChicago/Machine Learning/best_classifier.pkl'\n",
        "\n",
        "# Open the file to save as pkl file\n",
        "classifier_model_pkl = open(classifier_pkl_path, 'wb')\n",
        "pickle.dump(rfc_Grid.best_estimator_, classifier_model_pkl)\n",
        "\n",
        "# Close the pickle instances\n",
        "classifier_model_pkl.close()"
      ],
      "execution_count": 0,
      "outputs": []
    },
    {
      "cell_type": "markdown",
      "metadata": {
        "colab_type": "text",
        "id": "KPL0LNy8uYRR"
      },
      "source": [
        "#### Model Evaluation"
      ]
    },
    {
      "cell_type": "code",
      "metadata": {
        "colab_type": "code",
        "outputId": "f79b6d50-c064-4426-cb0f-a1e5fa42f7b7",
        "id": "lh1-XVO-uYRX",
        "colab": {
          "base_uri": "https://localhost:8080/",
          "height": 53
        }
      },
      "source": [
        "print(accuracy_score(y_train, y_train_predict_grid))\n",
        "print(accuracy_score(y_test, y_test_predict_grid))"
      ],
      "execution_count": 0,
      "outputs": [
        {
          "output_type": "stream",
          "text": [
            "0.9994761904761905\n",
            "0.8094444444444444\n"
          ],
          "name": "stdout"
        }
      ]
    },
    {
      "cell_type": "code",
      "metadata": {
        "colab_type": "code",
        "outputId": "67c6a3a5-d42d-4e4f-92ec-bedb88c31cf5",
        "id": "m_mANIleuYRe",
        "colab": {
          "base_uri": "https://localhost:8080/",
          "height": 53
        }
      },
      "source": [
        "confusion_matrix(y_train, y_train_predict_grid)"
      ],
      "execution_count": 0,
      "outputs": [
        {
          "output_type": "execute_result",
          "data": {
            "text/plain": [
              "array([[16379,     4],\n",
              "       [    7,  4610]])"
            ]
          },
          "metadata": {
            "tags": []
          },
          "execution_count": 191
        }
      ]
    },
    {
      "cell_type": "code",
      "metadata": {
        "colab_type": "code",
        "outputId": "b817a519-6d49-401a-9a2e-b7dacafe1090",
        "id": "GAWLRMF6uYRm",
        "colab": {
          "base_uri": "https://localhost:8080/",
          "height": 53
        }
      },
      "source": [
        "confusion_matrix(y_test, y_test_predict_grid)"
      ],
      "execution_count": 0,
      "outputs": [
        {
          "output_type": "execute_result",
          "data": {
            "text/plain": [
              "array([[6637,  344],\n",
              "       [1371,  648]])"
            ]
          },
          "metadata": {
            "tags": []
          },
          "execution_count": 192
        }
      ]
    },
    {
      "cell_type": "code",
      "metadata": {
        "id": "p_myjZcDGQ2p",
        "colab_type": "code",
        "outputId": "b853cb51-c46d-402b-dcfb-f41676e8c134",
        "colab": {
          "base_uri": "https://localhost:8080/",
          "height": 141
        }
      },
      "source": [
        "print(classification_report(y_train, y_train_predict_grid))"
      ],
      "execution_count": 0,
      "outputs": [
        {
          "output_type": "stream",
          "text": [
            "             precision    recall  f1-score   support\n",
            "\n",
            "          0       1.00      1.00      1.00     16383\n",
            "          1       1.00      1.00      1.00      4617\n",
            "\n",
            "avg / total       1.00      1.00      1.00     21000\n",
            "\n"
          ],
          "name": "stdout"
        }
      ]
    },
    {
      "cell_type": "code",
      "metadata": {
        "id": "QPeMdR8sGQpq",
        "colab_type": "code",
        "outputId": "b219ff23-91d8-4627-bb66-d99f8779bb57",
        "colab": {
          "base_uri": "https://localhost:8080/",
          "height": 138
        }
      },
      "source": [
        "print(classification_report(y_test, y_test_predict_grid))"
      ],
      "execution_count": 0,
      "outputs": [
        {
          "output_type": "stream",
          "text": [
            "             precision    recall  f1-score   support\n",
            "\n",
            "          0       0.83      0.95      0.89      6981\n",
            "          1       0.65      0.32      0.43      2019\n",
            "\n",
            "avg / total       0.79      0.81      0.78      9000\n",
            "\n"
          ],
          "name": "stdout"
        }
      ]
    },
    {
      "cell_type": "code",
      "metadata": {
        "colab_type": "code",
        "outputId": "f5bc1747-cdd7-494a-885d-f2be7cdd86d2",
        "id": "Elyk3OK2uYRs",
        "colab": {
          "base_uri": "https://localhost:8080/",
          "height": 53
        }
      },
      "source": [
        "# calculate roc_auc_score\n",
        "print(roc_auc_score(y_train, y_train_predict_proba_grid))\n",
        "print(roc_auc_score(y_test, y_test_predict_proba_grid))"
      ],
      "execution_count": 0,
      "outputs": [
        {
          "output_type": "stream",
          "text": [
            "0.9999992001619348\n",
            "0.7659348352235201\n"
          ],
          "name": "stdout"
        }
      ]
    },
    {
      "cell_type": "markdown",
      "metadata": {
        "id": "Q0G-GZXnC54C",
        "colab_type": "text"
      },
      "source": [
        "### Model Comparison"
      ]
    },
    {
      "cell_type": "markdown",
      "metadata": {
        "id": "-3r7pCaZDLOk",
        "colab_type": "text"
      },
      "source": [
        "The best parameters from the grid search are: **'max_features': 2, 'n_estimators': 1000**\n",
        "\n",
        "The model from grid search performs better in comparison to how the base model performs, as observed from the confusion matrices and the AUC score."
      ]
    },
    {
      "cell_type": "markdown",
      "metadata": {
        "id": "pEBdISi-AFO3",
        "colab_type": "text"
      },
      "source": [
        "## Feature Importance"
      ]
    },
    {
      "cell_type": "code",
      "metadata": {
        "id": "w3J5bLSsA6xJ",
        "colab_type": "code",
        "outputId": "ae547bd4-dd30-4525-c7d7-4ec828d3317b",
        "colab": {
          "base_uri": "https://localhost:8080/",
          "height": 568
        }
      },
      "source": [
        "list(zip(list(x_train.columns.values), [round(i, 5) for i in rfc_Grid.best_estimator_.feature_importances_]))"
      ],
      "execution_count": 0,
      "outputs": [
        {
          "output_type": "execute_result",
          "data": {
            "text/plain": [
              "[('EDUCATION_1', 2e-05),\n",
              " ('EDUCATION_2', 0.00754),\n",
              " ('EDUCATION_3', 0.00841),\n",
              " ('EDUCATION_4', 0.00679),\n",
              " ('EDUCATION_5', 0.00036),\n",
              " ('EDUCATION_6', 0.00107),\n",
              " ('EDUCATION_7', 0.00038),\n",
              " ('MARRIAGE_1', 0.00039),\n",
              " ('MARRIAGE_2', 0.00761),\n",
              " ('MARRIAGE_3', 0.00756),\n",
              " ('MARRIAGE_4', 0.00151),\n",
              " ('LIMIT_BAL', 0.06358),\n",
              " ('SEX', 0.01196),\n",
              " ('AGE', 0.06391),\n",
              " ('PAY_0', 0.07978),\n",
              " ('PAY_2', 0.04137),\n",
              " ('PAY_3', 0.02825),\n",
              " ('PAY_4', 0.02605),\n",
              " ('PAY_5', 0.02549),\n",
              " ('PAY_6', 0.02219),\n",
              " ('BILL_AMT1', 0.05704),\n",
              " ('BILL_AMT2', 0.05354),\n",
              " ('BILL_AMT3', 0.05197),\n",
              " ('BILL_AMT4', 0.05105),\n",
              " ('BILL_AMT5', 0.05012),\n",
              " ('BILL_AMT6', 0.05026),\n",
              " ('PAY_AMT1', 0.05174),\n",
              " ('PAY_AMT2', 0.04808),\n",
              " ('PAY_AMT3', 0.04629),\n",
              " ('PAY_AMT4', 0.04448),\n",
              " ('PAY_AMT5', 0.04461),\n",
              " ('PAY_AMT6', 0.04658)]"
            ]
          },
          "metadata": {
            "tags": []
          },
          "execution_count": 207
        }
      ]
    },
    {
      "cell_type": "code",
      "metadata": {
        "id": "XF8G6AcUEk04",
        "colab_type": "code",
        "colab": {}
      },
      "source": [
        "label = x_train.columns.values\n",
        "feature_imp = rfc_Grid.best_estimator_.feature_importances_"
      ],
      "execution_count": 0,
      "outputs": []
    },
    {
      "cell_type": "code",
      "metadata": {
        "id": "rnuXgC0aD_q6",
        "colab_type": "code",
        "outputId": "6e9ef6ac-84be-47c5-da71-3b7a6ad9b684",
        "colab": {
          "base_uri": "https://localhost:8080/",
          "height": 361
        }
      },
      "source": [
        "index = np.arange(len(label))\n",
        "plt.barh(index, feature_imp)\n",
        "plt.ylabel('features')\n",
        "plt.xlabel('feature importance')\n",
        "plt.yticks(index, label)\n",
        "plt.show()"
      ],
      "execution_count": 0,
      "outputs": [
        {
          "output_type": "display_data",
          "data": {
            "image/png": "[encoded data removed]",
            "text/plain": [
              "<matplotlib.figure.Figure at 0x7fb2b0eefac8>"
            ]
          },
          "metadata": {
            "tags": []
          }
        }
      ]
    },
    {
      "cell_type": "markdown",
      "metadata": {
        "id": "0Qlm2KNCFdtq",
        "colab_type": "text"
      },
      "source": [
        "The top 5 features from this model are:\n",
        "\n",
        "* PAY_0\n",
        "* AGE\n",
        "* LIMIT_BAL\n",
        "* BILL_AMT1\n",
        "* BILL_AMT2"
      ]
    },
    {
      "cell_type": "code",
      "metadata": {
        "id": "s9moQENguvAw",
        "colab_type": "code",
        "outputId": "79b0996c-3fc3-4215-cc1f-de94d5bf1c2a",
        "colab": {
          "base_uri": "https://localhost:8080/",
          "height": 53
        }
      },
      "source": [
        "!jupyter nbconvert --to html '/content/gdrive/My Drive/Colab Notebooks/MLAssignment4.ipynb'"
      ],
      "execution_count": 0,
      "outputs": [
        {
          "output_type": "stream",
          "text": [
            "[NbConvertApp] Converting notebook /content/gdrive/My Drive/Colab Notebooks/MLAssignment4.ipynb to html\n",
            "[NbConvertApp] Writing 388333 bytes to /content/gdrive/My Drive/Colab Notebooks/MLAssignment4.html\n"
          ],
          "name": "stdout"
        }
      ]
    }
  ]
}